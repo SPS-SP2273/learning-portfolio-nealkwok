{
 "cells": [
  {
   "cell_type": "markdown",
   "id": "123456",
   "metadata": {},
   "source": [
    "<div style=\"text-align:left;font-size:2em\"><span style=\"font-weight:bolder;font-size:1.25em\">SP2273 | Learning Portfolio</span><br><br><span style=\"font-weight:bold;color:darkred\">Fundamentals (Need)</span></div>"
   ]
  },
  {
   "cell_type": "markdown",
   "id": "ce31196f",
   "metadata": {},
   "source": [
    "------------------------\n",
    "# What to expect in this chapter\n",
    "------------------------"
   ]
  },
  {
   "cell_type": "markdown",
   "id": "92cce3cd",
   "metadata": {},
   "source": [
    "- python basic syntax\n",
    "- extending python capabilities through importing packages\n",
    "- tips!"
   ]
  },
  {
   "cell_type": "markdown",
   "id": "d3968365",
   "metadata": {},
   "source": [
    "# 1. Functions"
   ]
  },
  {
   "cell_type": "code",
   "execution_count": 8,
   "id": "5dd8da6e",
   "metadata": {},
   "outputs": [
    {
     "name": "stdout",
     "output_type": "stream",
     "text": [
      "Hello world!\n"
     ]
    }
   ],
   "source": [
    "print('Hello world!')"
   ]
  },
  {
   "cell_type": "markdown",
   "id": "eaf66898",
   "metadata": {},
   "source": [
    "- `print()` is the function, where the word **print** is like the \"action\" word\n",
    "- following the function word is the **parentheses**, which encapsulates the **argument**. It feeds the argument to the function so the function knows what to do. \n",
    "    - for functions that do not require an argument, the parentheses are left empty, as such: `exit()`\n",
    "- we can also create our own functions!\n",
    "- `print(Hello world!)` is an example of a line of **code**.\n",
    "\n",
    "<div class=\"alert alert-block alert-warning\">\n",
    "<b>Note:</b> Not all arguments may be accepted by the function\n",
    "</div> "
   ]
  },
  {
   "cell_type": "markdown",
   "id": "6226eb6f",
   "metadata": {},
   "source": [
    "# 2. Remember"
   ]
  },
  {
   "cell_type": "markdown",
   "id": "ebfc42d2",
   "metadata": {},
   "source": [
    "<div class=\"alert alert-block alert-success\">\n",
    "<b>Summary:</b> \n",
    "    <p> 1. A function is ‘something’ that executes a specific task. </p>\n",
    "<p>2. A function may or may not accept arguments.</p>\n",
    "<p>3. We can define our own functions.</p>\n",
    "</div>"
   ]
  },
  {
   "cell_type": "markdown",
   "id": "209b2035",
   "metadata": {},
   "source": [
    "# 3. Python is interpreted"
   ]
  },
  {
   "cell_type": "markdown",
   "id": "c67e800b",
   "metadata": {},
   "source": [
    "- interpreter works sequentially, one line at a time"
   ]
  },
  {
   "cell_type": "code",
   "execution_count": 9,
   "id": "9eb1a8a5",
   "metadata": {},
   "outputs": [
    {
     "name": "stdout",
     "output_type": "stream",
     "text": [
      "Hello World\n",
      "Hello World again\n"
     ]
    }
   ],
   "source": [
    "print('Hello World')\n",
    "print('Hello World again')"
   ]
  },
  {
   "cell_type": "markdown",
   "id": "e26982f8",
   "metadata": {},
   "source": [
    "- interpreter will stop and be annoying if it is unable to proceed due to an error\n",
    "- basically it's annoying, inflexible, likely to cause you to throw a tantrum\n",
    "- for example..."
   ]
  },
  {
   "cell_type": "code",
   "execution_count": 10,
   "id": "51b80f96",
   "metadata": {},
   "outputs": [
    {
     "ename": "SyntaxError",
     "evalue": "unterminated string literal (detected at line 3) (2167538131.py, line 3)",
     "output_type": "error",
     "traceback": [
      "\u001b[0;36m  Cell \u001b[0;32mIn[10], line 3\u001b[0;36m\u001b[0m\n\u001b[0;31m    print(Hello World again')\u001b[0m\n\u001b[0m                           ^\u001b[0m\n\u001b[0;31mSyntaxError\u001b[0m\u001b[0;31m:\u001b[0m unterminated string literal (detected at line 3)\n"
     ]
    }
   ],
   "source": [
    "print('Hello World')\n",
    "\n",
    "print(Hello World again')\n",
    "      \n",
    "print('Good-bye World again')"
   ]
  },
  {
   "cell_type": "markdown",
   "id": "eb00e0bc",
   "metadata": {},
   "source": [
    "# 4. Python is sensitive."
   ]
  },
  {
   "cell_type": "markdown",
   "id": "301e9537",
   "metadata": {},
   "source": [
    "- python is case-sensitive (and also emotionally sensitive)\n",
    "- `print()` is recognised by the interpreter as a proper function, whereas `Print()` is not due to the capital \"P\""
   ]
  },
  {
   "cell_type": "markdown",
   "id": "18986dfb",
   "metadata": {},
   "source": [
    "# 5. Remember"
   ]
  },
  {
   "cell_type": "markdown",
   "id": "5f6f4f2b",
   "metadata": {},
   "source": [
    "<div class=\"alert alert-block alert-success\">\n",
    "<b>Summary:</b> \n",
    "    <p> 1. Python is case-sensitive.\n",
    "</div>"
   ]
  },
  {
   "cell_type": "markdown",
   "id": "856ffb1a",
   "metadata": {},
   "source": [
    "# 6. Comments"
   ]
  },
  {
   "cell_type": "markdown",
   "id": "7b6d7e0c",
   "metadata": {},
   "source": [
    "Right now, this cell is in Markdown. Hence text is rendered *beautifully*. However, if you want to add a text comment in a code cell without affecting your other codes, use a `#` before your comment. Python ignores the text placed after `#`. This is good to add reminders for yourself in a code cell.\n",
    "\n",
    "For example..."
   ]
  },
  {
   "cell_type": "code",
   "execution_count": 11,
   "id": "bb84e293",
   "metadata": {},
   "outputs": [
    {
     "name": "stdout",
     "output_type": "stream",
     "text": [
      "Hello world!\n"
     ]
    }
   ],
   "source": [
    "print('Hello world!') #this will work"
   ]
  },
  {
   "cell_type": "markdown",
   "id": "c9304184",
   "metadata": {},
   "source": [
    "1. It is important not to write comments for fun. They can start to clutter uo your code space. Use them to remind yourself necessarily essential information relevant to the code, such as its **purpose**.\n",
    "1. Also, as shown, the comment appears in the code cell, but not in the output!"
   ]
  },
  {
   "cell_type": "markdown",
   "id": "11809fc5",
   "metadata": {},
   "source": [
    "# 7. Remember"
   ]
  },
  {
   "cell_type": "markdown",
   "id": "ad3f656e",
   "metadata": {},
   "source": [
    "<div class=\"alert alert-block alert-success\">\n",
    "<b>Summary:</b> \n",
    "    <p> 1. Use comments to emphasize the purpose of the code.\n",
    "</div>"
   ]
  },
  {
   "cell_type": "markdown",
   "id": "6215d27e",
   "metadata": {},
   "source": [
    "# 8. = is not the same as =="
   ]
  },
  {
   "cell_type": "markdown",
   "id": "92c597bf",
   "metadata": {},
   "source": [
    "- `=` is used to **set** something as **equal**\n",
    "    - for example: `name = 'neal' #make name carry 'neal'`\n",
    "- `==` is used to **check** if something is equal\n",
    "    - for example: `name == 'neal' #check if name = neal  #answer: true or false`"
   ]
  },
  {
   "cell_type": "markdown",
   "id": "ada83be0",
   "metadata": {},
   "source": [
    "# 9. Remember"
   ]
  },
  {
   "cell_type": "markdown",
   "id": "94a20ceb",
   "metadata": {},
   "source": [
    "<div class=\"alert alert-block alert-success\">\n",
    "<b>Summary:</b> \n",
    "    <p> 1. `=` is not the same as` ==`.</p>\n",
    "<p>2. `=` assigns a value and;</p>\n",
    "<p>3. `==` asks a question.</p>\n",
    "</div>\n"
   ]
  },
  {
   "cell_type": "markdown",
   "id": "8fcd11c5",
   "metadata": {},
   "source": [
    "# 10. Use if to make decisions"
   ]
  },
  {
   "cell_type": "markdown",
   "id": "3c596cf2",
   "metadata": {},
   "source": [
    "- `if` can be used to branch the flow of the program. \n",
    "- For example:\n",
    "\n",
    "`name = 'Batman'` <br> <br>`if name == 'Batman':`</br>  &nbsp;&nbsp;&nbsp;&nbsp;&nbsp;&nbsp;`print('Hello Batman!')`<br>`else:`</br> &nbsp;&nbsp;&nbsp;&nbsp;&nbsp;&nbsp;`print('Hello World!')`<br><br>\n",
    "\n",
    "\n"
   ]
  },
  {
   "cell_type": "markdown",
   "id": "159d7349",
   "metadata": {},
   "source": [
    "- A typical `if` statement asks a **question** or in other words, **tests a condition** and has something to do if the answer is `True` (printing *Hello Batman!*) and something else (printing *Hello World!*) if it is not. Notice the use of `:` and <span style=\"color:gold\"> indentations</span> (spaces or tabs) to **define** what to do if the answer is `True` and what to do if the answer is `False`."
   ]
  },
  {
   "cell_type": "code",
   "execution_count": 1,
   "id": "8bd68a48",
   "metadata": {},
   "outputs": [
    {
     "name": "stdout",
     "output_type": "stream",
     "text": [
      "Hello Batman!\n"
     ]
    }
   ],
   "source": [
    "name = 'Batman'\n",
    "\n",
    "if name == 'Batman':\n",
    "    print('Hello Batman!')\n",
    "else:\n",
    "    print('Hello World!')"
   ]
  },
  {
   "cell_type": "markdown",
   "id": "fe3d2ae5",
   "metadata": {},
   "source": [
    "# 11. Remember"
   ]
  },
  {
   "cell_type": "markdown",
   "id": "ea86f52d",
   "metadata": {},
   "source": [
    "<div class=\"alert alert-block alert-success\">\n",
    "<b>Summary:</b> \n",
    "    <p> 1. You can use if to make decisions.\n",
    "\n",
    "</div>\n"
   ]
  },
  {
   "cell_type": "markdown",
   "id": "720f9bb3",
   "metadata": {},
   "source": [
    "# 12. Indentations (spaces) are sooo IMPORTANT!"
   ]
  },
  {
   "cell_type": "markdown",
   "id": "286f0e9b",
   "metadata": {},
   "source": [
    "- this will work: \n",
    "<br>`x = 10` <br>\n",
    "`print(x)`<br>"
   ]
  },
  {
   "cell_type": "code",
   "execution_count": 20,
   "id": "d1ca4f96",
   "metadata": {},
   "outputs": [
    {
     "name": "stdout",
     "output_type": "stream",
     "text": [
      "10\n"
     ]
    }
   ],
   "source": [
    "x = 10\n",
    "print(x)"
   ]
  },
  {
   "cell_type": "markdown",
   "id": "00c52ae9",
   "metadata": {},
   "source": [
    "- this will NOT work:\n",
    "    <br>`x = 10`<br>\n",
    "    &nbsp;&nbsp;`print(x)`<br>"
   ]
  },
  {
   "cell_type": "code",
   "execution_count": 21,
   "id": "72ec40cf",
   "metadata": {},
   "outputs": [
    {
     "ename": "IndentationError",
     "evalue": "unexpected indent (2703623731.py, line 2)",
     "output_type": "error",
     "traceback": [
      "\u001b[0;36m  Cell \u001b[0;32mIn[21], line 2\u001b[0;36m\u001b[0m\n\u001b[0;31m    print(x)\u001b[0m\n\u001b[0m    ^\u001b[0m\n\u001b[0;31mIndentationError\u001b[0m\u001b[0;31m:\u001b[0m unexpected indent\n"
     ]
    }
   ],
   "source": [
    "x = 10\n",
    "    print(x)"
   ]
  },
  {
   "cell_type": "markdown",
   "id": "891903ad",
   "metadata": {},
   "source": [
    "You can understand why there is an error by looking at the structure of the `if` statement. Notice that Python uses an indentation to separate the `True` and `False` ‘blocks’. So you cannot use indentations (spaces) indiscriminately as this will confuse Python.\n",
    "\n",
    "One of the reasons why Python is so easy to read is its use of indentation. Other languages, such as C++ or R, use brackets that can become clunky. For example, the previous statement in R looks like this:"
   ]
  },
  {
   "cell_type": "code",
   "execution_count": 22,
   "id": "0eb56433",
   "metadata": {},
   "outputs": [
    {
     "ename": "SyntaxError",
     "evalue": "invalid syntax (40591002.py, line 1)",
     "output_type": "error",
     "traceback": [
      "\u001b[0;36m  Cell \u001b[0;32mIn[22], line 1\u001b[0;36m\u001b[0m\n\u001b[0;31m    if (name == 'Batman') {\u001b[0m\n\u001b[0m                          ^\u001b[0m\n\u001b[0;31mSyntaxError\u001b[0m\u001b[0;31m:\u001b[0m invalid syntax\n"
     ]
    }
   ],
   "source": [
    "if (name == 'Batman') {\n",
    "  print('Hello Hero | Batman!')\n",
    "} else {\n",
    "  print('Hello World!')\n",
    "}"
   ]
  },
  {
   "cell_type": "markdown",
   "id": "9f0ebe0d",
   "metadata": {},
   "source": [
    "# 13. Remember"
   ]
  },
  {
   "cell_type": "markdown",
   "id": "9efeaedf",
   "metadata": {},
   "source": [
    "<div class=\"alert alert-block alert-success\">\n",
    "<b>Summary:</b> \n",
    "    <p> 1. Indentations play a crucial role in Python; do not use them indiscriminately. <p/>\n",
    "    2. <code>:</code> is used to designate a block of code. \n",
    "</div>\n",
    "\n",
    "<div class=\"alert alert-block alert-warning\">\n",
    "<b>Be careful</b> \n",
    "    <p> 1. Don’t mix spaces and tabs!</p>\n",
    "    <p> 2. Make it easy for yourself; just use the <code>tab</code> key consistently.</p>\n",
    "</div>\n"
   ]
  },
  {
   "cell_type": "markdown",
   "id": "369e7cb9",
   "metadata": {},
   "source": [
    "# 14. ‘age’ is English, age is a variable."
   ]
  },
  {
   "cell_type": "markdown",
   "id": "eb2d4618",
   "metadata": {},
   "source": [
    "- variables are \"objects\" that carry information\n",
    "- although they can denote *nearly* every name, it would be more adviseable to give the variable a name relevant to the information it entails. \n",
    "    - for example, describing `population_fox = 10` would make clearer sense than `fox = 10`.\n",
    "- in instances where we want to utilise the word not as a variable but as its own argument, you can put it in quotations.\n",
    "    - for example, if `population_fox = 10`, `print(population_fox)` would give the output `10` whereas `print(\"population_fox\")` would give the output `population_fox` as shown in the following cell.\n",
    "    - it is useful to note that `\"\"` and `''` are interchangeable, but standardising to one would help neaten things up and allow for instances where an apostrophe is utilised in words such as \"it's\""
   ]
  },
  {
   "cell_type": "code",
   "execution_count": 23,
   "id": "65033a9a",
   "metadata": {},
   "outputs": [
    {
     "name": "stdout",
     "output_type": "stream",
     "text": [
      "10\n",
      "population_fox\n"
     ]
    }
   ],
   "source": [
    "population_fox = 10\n",
    "\n",
    "print(population_fox)     #This will print \"10\"\n",
    "print(\"population_fox\")   #This will give \"population_fox\""
   ]
  },
  {
   "cell_type": "markdown",
   "id": "e2e7deb0",
   "metadata": {},
   "source": [
    "<div class=\"alert alert-block alert-danger\">\n",
    "<b>Be aware:</b> \n",
    "    <p>1. Variables cannot be keywords such as <code>if</code>,<code>for</code>,<code>while</code>, and<code>is</code>.\n",
    "</div>\n",
    "\n"
   ]
  },
  {
   "cell_type": "markdown",
   "id": "ba99e1b9",
   "metadata": {},
   "source": [
    "# 15. Brackets"
   ]
  },
  {
   "cell_type": "markdown",
   "id": "deb5b085",
   "metadata": {},
   "source": [
    "- different types of brackets are used in python — `()`, `[]` and `{}`\n",
    "    - `()` are used in **calls to function** or in **mathematics** \n",
    "    - `[]` are used for creating lists of data. `[]` is specifically for a 1D list, `[[]]` for a 2D list, and `[[[]]]` for a 3D list.\n",
    "    - `{}` are used to store data in  **<span style=\"color:gold\"> dictionaries</span>**"
   ]
  },
  {
   "cell_type": "code",
   "execution_count": 24,
   "id": "d4b14152",
   "metadata": {},
   "outputs": [
    {
     "name": "stdout",
     "output_type": "stream",
     "text": [
      "Hello!\n",
      "Bruce Wayne\n"
     ]
    }
   ],
   "source": [
    "print('Hello!')             # In functions\n",
    "\n",
    "(1 + 2) * 5                 # For math\n",
    "\n",
    "py_list = [1, 2, 3, 4, 5]   # A 1D list\n",
    "\n",
    "py_list_2 = [               # A 2D list\n",
    "                [1, \"A\"],      \n",
    "                [2, \"B\"],\n",
    "                [3, \"C\"],\n",
    "                [4, \"D\"],\n",
    "                [5, \"E\"]\n",
    "            ]\n",
    "\n",
    "personal_info = {\n",
    "    'Names': 'Batman',\n",
    "    'Real Name': 'Bruce Wayne',\n",
    "    'Age': 55,\n",
    "    'Affiliation': 'Justice League',\n",
    "    'Universe': 'DC'\n",
    "}\n",
    "\n",
    "print(personal_info['Real Name'])    "
   ]
  },
  {
   "cell_type": "markdown",
   "id": "12388511",
   "metadata": {},
   "source": [
    "- in the dictionary above, a **key** is used to identify a **value** (e.g., ‘Real Name’ \n",
    " ‘Bruce Wayne’). This is a neat and useful way to store data and quickly access necessary information!\n",
    "\n"
   ]
  },
  {
   "cell_type": "markdown",
   "id": "e33fa13d",
   "metadata": {},
   "source": [
    "# 16. Giving Python superpowers with Packages"
   ]
  },
  {
   "cell_type": "markdown",
   "id": "10126b49",
   "metadata": {},
   "source": [
    "## 16.1 Some Context"
   ]
  },
  {
   "cell_type": "markdown",
   "id": "c7d7c4a8",
   "metadata": {},
   "source": [
    "- imagine python as having a set of skills\n",
    "- although it possesses those skills (for e.g. math skills), those skills may be basic and hence python won't be able to perform certain actions due to its limited ability/capability/functionality within that field/area\n",
    "- hence we can \"upgrade\" it by importing packages by providing its skills with more superpowers!\n",
    "- for example, if we want to calculate the following expression:\n",
    "\n",
    "$$\\dfrac{(1*((2-3)+4)^{5}}{6}$$"
   ]
  },
  {
   "cell_type": "markdown",
   "id": "7d236fc7",
   "metadata": {},
   "source": [
    "we can write it in code by..."
   ]
  },
  {
   "cell_type": "code",
   "execution_count": 25,
   "id": "ff5bd9c6",
   "metadata": {},
   "outputs": [
    {
     "data": {
      "text/plain": [
       "40.5"
      ]
     },
     "execution_count": 25,
     "metadata": {},
     "output_type": "execute_result"
    }
   ],
   "source": [
    "1 * ((2 - 3) + 4) ** 5 / 6 "
   ]
  },
  {
   "cell_type": "markdown",
   "id": "44fdacbf",
   "metadata": {},
   "source": [
    "but if we were to attempt $\\sqrt{4}$..."
   ]
  },
  {
   "cell_type": "code",
   "execution_count": 26,
   "id": "ac43ae99",
   "metadata": {},
   "outputs": [
    {
     "ename": "NameError",
     "evalue": "name 'sqrt' is not defined",
     "output_type": "error",
     "traceback": [
      "\u001b[0;31m---------------------------------------------------------------------------\u001b[0m",
      "\u001b[0;31mNameError\u001b[0m                                 Traceback (most recent call last)",
      "Cell \u001b[0;32mIn[26], line 1\u001b[0m\n\u001b[0;32m----> 1\u001b[0m \u001b[43msqrt\u001b[49m(\u001b[38;5;241m4\u001b[39m)\n",
      "\u001b[0;31mNameError\u001b[0m: name 'sqrt' is not defined"
     ]
    }
   ],
   "source": [
    "sqrt(4)"
   ]
  },
  {
   "cell_type": "markdown",
   "id": "5b1281c0",
   "metadata": {},
   "source": [
    "hence, to enable python to calculate square roots (and of course other functionalities), we can import **packages** such as the `math` package"
   ]
  },
  {
   "cell_type": "markdown",
   "id": "389b4179",
   "metadata": {},
   "source": [
    "## 16.2 Importing the math package"
   ]
  },
  {
   "cell_type": "code",
   "execution_count": 27,
   "id": "6e9dc0b6",
   "metadata": {},
   "outputs": [],
   "source": [
    "import math         # Adding(importing) the functions\n",
    "                    # of the 'math' package    "
   ]
  },
  {
   "cell_type": "markdown",
   "id": "5753f26c",
   "metadata": {},
   "source": [
    "Now we can use the `sqrt()` function of the `math` module."
   ]
  },
  {
   "cell_type": "code",
   "execution_count": 28,
   "id": "a62cc68a",
   "metadata": {},
   "outputs": [
    {
     "data": {
      "text/plain": [
       "2.0"
      ]
     },
     "execution_count": 28,
     "metadata": {},
     "output_type": "execute_result"
    }
   ],
   "source": [
    "math.sqrt(4)"
   ]
  },
  {
   "cell_type": "markdown",
   "id": "801d2404",
   "metadata": {},
   "source": [
    "## 16.3 Importing the numpy package"
   ]
  },
  {
   "cell_type": "markdown",
   "id": "9b78d85a",
   "metadata": {},
   "source": [
    "- besides the `math` **module**, we can import another module called `Numpy` which is also very useful (and also has the `sqrt()` function)."
   ]
  },
  {
   "cell_type": "code",
   "execution_count": 29,
   "id": "4fe4a08e",
   "metadata": {},
   "outputs": [],
   "source": [
    "import numpy as np    # Importing Numpy and giving \n",
    "                      # it an alias np \n",
    "                      # because I am lazy"
   ]
  },
  {
   "cell_type": "markdown",
   "id": "74abb265",
   "metadata": {},
   "source": [
    "Now, the `sqrt()` function of the` Numpy` module can be used. Since it was imported with the alias `(np)`, we can use `np` instead of the longer `numpy`."
   ]
  },
  {
   "cell_type": "code",
   "execution_count": 30,
   "id": "f936b848",
   "metadata": {
    "scrolled": true
   },
   "outputs": [
    {
     "data": {
      "text/plain": [
       "2.0"
      ]
     },
     "execution_count": 30,
     "metadata": {},
     "output_type": "execute_result"
    }
   ],
   "source": [
    "np.sqrt(4)"
   ]
  },
  {
   "cell_type": "markdown",
   "id": "9a7e22e5",
   "metadata": {},
   "source": [
    "## 16.4 Why so many packages?"
   ]
  },
  {
   "cell_type": "markdown",
   "id": "a27a9c68",
   "metadata": {},
   "source": [
    "- why so many packages if they have the same functions that we need? why not just stick to one?\n",
    "- there are different versions, and each of them may have different capabilities and efficiencies\n",
    "- For example, the `Numpy` version can handle a list of numbers:"
   ]
  },
  {
   "cell_type": "code",
   "execution_count": 31,
   "id": "a43c3cdb",
   "metadata": {},
   "outputs": [
    {
     "data": {
      "text/plain": [
       "array([2., 3., 4.])"
      ]
     },
     "execution_count": 31,
     "metadata": {},
     "output_type": "execute_result"
    }
   ],
   "source": [
    "np.sqrt([4, 9, 16])"
   ]
  },
  {
   "cell_type": "markdown",
   "id": "34e125fb",
   "metadata": {},
   "source": [
    "# 17. Remember"
   ]
  },
  {
   "cell_type": "markdown",
   "id": "2317042d",
   "metadata": {},
   "source": [
    "<div class=\"alert alert-block alert-success\">\n",
    "<b>Summary:</b> \n",
    "    <p> 1. You can give Python ‘superpowers’ by importing packages. </p>\n",
    "<p>2. You must import a package only once.</p>\n",
    "<p>3. There are different ways to import packages (e.g. with or without an ‘alias’).\n",
    "\n",
    "</div>"
   ]
  },
  {
   "cell_type": "markdown",
   "id": "d7f8e878",
   "metadata": {},
   "source": [
    "# 18. The dot (`.`)"
   ]
  },
  {
   "cell_type": "markdown",
   "id": "ad447dca",
   "metadata": {},
   "source": [
    "- the `.` is also seen in other programming languages, and isn't exclusive to python\n",
    "- it is used to inidicate **ownership**\n",
    "- for example, `math.sqrt()` means that we are using the `sqrt()` function that **belongs** to the `math` module whereas `np.sqrt()` would mean that we are using the `sqrt()` function that belonging to the `Numpy` module and not the `math` one! "
   ]
  },
  {
   "cell_type": "code",
   "execution_count": 32,
   "id": "c798ca57",
   "metadata": {},
   "outputs": [
    {
     "data": {
      "text/plain": [
       "2.0"
      ]
     },
     "execution_count": 32,
     "metadata": {},
     "output_type": "execute_result"
    }
   ],
   "source": [
    "math.sqrt(4)\n",
    "np.sqrt(4)"
   ]
  },
  {
   "cell_type": "markdown",
   "id": "370eeac7",
   "metadata": {},
   "source": [
    "- additionally, everything in python (for e.g. numbers and letters) has **functions** and attributes that belong to them. We can access them using the dot `.`. For example, the `\"I am Batman\".split()` will split the sentence into words."
   ]
  },
  {
   "cell_type": "code",
   "execution_count": 33,
   "id": "ba6d2b95",
   "metadata": {},
   "outputs": [
    {
     "data": {
      "text/plain": [
       "['I', 'am', 'Batman']"
      ]
     },
     "execution_count": 33,
     "metadata": {},
     "output_type": "execute_result"
    }
   ],
   "source": [
    "\"I am Batman\".split()"
   ]
  },
  {
   "cell_type": "markdown",
   "id": "2f9b7d11",
   "metadata": {},
   "source": [
    "- however, `1234.split()` won't work as it just doesn't make any sense!"
   ]
  },
  {
   "cell_type": "code",
   "execution_count": 34,
   "id": "0ebd71c7",
   "metadata": {},
   "outputs": [
    {
     "ename": "SyntaxError",
     "evalue": "invalid decimal literal (3897031440.py, line 1)",
     "output_type": "error",
     "traceback": [
      "\u001b[0;36m  Cell \u001b[0;32mIn[34], line 1\u001b[0;36m\u001b[0m\n\u001b[0;31m    1234.split()\u001b[0m\n\u001b[0m        ^\u001b[0m\n\u001b[0;31mSyntaxError\u001b[0m\u001b[0;31m:\u001b[0m invalid decimal literal\n"
     ]
    }
   ],
   "source": [
    "1234.split()"
   ]
  },
  {
   "cell_type": "markdown",
   "id": "cc4e2a57",
   "metadata": {},
   "source": [
    "- \"things\" that can be accessed using `.` depend on what `.` is attached to :\")"
   ]
  },
  {
   "cell_type": "markdown",
   "id": "1d216896",
   "metadata": {},
   "source": [
    "# 19. Remember"
   ]
  },
  {
   "cell_type": "markdown",
   "id": "add615d5",
   "metadata": {},
   "source": [
    "<div class=\"alert alert-block alert-success\">\n",
    "<b>Summary:</b> \n",
    "    <p> 1. The dot(<code>.</code>) indicates ownership, and what it can access depends on the context.\n",
    "</div>"
   ]
  }
 ],
 "metadata": {
  "kernelspec": {
   "display_name": "Python 3 (ipykernel)",
   "language": "python",
   "name": "python3"
  },
  "language_info": {
   "codemirror_mode": {
    "name": "ipython",
    "version": 3
   },
   "file_extension": ".py",
   "mimetype": "text/x-python",
   "name": "python",
   "nbconvert_exporter": "python",
   "pygments_lexer": "ipython3",
   "version": "3.11.7"
  },
  "toc": {
   "base_numbering": 1,
   "nav_menu": {},
   "number_sections": false,
   "sideBar": true,
   "skip_h1_title": false,
   "title_cell": "Table of Contents",
   "title_sidebar": "Contents",
   "toc_cell": false,
   "toc_position": {
    "height": "calc(100% - 180px)",
    "left": "10px",
    "top": "150px",
    "width": "294px"
   },
   "toc_section_display": true,
   "toc_window_display": true
  },
  "varInspector": {
   "cols": {
    "lenName": 16,
    "lenType": 16,
    "lenVar": 40
   },
   "kernels_config": {
    "python": {
     "delete_cmd_postfix": "",
     "delete_cmd_prefix": "del ",
     "library": "var_list.py",
     "varRefreshCmd": "print(var_dic_list())"
    },
    "r": {
     "delete_cmd_postfix": ") ",
     "delete_cmd_prefix": "rm(",
     "library": "var_list.r",
     "varRefreshCmd": "cat(var_dic_list()) "
    }
   },
   "types_to_exclude": [
    "module",
    "function",
    "builtin_function_or_method",
    "instance",
    "_Feature"
   ],
   "window_display": false
  },
  "vscode": {
   "interpreter": {
    "hash": "31f2aee4e71d21fbe5cf8b01ff0e069b9275f58929596ceb00d14d90e3e16cd6"
   }
  }
 },
 "nbformat": 4,
 "nbformat_minor": 5
}
