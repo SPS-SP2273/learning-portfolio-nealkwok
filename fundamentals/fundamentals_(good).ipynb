{
 "cells": [
  {
   "cell_type": "markdown",
   "id": "123456",
   "metadata": {},
   "source": [
    "<div style=\"text-align:left;font-size:2em\"><span style=\"font-weight:bolder;font-size:1.25em\">SP2273 | Learning Portfolio</span><br><br><span style=\"font-weight:bold;color:darkred\">Fundamentals (Good)</span></div>"
   ]
  },
  {
   "cell_type": "markdown",
   "id": "e63a985d",
   "metadata": {},
   "source": [
    "-------------------------------------------------\n",
    "# What to expect in this chapter\n",
    "-------------------------------------------------"
   ]
  },
  {
   "cell_type": "markdown",
   "id": "dbbe4d28",
   "metadata": {},
   "source": [
    "- building on concepts from chapter: fundamentals (needed)\n",
    "- introducing different data <mark>types</mark>\n",
    "- <mark>combining</mark> variables with English."
   ]
  },
  {
   "cell_type": "markdown",
   "id": "ed2a51ea",
   "metadata": {},
   "source": [
    "# 1. There is more to `if`"
   ]
  },
  {
   "cell_type": "markdown",
   "id": "ac5ac7d6",
   "metadata": {},
   "source": [
    "- sometimes we need more **branches** of `if`\n",
    "- `elif` (else if) helps with that predicament\n",
    "- for example:"
   ]
  },
  {
   "cell_type": "code",
   "execution_count": 30,
   "id": "4ccc3dc5",
   "metadata": {},
   "outputs": [
    {
     "name": "stdout",
     "output_type": "stream",
     "text": [
      "Hello Batman!\n"
     ]
    }
   ],
   "source": [
    "name = 'Batman'\n",
    "\n",
    "if name == 'Batman':\n",
    "    print('Hello Batman!')\n",
    "elif name == 'Robin':\n",
    "    print('Hello Sidekick!')\n",
    "else:\n",
    "    print('Hello World!')"
   ]
  },
  {
   "cell_type": "markdown",
   "id": "930fb352-4b2f-40be-8105-716906b5e29f",
   "metadata": {},
   "source": [
    "![](https://www.shutterstock.com/image-vector/muscle-body-big-batman-design-600nw-2304584009.jpg)"
   ]
  },
  {
   "cell_type": "markdown",
   "id": "70411657",
   "metadata": {},
   "source": [
    "# 2. Asking questions"
   ]
  },
  {
   "cell_type": "markdown",
   "id": "ebd2afc9",
   "metadata": {},
   "source": [
    "- To use `if` to make decisions, we need to be able to <mark>ask questions</mark>; some of which might be complicated. \n",
    "- Below includes an attempt involving two lists, on each of fruits and vegetables."
   ]
  },
  {
   "cell_type": "code",
   "execution_count": 31,
   "id": "057490ef",
   "metadata": {},
   "outputs": [
    {
     "data": {
      "text/plain": [
       "True"
      ]
     },
     "execution_count": 31,
     "metadata": {},
     "output_type": "execute_result"
    }
   ],
   "source": [
    "fruits = ['apple', 'banana', 'pineapple', 'jackfruit']\n",
    "vegetables = ['celery', 'potato', 'broccoli', 'kale']\n",
    "\n",
    "'apple' in fruits                                         #Is ‘apple’ in the list fruits?"
   ]
  },
  {
   "cell_type": "code",
   "execution_count": 32,
   "id": "235064ea",
   "metadata": {},
   "outputs": [
    {
     "data": {
      "text/plain": [
       "False"
      ]
     },
     "execution_count": 32,
     "metadata": {},
     "output_type": "execute_result"
    }
   ],
   "source": [
    "'peach' in fruits                                         #Is ‘peach’ in the list fruits?"
   ]
  },
  {
   "cell_type": "code",
   "execution_count": 33,
   "id": "aeaf3d37",
   "metadata": {},
   "outputs": [
    {
     "data": {
      "text/plain": [
       "True"
      ]
     },
     "execution_count": 33,
     "metadata": {},
     "output_type": "execute_result"
    }
   ],
   "source": [
    "'peach' not in fruits                                     #Is ‘peach’ not in the list fruits?"
   ]
  },
  {
   "cell_type": "code",
   "execution_count": 34,
   "id": "4eb883b8",
   "metadata": {},
   "outputs": [
    {
     "data": {
      "text/plain": [
       "True"
      ]
     },
     "execution_count": 34,
     "metadata": {},
     "output_type": "execute_result"
    }
   ],
   "source": [
    "('apple' in fruits) and ('celery' in vegetables)          #Is ‘apple’ in the list fruits and is ‘celery’ in the list vegetables? "
   ]
  },
  {
   "cell_type": "code",
   "execution_count": 35,
   "id": "acceebe9",
   "metadata": {},
   "outputs": [
    {
     "data": {
      "text/plain": [
       "True"
      ]
     },
     "execution_count": 35,
     "metadata": {},
     "output_type": "execute_result"
    }
   ],
   "source": [
    "('apple' in fruits) or ('celery' in vegetables)                        #Is ‘apple’ in the list fruits or is ‘celery’ in the list vegetables?"
   ]
  },
  {
   "cell_type": "code",
   "execution_count": 36,
   "id": "c7e790fb",
   "metadata": {},
   "outputs": [
    {
     "data": {
      "text/plain": [
       "True"
      ]
     },
     "execution_count": 36,
     "metadata": {},
     "output_type": "execute_result"
    }
   ],
   "source": [
    "'app' in 'apple'                                          #Is ‘app’ in ‘apple’?"
   ]
  },
  {
   "cell_type": "code",
   "execution_count": 37,
   "id": "c000d2c3",
   "metadata": {},
   "outputs": [
    {
     "data": {
      "text/plain": [
       "False"
      ]
     },
     "execution_count": 37,
     "metadata": {},
     "output_type": "execute_result"
    }
   ],
   "source": [
    "('apple' in fruits) and ('spinach' in vegetables)         #Is ‘apple’ in the list fruits and is ‘spinach’ in the list vegetables? "
   ]
  },
  {
   "cell_type": "markdown",
   "id": "41c18f09",
   "metadata": {},
   "source": [
    "<div class=\"alert alert-block alert-success\">\n",
    "<b>Reminder:</b> \n",
    "    <p> 1. <code>not</code>, <code>in</code>, <code>and</code>, <code>or</code> are some Python keywords that are useful in asking questions. </p>\n",
    "</div>"
   ]
  },
  {
   "cell_type": "markdown",
   "id": "576106e5",
   "metadata": {},
   "source": [
    "- importantly, Python only knows how to compare **similar** things (types) (e.g. numbers or English)\n",
    "- hence, `3 > 10.5` will work, but `3 > 'apple'` will not\n",
    "- however, Python1 can compare `'apples'` and `'oranges'` because <mark>English letters are internally represented as numbers</mark>. \n",
    "    - for example, 'a' is 97 and 'o' is 111."
   ]
  },
  {
   "cell_type": "code",
   "execution_count": 38,
   "id": "decc99ec",
   "metadata": {},
   "outputs": [
    {
     "data": {
      "text/plain": [
       "False"
      ]
     },
     "execution_count": 38,
     "metadata": {},
     "output_type": "execute_result"
    }
   ],
   "source": [
    "'apples' > 'oranges'"
   ]
  },
  {
   "cell_type": "markdown",
   "id": "4129583f",
   "metadata": {},
   "source": [
    "## 2.1 Asking Math questions"
   ]
  },
  {
   "cell_type": "markdown",
   "id": "fd169fe2",
   "metadata": {},
   "source": [
    "- tips in asking math questions:\n",
    "\n",
    "|Question/Condtion|Math Symbol|Python Symbols|\n",
    "|:---|:--:|---:|\n",
    "|Equals?|=|`==`|\n",
    "|Not equals?|≠|`!=`|\n",
    "|Less than?|<|`<`|\n",
    "|Greater than?|>|`>`|\n",
    "|Less than or equal?|≤|`<=`|\n",
    "|Greater than or equal?|≥|`>=`|\n",
    "\n",
    "- Python also (thankfully) accepts all the following syntax:\n",
    "1. `x > 5 and x < 15`\n",
    "2. `(x > 5) and (x < 15)`\n",
    "3. `5 < x < 15`\n",
    "\n",
    "- Clearly, the last format is the neatest and easiest to read. Notice also how the brackets increase the **readability** of the statement."
   ]
  },
  {
   "cell_type": "markdown",
   "id": "a7777404",
   "metadata": {},
   "source": [
    "# 3. Python stores information in different formats or types"
   ]
  },
  {
   "cell_type": "markdown",
   "id": "74d0e0d3",
   "metadata": {},
   "source": [
    "For efficiency (i.e., speed and memory), computers store information in different ways. For example, here are four ways we can store the number 1.234. We are also using the function `type()` to ask Python *how* it is storing the information."
   ]
  },
  {
   "cell_type": "code",
   "execution_count": 39,
   "id": "6e8158ae",
   "metadata": {},
   "outputs": [
    {
     "name": "stdout",
     "output_type": "stream",
     "text": [
      "1 <class 'int'>\n"
     ]
    }
   ],
   "source": [
    "x = int(1.234)\n",
    "print(x, type(x))                    #As an integer (int). Notice how this ends up dropping the decimal portion!"
   ]
  },
  {
   "cell_type": "code",
   "execution_count": 13,
   "id": "826d04d9",
   "metadata": {},
   "outputs": [
    {
     "name": "stdout",
     "output_type": "stream",
     "text": [
      "1.234 <class 'str'>\n"
     ]
    }
   ],
   "source": [
    "x = str(1.234)\n",
    "print(x, type(x))                    #As an English word (str)."
   ]
  },
  {
   "cell_type": "code",
   "execution_count": 41,
   "id": "56425afe",
   "metadata": {},
   "outputs": [
    {
     "name": "stdout",
     "output_type": "stream",
     "text": [
      "1.234 <class 'float'>\n"
     ]
    }
   ],
   "source": [
    "x = float(1.234)\n",
    "print(x, type(x))                    #As a decimal number (float)."
   ]
  },
  {
   "cell_type": "code",
   "execution_count": 42,
   "id": "aa8267a3",
   "metadata": {},
   "outputs": [
    {
     "name": "stdout",
     "output_type": "stream",
     "text": [
      "(1.234+0j) <class 'complex'>\n"
     ]
    }
   ],
   "source": [
    "x = complex(1.234)\n",
    "print(x, type(x))                    #As a complex number (complex). This will include an imaginary part of the number."
   ]
  },
  {
   "cell_type": "markdown",
   "id": "f0c29836",
   "metadata": {},
   "source": [
    "- There are many other types of data (see [here](https://realpython.com/python-data-types/) for more details). Often we will need to change the type of a variable.\n",
    "    - E.g. with an OCR table of numbers"
   ]
  },
  {
   "cell_type": "code",
   "execution_count": 43,
   "id": "90ee65eb",
   "metadata": {},
   "outputs": [
    {
     "name": "stdout",
     "output_type": "stream",
     "text": [
      "1.234 <class 'str'>\n"
     ]
    }
   ],
   "source": [
    "x = '1.234'        # x is a string\n",
    "print(x, type(x))"
   ]
  },
  {
   "cell_type": "code",
   "execution_count": 44,
   "id": "8da14843",
   "metadata": {},
   "outputs": [
    {
     "name": "stdout",
     "output_type": "stream",
     "text": [
      "1.234 <class 'float'>\n"
     ]
    }
   ],
   "source": [
    "x = float(x)       # x is now a decimal number\n",
    "print(x, type(x))"
   ]
  },
  {
   "cell_type": "markdown",
   "id": "8da8f59e",
   "metadata": {},
   "source": [
    "This is called typecasting; where we cast `x` to the type `float`."
   ]
  },
  {
   "cell_type": "markdown",
   "id": "5b0ca638-f424-46c5-a87e-3959cc841704",
   "metadata": {},
   "source": [
    "the above outputs are low-key ugly, so to separate the number from the class type using a comma..."
   ]
  },
  {
   "cell_type": "code",
   "execution_count": 14,
   "id": "0ba3f60b-4d26-47dc-98be-e1bf7763ef92",
   "metadata": {},
   "outputs": [
    {
     "name": "stdout",
     "output_type": "stream",
     "text": [
      "1.234, <class 'str'>\n"
     ]
    }
   ],
   "source": [
    "x = str(1.234)\n",
    "print(x, type(x), sep=', ')                   "
   ]
  },
  {
   "cell_type": "markdown",
   "id": "c069b07a",
   "metadata": {},
   "source": [
    "# 4. Never compare floats directly"
   ]
  },
  {
   "cell_type": "markdown",
   "id": "4cd9a67f",
   "metadata": {},
   "source": [
    "## 4.1 The Problem"
   ]
  },
  {
   "cell_type": "markdown",
   "id": "2f46ff91",
   "metadata": {},
   "source": [
    "- we often need to compare numbers, especially for scientific work\n",
    "- however, since computers have finite (hardware) resources, floating point numbers cannot be exactly stored in a computer\n",
    "- this leads to errors called **roundoff errors**"
   ]
  },
  {
   "cell_type": "markdown",
   "id": "49271c24",
   "metadata": {},
   "source": [
    "- Trying the following code to compare $(0.1*3)$ with $(0.3)$."
   ]
  },
  {
   "cell_type": "code",
   "execution_count": 45,
   "id": "0030b3a5",
   "metadata": {},
   "outputs": [
    {
     "data": {
      "text/plain": [
       "False"
      ]
     },
     "execution_count": 45,
     "metadata": {},
     "output_type": "execute_result"
    }
   ],
   "source": [
    "a = 0.1\n",
    "a3 = 0.3\n",
    "a * 3 == a3"
   ]
  },
  {
   "cell_type": "markdown",
   "id": "213eb262",
   "metadata": {},
   "source": [
    "Attempting to print $(0.3)$ to 17 decimal places:"
   ]
  },
  {
   "cell_type": "code",
   "execution_count": 46,
   "id": "4e414cdd",
   "metadata": {},
   "outputs": [
    {
     "data": {
      "text/plain": [
       "'0.29999999999999999'"
      ]
     },
     "execution_count": 46,
     "metadata": {},
     "output_type": "execute_result"
    }
   ],
   "source": [
    "f'{0.3:.17f}'"
   ]
  },
  {
   "cell_type": "markdown",
   "id": "945958a3",
   "metadata": {},
   "source": [
    "## 4.2 A solution"
   ]
  },
  {
   "cell_type": "markdown",
   "id": "ad1b21b3",
   "metadata": {},
   "source": [
    "- To get around these types of issues, you should check if the variable is **close** to the **expected** values instead of checking for **equality**."
   ]
  },
  {
   "cell_type": "code",
   "execution_count": 47,
   "id": "d029b3f8",
   "metadata": {},
   "outputs": [
    {
     "data": {
      "text/plain": [
       "True"
      ]
     },
     "execution_count": 47,
     "metadata": {},
     "output_type": "execute_result"
    }
   ],
   "source": [
    "eps = 1E-10\n",
    "abs(a * 3 - a3) < eps"
   ]
  },
  {
   "cell_type": "markdown",
   "id": "04c2cb18",
   "metadata": {},
   "source": [
    "Or just use Numpy"
   ]
  },
  {
   "cell_type": "code",
   "execution_count": 48,
   "id": "a9671d61",
   "metadata": {},
   "outputs": [
    {
     "data": {
      "text/plain": [
       "True"
      ]
     },
     "execution_count": 48,
     "metadata": {},
     "output_type": "execute_result"
    }
   ],
   "source": [
    "np.isclose(a * 3, a3)"
   ]
  },
  {
   "cell_type": "markdown",
   "id": "c300325c",
   "metadata": {},
   "source": [
    "# 5. Combining English and variables"
   ]
  },
  {
   "cell_type": "markdown",
   "id": "fd9b5743",
   "metadata": {},
   "source": [
    "- one of the most valuable coding skills is the ability to **combine strings** (i.e., English) with **variables**.\n",
    "- this will be useful in various instances (for e.g., when automating personalized emails to a large class)."
   ]
  },
  {
   "cell_type": "code",
   "execution_count": 49,
   "id": "8236267f",
   "metadata": {},
   "outputs": [
    {
     "name": "stdout",
     "output_type": "stream",
     "text": [
      "Hello Batman!\n"
     ]
    }
   ],
   "source": [
    "name = \"Batman\"\n",
    "print(f\"Hello {name}!\")                          #Example 1"
   ]
  },
  {
   "cell_type": "code",
   "execution_count": 50,
   "id": "d335955d",
   "metadata": {},
   "outputs": [
    {
     "name": "stdout",
     "output_type": "stream",
     "text": [
      "Hello BATMAN!\n"
     ]
    }
   ],
   "source": [
    "name = \"Batman\"\n",
    "print(f\"Hello {name.upper()}!\")                  #Example 2"
   ]
  },
  {
   "cell_type": "code",
   "execution_count": 51,
   "id": "d42efd6f",
   "metadata": {},
   "outputs": [
    {
     "name": "stdout",
     "output_type": "stream",
     "text": [
      "The value of 10 squared is 100!\n"
     ]
    }
   ],
   "source": [
    "x = 10\n",
    "print(f\"The value of {x} squared is {x**2}!\")    #Example 3"
   ]
  },
  {
   "cell_type": "markdown",
   "id": "33a21277",
   "metadata": {},
   "source": [
    "Note the `f` and the `{ }` in the above command. This is called **f-string** or **string interpolation**.\n",
    "\n",
    "You can do more with f-strings, like **formatting** a **string** or **number**. "
   ]
  },
  {
   "cell_type": "markdown",
   "id": "4dcd63f7",
   "metadata": {},
   "source": [
    "Example 1: Using f-strings to format text (strings)."
   ]
  },
  {
   "cell_type": "code",
   "execution_count": 52,
   "id": "48394994",
   "metadata": {},
   "outputs": [
    {
     "name": "stdout",
     "output_type": "stream",
     "text": [
      "Bruce Wayne is Batman.\n"
     ]
    }
   ],
   "source": [
    "text = 'Bruce Wayne is Batman.'\n",
    "print(f'{text}')"
   ]
  },
  {
   "cell_type": "code",
   "execution_count": 53,
   "id": "99d5f3b9",
   "metadata": {},
   "outputs": [
    {
     "name": "stdout",
     "output_type": "stream",
     "text": [
      "        Bruce Wayne is Batman.\n"
     ]
    }
   ],
   "source": [
    "print(f'{text:>30}')      # A block of 30 characters;\n",
    "                          # aligned right"
   ]
  },
  {
   "cell_type": "code",
   "execution_count": 54,
   "id": "3e41f57d",
   "metadata": {},
   "outputs": [
    {
     "name": "stdout",
     "output_type": "stream",
     "text": [
      "    Bruce Wayne is Batman.    \n"
     ]
    }
   ],
   "source": [
    "print(f'{text:^30}')      # A block of 30 characters;\n",
    "                          # aligned centre"
   ]
  },
  {
   "cell_type": "code",
   "execution_count": 55,
   "id": "937177c4",
   "metadata": {},
   "outputs": [
    {
     "name": "stdout",
     "output_type": "stream",
     "text": [
      "Bruce Wayne is Batman.        \n"
     ]
    }
   ],
   "source": [
    "print(f'{text:<30}')      # A block of 30 characters;\n",
    "                          # aligned left"
   ]
  },
  {
   "cell_type": "markdown",
   "id": "5c8c57c1",
   "metadata": {},
   "source": [
    "Example 2: Using f-string to format numbers.\n",
    "- The `f` in `.6f` is used to tell the f-string to output the number in **decimal notation**.\n",
    "\n"
   ]
  },
  {
   "cell_type": "code",
   "execution_count": 56,
   "id": "1c44f79e",
   "metadata": {},
   "outputs": [
    {
     "name": "stdout",
     "output_type": "stream",
     "text": [
      "The cube of pi to 6 decimal places is 31.006277\n"
     ]
    }
   ],
   "source": [
    "print(f'The cube of pi to 6 decimal places is {np.pi**3:.6f}')"
   ]
  },
  {
   "cell_type": "markdown",
   "id": "faaed400",
   "metadata": {},
   "source": [
    "Example 3:\n",
    "- The `e` in `.6e` is used to tell the f-string to output the number in **scientific notation**.\n",
    "\n"
   ]
  },
  {
   "cell_type": "code",
   "execution_count": 57,
   "id": "b45e66b9",
   "metadata": {},
   "outputs": [
    {
     "name": "stdout",
     "output_type": "stream",
     "text": [
      "The cube of pi to 6 decimal places is 3.100628e+01\n"
     ]
    }
   ],
   "source": [
    "print(f'The cube of pi to 6 decimal places is {np.pi**3:.6e}')"
   ]
  },
  {
   "cell_type": "markdown",
   "id": "32544b6d",
   "metadata": {},
   "source": [
    "## 5.1 Structure of f-strings"
   ]
  },
  {
   "cell_type": "markdown",
   "id": "8b1a6c51",
   "metadata": {},
   "source": [
    "- f-string formatting has the structure `{X:>0Y.ZW}`.\n",
    "- here is more information about the letters `X`,`Y`,`>`,`0`,`Z` and`W`.\n",
    "\n",
    "|Letter|Action|Possible Options|\n",
    "|:---|:--:|---:|\n",
    "|`X`|Variable to format|Can be a number or a string|\n",
    "|`>`|Alignment| <p> - `<`(Left justified)</p> <p>- `>`(Right justified)</p> <p>- `^`(Centre justified)</p>|\n",
    "|`0`|Use 0’s to pad the spaces|You can use other characters like a space ` `.|\n",
    "|`Y`|Total number of characters\t||\n",
    "|`Z`|Number of decimal places||\n",
    "|`W`|Specifies the type of variable.|<p>-`f`(float)</p> <p>-`d`(integer)</p><p> -`s`(string)</p><p> -`g`(Asks Python to figure out)|\n",
    "    \n",
    "- You can refer to [this website](https://pyformat.info/) for more information about f-strings."
   ]
  },
  {
   "cell_type": "markdown",
   "id": "89c9b392",
   "metadata": {},
   "source": [
    "# 6. Escape sequences"
   ]
  },
  {
   "cell_type": "markdown",
   "id": "e36fc48e",
   "metadata": {},
   "source": [
    "- refers to special characters we sometimes need when writing English.\n",
    "- for example, to **break a line** and **add a tab**:"
   ]
  },
  {
   "cell_type": "code",
   "execution_count": 58,
   "id": "9724694e",
   "metadata": {},
   "outputs": [
    {
     "name": "stdout",
     "output_type": "stream",
     "text": [
      "Line 1\n",
      "\tLine 2\n",
      "\t\tLine 3\n"
     ]
    }
   ],
   "source": [
    "print('Line 1\\n\\tLine 2\\n\\t\\tLine 3')"
   ]
  },
  {
   "cell_type": "markdown",
   "id": "5eeb6ffe",
   "metadata": {},
   "source": [
    "- the `\\n` is the command to **breakline** and `\\t` represents a **tab**. These characters are *typically* not visible, but they are there. \n",
    "\n",
    "|**Escape Sequence**|**Meaning**|\n",
    "|:---|---:|\n",
    "|`\\'`|Single quote|\n",
    "|`\\\\`|Backslash|\n",
    "|`\\n`|Newline|\n",
    "|`\\t`|Horizontal Tab|"
   ]
  },
  {
   "cell_type": "markdown",
   "id": "4d0417d4",
   "metadata": {},
   "source": [
    "Example 1: In a previous example, both `\"` and `'` were used to print `“You’re twenty years old.”`. However, with the escaped version of `'`, things are simpler."
   ]
  },
  {
   "cell_type": "code",
   "execution_count": 59,
   "id": "b3eb1216",
   "metadata": {},
   "outputs": [
    {
     "name": "stdout",
     "output_type": "stream",
     "text": [
      "You're twenty years old.\n"
     ]
    }
   ],
   "source": [
    "print('You\\'re twenty years old.') "
   ]
  },
  {
   "cell_type": "markdown",
   "id": "fe0269f1",
   "metadata": {},
   "source": [
    "Example 2: If you want to print `\\`, you need to ‘escape’ it. If you don’t… well, give it a try and see.\n",
    "\n"
   ]
  },
  {
   "cell_type": "code",
   "execution_count": 60,
   "id": "0d7e28d7",
   "metadata": {},
   "outputs": [
    {
     "name": "stdout",
     "output_type": "stream",
     "text": [
      "A\\B\\C\n"
     ]
    }
   ],
   "source": [
    "print('A\\\\B\\\\C')"
   ]
  },
  {
   "cell_type": "markdown",
   "id": "404117c7",
   "metadata": {},
   "source": [
    "Example 3:\n",
    "- Notice the linebreaks!"
   ]
  },
  {
   "cell_type": "code",
   "execution_count": 61,
   "id": "2e1f1330",
   "metadata": {},
   "outputs": [
    {
     "name": "stdout",
     "output_type": "stream",
     "text": [
      "A\n",
      "B\n",
      "C\n"
     ]
    }
   ],
   "source": [
    "print('A\\nB\\nC')"
   ]
  },
  {
   "cell_type": "markdown",
   "id": "19ec61ba",
   "metadata": {},
   "source": [
    "Example 4:\n",
    "- Notice the tabs!"
   ]
  },
  {
   "cell_type": "code",
   "execution_count": 62,
   "id": "0e402f22",
   "metadata": {},
   "outputs": [
    {
     "name": "stdout",
     "output_type": "stream",
     "text": [
      "A\tB\tC\n"
     ]
    }
   ],
   "source": [
    "print('A\\tB\\tC')"
   ]
  },
  {
   "cell_type": "markdown",
   "id": "95be783f",
   "metadata": {},
   "source": [
    "# 7. Computers read = from Right to Left!"
   ]
  },
  {
   "cell_type": "markdown",
   "id": "3b4b2856",
   "metadata": {},
   "source": [
    "Consider the code below:"
   ]
  },
  {
   "cell_type": "code",
   "execution_count": 63,
   "id": "60d27940",
   "metadata": {},
   "outputs": [],
   "source": [
    "x = 40\n",
    "y = x + 2"
   ]
  },
  {
   "cell_type": "markdown",
   "id": "1efc62a3",
   "metadata": {},
   "source": [
    "How Python executes these instructions is as follows:\n",
    "\n",
    "This means that the following will work in programming (but not math!)."
   ]
  },
  {
   "cell_type": "code",
   "execution_count": 64,
   "id": "60b0f840",
   "metadata": {},
   "outputs": [
    {
     "name": "stdout",
     "output_type": "stream",
     "text": [
      "42\n"
     ]
    }
   ],
   "source": [
    "y = 40\n",
    "y = y + 2\n",
    "print(y)"
   ]
  },
  {
   "cell_type": "markdown",
   "id": "61469dd3",
   "metadata": {},
   "source": [
    "You will frequently see variables modified using this syntax. So, best get used to it.\n",
    "\n",
    "**Note**: Python also allows the following syntax."
   ]
  },
  {
   "cell_type": "code",
   "execution_count": 65,
   "id": "8e712fdb",
   "metadata": {},
   "outputs": [],
   "source": [
    "x = y = 10"
   ]
  },
  {
   "cell_type": "markdown",
   "id": "6d860cc4",
   "metadata": {},
   "source": [
    "# 8. Shorter and Cleaner Code"
   ]
  },
  {
   "cell_type": "markdown",
   "id": "c9fa8afe",
   "metadata": {},
   "source": [
    "- introducing some shorthand syntax related to the previous point that will make your code neater. This shorthand is used often so even if you do not want to use it, you still need to understand it.\n",
    "    - shorthand syntax are called augmented assignment\n",
    "\n",
    "- Consider the following two sets of code; both have the same result."
   ]
  },
  {
   "cell_type": "markdown",
   "id": "557118e8",
   "metadata": {},
   "source": [
    "First code: "
   ]
  },
  {
   "cell_type": "code",
   "execution_count": 66,
   "id": "001e9eea",
   "metadata": {},
   "outputs": [
    {
     "data": {
      "text/plain": [
       "42"
      ]
     },
     "execution_count": 66,
     "metadata": {},
     "output_type": "execute_result"
    }
   ],
   "source": [
    "y = 40\n",
    "y = y + 2\n",
    "y"
   ]
  },
  {
   "cell_type": "markdown",
   "id": "3b3f9525",
   "metadata": {},
   "source": [
    "Second code:"
   ]
  },
  {
   "cell_type": "code",
   "execution_count": 67,
   "id": "de685fdd",
   "metadata": {},
   "outputs": [
    {
     "data": {
      "text/plain": [
       "42"
      ]
     },
     "execution_count": 67,
     "metadata": {},
     "output_type": "execute_result"
    }
   ],
   "source": [
    "y = 40\n",
    "y += 2    # Same as y = y + 2\n",
    "y"
   ]
  },
  {
   "cell_type": "markdown",
   "id": "d0354ae7",
   "metadata": {},
   "source": [
    "So, we can replace `y = y + 2` with `y += 2`. Similar shorthand notation exists for subtraction, division and multiplication:\n",
    "\n",
    "||Long form|Shorthand|\n",
    "|:---|:--:|---:|\n",
    "|Addition|`y = y+2`|`y += 2`|\n",
    "|Subtraction|`y = y-2`|`y -= 2`|\n",
    "|Multiplication|`y = y*2`|`y *= 2`|\n",
    "|Division|`y = y/2`|`y /= 2`|"
   ]
  },
  {
   "cell_type": "markdown",
   "id": "1a1a6177",
   "metadata": {},
   "source": [
    "# 9. Python can be a prima-donna."
   ]
  },
  {
   "cell_type": "markdown",
   "id": "b9b7b2bd",
   "metadata": {},
   "source": [
    "When we do something Python doesn’t like or understand, it will often act like a prima-donna and throw a complaint with a *looong* error message. As with most complaints, scroll to the end to see the real problem.\n",
    "\n",
    "If you had used `Print()` in the previous chapter, you would have already seen an error message. Fixing coding errors is called **debugging**. Most programmers spend a long time debugging. Further, the more debugging you do, the more comfortable you will be with thinking and programming. So, use every opportunity you have to practice debugging."
   ]
  },
  {
   "cell_type": "markdown",
   "id": "164e355d",
   "metadata": {},
   "source": [
    "# 10. Best Practices for Scientific Computing"
   ]
  },
  {
   "cell_type": "markdown",
   "id": "b33caa9c",
   "metadata": {},
   "source": [
    "Now is an apt time to <mark>highlight</mark> some best practices you should **always** bear in mind. The following is an excerpt from Wilson et al. ([2014](https://journals.plos.org/plosbiology/article?id=10.1371/journal.pbio.1001745)). I have only given those points that apply to you **now**. I will bring up more as we progress on our journey. <br>\n",
    "    \n",
    "   1. **Write programs for people, not computers**.\n",
    "   2. **Optimise software only after it works correctly**.\n",
    "   3. **Document design and purpose, not mechanics**.\n",
    "   4. **Collaborate**.\n",
    "\n",
    "If you don’t take care, your code can quickly become unfathomable to others and your future self. So, consciously produce easily understandable code (for example, using appropriate variable names). In addition, discussing your code with your friends (collaboration) is helpful because you will get immediate feedback if your code is indecipherable or if you have misunderstood a concept.\n",
    "\n",
    "Another common pitfall novices succumb to is pursuing a perfect solution right from the get-go. Instead, it is better to get something (**anything**) working. You can then make things complicated and/or optimize your code.\n",
    "\n"
   ]
  },
  {
   "cell_type": "markdown",
   "id": "301bfc9f",
   "metadata": {},
   "source": [
    "# 11. Looking for help"
   ]
  },
  {
   "cell_type": "markdown",
   "id": "c3cd02e8",
   "metadata": {},
   "source": [
    "You can get help/information about Python functions from within Python. However, I do not recommend it at this stage. Let me show you why:"
   ]
  },
  {
   "cell_type": "code",
   "execution_count": 68,
   "id": "270cb042",
   "metadata": {
    "scrolled": true
   },
   "outputs": [
    {
     "name": "stdout",
     "output_type": "stream",
     "text": [
      "Help on built-in function print in module builtins:\n",
      "\n",
      "print(*args, sep=' ', end='\\n', file=None, flush=False)\n",
      "    Prints the values to a stream, or to sys.stdout by default.\n",
      "    \n",
      "    sep\n",
      "      string inserted between values, default a space.\n",
      "    end\n",
      "      string appended after the last value, default a newline.\n",
      "    file\n",
      "      a file-like object (stream); defaults to the current sys.stdout.\n",
      "    flush\n",
      "      whether to forcibly flush the stream.\n",
      "\n"
     ]
    }
   ],
   "source": [
    "help(print)"
   ]
  },
  {
   "cell_type": "markdown",
   "id": "72149bcc",
   "metadata": {},
   "source": [
    "The above is the documentation corresponding to the function `print()`. Unfortunately, unless you already have some experience, this documentation is not the friendliest. The internet (e.g. [stack overflow](https://stackoverflow.com/questions/tagged/python), Google or ChatGPT) is the fastest way to get a question about programming answered."
   ]
  },
  {
   "cell_type": "markdown",
   "id": "0d8712da",
   "metadata": {},
   "source": [
    "## References"
   ]
  },
  {
   "cell_type": "markdown",
   "id": "c0d1f467",
   "metadata": {},
   "source": [
    "Wilson, Greg, D. A. Aruliah, C. Titus Brown, Neil P. Chue Hong, Matt Davis, Richard T. Guy, Steven H. D. Haddock, et al. 2014. “Best Practices for Scientific Computing.” PLOS Biology 12 (1): e1001745. https://doi.org/10.1371/journal.pbio.1001745."
   ]
  }
 ],
 "metadata": {
  "kernelspec": {
   "display_name": "Python 3 (ipykernel)",
   "language": "python",
   "name": "python3"
  },
  "language_info": {
   "codemirror_mode": {
    "name": "ipython",
    "version": 3
   },
   "file_extension": ".py",
   "mimetype": "text/x-python",
   "name": "python",
   "nbconvert_exporter": "python",
   "pygments_lexer": "ipython3",
   "version": "3.11.7"
  },
  "toc": {
   "base_numbering": 1,
   "nav_menu": {},
   "number_sections": false,
   "sideBar": true,
   "skip_h1_title": false,
   "title_cell": "Table of Contents",
   "title_sidebar": "Contents",
   "toc_cell": false,
   "toc_position": {
    "height": "calc(100% - 180px)",
    "left": "10px",
    "top": "150px",
    "width": "294px"
   },
   "toc_section_display": true,
   "toc_window_display": true
  },
  "varInspector": {
   "cols": {
    "lenName": 16,
    "lenType": 16,
    "lenVar": 40
   },
   "kernels_config": {
    "python": {
     "delete_cmd_postfix": "",
     "delete_cmd_prefix": "del ",
     "library": "var_list.py",
     "varRefreshCmd": "print(var_dic_list())"
    },
    "r": {
     "delete_cmd_postfix": ") ",
     "delete_cmd_prefix": "rm(",
     "library": "var_list.r",
     "varRefreshCmd": "cat(var_dic_list()) "
    }
   },
   "types_to_exclude": [
    "module",
    "function",
    "builtin_function_or_method",
    "instance",
    "_Feature"
   ],
   "window_display": false
  },
  "vscode": {
   "interpreter": {
    "hash": "31f2aee4e71d21fbe5cf8b01ff0e069b9275f58929596ceb00d14d90e3e16cd6"
   }
  }
 },
 "nbformat": 4,
 "nbformat_minor": 5
}
