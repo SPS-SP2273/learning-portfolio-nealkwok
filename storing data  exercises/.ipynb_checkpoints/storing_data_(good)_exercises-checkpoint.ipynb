{
 "cells": [
  {
   "attachments": {},
   "cell_type": "markdown",
   "id": "123456",
   "metadata": {},
   "source": [
    "<div style=\"text-align:left;font-size:2em\"><span style=\"font-weight:bolder;font-size:1.25em\">SP2273 | Learning Portfolio</span><br><br><span style=\"font-weight:bold;color:darkred\">Storing Data (Good) Exercises</span></div>"
   ]
  },
  {
   "cell_type": "markdown",
   "id": "ddce0f17-3d6a-420f-bc52-76e7be264bb8",
   "metadata": {},
   "source": [
    "## Exercise 1 (Total recall) ☻"
   ]
  },
  {
   "cell_type": "markdown",
   "id": "374c86f8-aebb-49da-bd13-73dfa9590cfd",
   "metadata": {},
   "source": [
    "Purely from memory, write short descriptions of the following terms:\n",
    "\n",
    "|**Term**|**Brief description**|\n",
    "|:---|---:|\n",
    "|Subsetting|To select|\n",
    "|Indexing|Identify one element in a list or array|\n",
    "|Slicing|To obtain a range of elements in a list or array     |\n",
    "|Masking|A method to obtain a subset using `True`/`False`|          \n",
    "           \n",
    "           "
   ]
  },
  {
   "cell_type": "markdown",
   "id": "0ea6cb9a-0d10-4178-87aa-a5945ec5e4b5",
   "metadata": {},
   "source": [
    "## Exercise 2 (Show me the ‘odd’ letters) ☻"
   ]
  },
  {
   "cell_type": "code",
   "execution_count": 57,
   "id": "4d45e0e5-6b83-4b6a-a61c-f0fb4a750c82",
   "metadata": {},
   "outputs": [],
   "source": [
    "np_array_2d = np.array([[1, \"A\"], [3, \"C\"], [2, \"B\"], [4, \"D\"],\n",
    "                        [5, \"E\"], [7, \"G\"], [6, \"F\"], [8, \"H\"],\n",
    "                        [10, \"J\"], [9, \"I\"]])"
   ]
  },
  {
   "cell_type": "markdown",
   "id": "2e58ae11-e8f0-43d8-972f-7bd167389881",
   "metadata": {},
   "source": [
    "Use masking to subset the letters that correspond to the odd numbers. I.e., get the result `[A, C, E, G, I]`.\n",
    "\n",
    "This is a slightly tricky problem because arrays are fussy about type. So, let me give you a recipe to solve this problem.\n",
    "\n",
    "1. Subset all the first elements.\n",
    "You should get `array(['1', '3', '2', ..., '10', '9'])`\n",
    "1. Convert this to integers using `astype(int)`\n",
    "You must look up how `astype()` works.\n",
    "1. Use `%` to get the remainder for division by 2.\n",
    "You should get `array([1, 1, 0, ..., 0, 1])`.\n",
    "1. Use the previous result to create a mask that checks if the remainder is zero or not\n",
    "You should get `array([True, True, False, ..., False, True])`.\n",
    "Now you have identified the locations of the odd numbers.\n",
    "1. Use the mask and extract the corresponding second elements."
   ]
  },
  {
   "cell_type": "code",
   "execution_count": 66,
   "id": "2d48481a-4841-4108-8342-d7419cee24b1",
   "metadata": {},
   "outputs": [
    {
     "name": "stdout",
     "output_type": "stream",
     "text": [
      "[A, C, E, G, I]\n"
     ]
    }
   ],
   "source": [
    "import numpy as np\n",
    "\n",
    "array_int = np_array_2d[:10, 0].astype(int)   #get the array(['1', '3', '2'...'9'], dtype='<U21') \n",
    "                                              #then convert the insides into integers using astype() since '' denotes string\n",
    "\n",
    "x = np_array_2d[array_int % 2  == 1, 1]       #by dividing by 2, odd always gives 1 and even gives 0\n",
    "                                              #which can subsequently be used to denote True/False\n",
    "                                              #yields ['A' 'C' 'E' 'G' 'I']\n",
    " \n",
    "list(x)                                       #['A', 'C', 'E', 'G', 'I'] generated, trying to get my commas in\n",
    " \n",
    "print ('[%s]' % ', '.join(map(str, x)))       #employ Google to help remove the apostrophes"
   ]
  },
  {
   "cell_type": "markdown",
   "id": "1d6adbf7-7395-4163-8a8e-feef34e8001d",
   "metadata": {},
   "source": [
    "click [here](https://www.geeksforgeeks.org/python-ways-to-print-list-without-quotes/) for apostrophe removal services\n"
   ]
  }
 ],
 "metadata": {
  "kernelspec": {
   "display_name": "Python 3 (ipykernel)",
   "language": "python",
   "name": "python3"
  },
  "language_info": {
   "codemirror_mode": {
    "name": "ipython",
    "version": 3
   },
   "file_extension": ".py",
   "mimetype": "text/x-python",
   "name": "python",
   "nbconvert_exporter": "python",
   "pygments_lexer": "ipython3",
   "version": "3.11.7"
  },
  "toc": {
   "base_numbering": 1,
   "nav_menu": {},
   "number_sections": true,
   "sideBar": true,
   "skip_h1_title": false,
   "title_cell": "Table of Contents",
   "title_sidebar": "Contents",
   "toc_cell": false,
   "toc_position": {},
   "toc_section_display": true,
   "toc_window_display": false
  },
  "vscode": {
   "interpreter": {
    "hash": "31f2aee4e71d21fbe5cf8b01ff0e069b9275f58929596ceb00d14d90e3e16cd6"
   }
  }
 },
 "nbformat": 4,
 "nbformat_minor": 5
}
