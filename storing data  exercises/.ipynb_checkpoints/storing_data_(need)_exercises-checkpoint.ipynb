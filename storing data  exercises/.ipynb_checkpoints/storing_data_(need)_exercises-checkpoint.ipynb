{
 "cells": [
  {
   "attachments": {},
   "cell_type": "markdown",
   "id": "123456",
   "metadata": {},
   "source": [
    "<div style=\"text-align:left;font-size:2em\"><span style=\"font-weight:bolder;font-size:1.25em\">SP2273 | Learning Portfolio</span><br><br><span style=\"font-weight:bold;color:darkred\">Storing Data (Need) Exercises</span></div>"
   ]
  },
  {
   "cell_type": "markdown",
   "id": "e60a8882-0d3b-4289-847e-3bd4db5df0e9",
   "metadata": {},
   "source": [
    "## Exercise 1 (Total recall?) ☻"
   ]
  },
  {
   "cell_type": "markdown",
   "id": "ca23e2b2-7436-43ef-94cc-1688f9583447",
   "metadata": {},
   "source": [
    "1. Two similarities between lists and arrays.\n",
    "   - data in both lists and arrays are numbered starting from zero\n",
    "   - data in both lists and arrays are mutable\n",
    "1. Two differences between lists and arrays.\n",
    "   - lists can accomodate more than one type of data whereas arrays can only tolerate one\n",
    "   - applying mathematics to a list or array are different. for example, if i want to add the number \"10\" to each variable in the list, where i can just input `np_list + 10` for `numpy`, this won't work for `python`.\n",
    "1. What is a dictionary?\n",
    "   - it acts as a repository for data storage where data can be assigned and then subsequently accessed via its associated \"key\" through the use of `:`.\n"
   ]
  },
  {
   "cell_type": "markdown",
   "id": "3855104d-eaab-45fc-a945-f1de5826f00b",
   "metadata": {},
   "source": [
    "## Exercise 2 (Indexing) ☻"
   ]
  },
  {
   "cell_type": "markdown",
   "id": "b6715265-e1cd-44a7-ba1d-978a2d824c55",
   "metadata": {},
   "source": [
    "Modify the following code to print out all elements with an odd number. I have done the one corresponding to `i9` for you."
   ]
  },
  {
   "cell_type": "code",
   "execution_count": 5,
   "id": "7ca866a4-58dd-4e58-9579-87c4b677d86f",
   "metadata": {},
   "outputs": [
    {
     "name": "stdout",
     "output_type": "stream",
     "text": [
      "a1\n",
      "c3\n",
      "e5\n",
      "g7\n",
      "i9\n"
     ]
    }
   ],
   "source": [
    "py_list = [\"a1\", \"b2\", \"c3\", \"d4\", \"e5\", \"f6\", \"g7\", \"h8\", \"i9\", \"j10\"]  #lists are zero-indexed\n",
    "print(py_list[0])               # Prints 'a1'\n",
    "print(py_list[2])               # Prints 'c3'\n",
    "print(py_list[4])               # Prints 'e5'\n",
    "print(py_list[6])               # Prints 'g7'\n",
    "print(py_list[8])               # Prints 'i9'"
   ]
  },
  {
   "cell_type": "markdown",
   "id": "6e3f22ae-8b3e-4990-b4ac-20c096d81ffe",
   "metadata": {},
   "source": [
    "## Exercise 3 (Index again) ☻"
   ]
  },
  {
   "cell_type": "markdown",
   "id": "68e191b5-623b-48f1-b2c3-49f4bd44fa37",
   "metadata": {},
   "source": [
    "Given the following list in Python:"
   ]
  },
  {
   "cell_type": "code",
   "execution_count": 8,
   "id": "c95e61c6-314d-435c-9fb3-1fa7ea8cf659",
   "metadata": {},
   "outputs": [],
   "source": [
    "elements = ['Hydrogen',\n",
    "            'Helium', 'Lithium',\n",
    "            'Beryllium', 'Boron', 'Carbon',\n",
    "            'Nitrogen', 'Oxygen',\n",
    "            'Fluorine',\n",
    "            'Neon']"
   ]
  },
  {
   "cell_type": "markdown",
   "id": "35cf72a9-d628-4328-954e-e2e45b622450",
   "metadata": {},
   "source": [
    "1. Access and print the element at index 4 using forward indexing.\n",
    "   - element at index 4 is boron."
   ]
  },
  {
   "cell_type": "code",
   "execution_count": 10,
   "id": "c36411b0-ae75-4815-a6a5-1d60ebba3c7b",
   "metadata": {},
   "outputs": [
    {
     "name": "stdout",
     "output_type": "stream",
     "text": [
      "Boron\n"
     ]
    }
   ],
   "source": [
    "print(elements[4]) "
   ]
  },
  {
   "cell_type": "markdown",
   "id": "b32dfca7-6a62-462d-a4c6-61010999900d",
   "metadata": {},
   "source": [
    "2. Access and print the element at index 4 from the end of the list using reverse indexing."
   ]
  },
  {
   "cell_type": "code",
   "execution_count": 11,
   "id": "72fab46f-7f4d-4e94-9e92-951c1175d2a4",
   "metadata": {},
   "outputs": [
    {
     "name": "stdout",
     "output_type": "stream",
     "text": [
      "Boron\n"
     ]
    }
   ],
   "source": [
    "print(elements[-6])"
   ]
  },
  {
   "cell_type": "markdown",
   "id": "88bee7d7-cec0-4f60-b9bd-cfd7419c3c0c",
   "metadata": {},
   "source": [
    "## Exercise 4 (How many ones) ☻\n",
    "\n"
   ]
  },
  {
   "cell_type": "markdown",
   "id": "f422d5ca-5966-476d-88f4-150a9d39ba95",
   "metadata": {},
   "source": [
    "Use the concepts you learned in this chapter to determine the number of 1’s in the following list of numbers."
   ]
  },
  {
   "cell_type": "code",
   "execution_count": 17,
   "id": "597cc01d-0231-4cc9-b913-600eeebff8b9",
   "metadata": {},
   "outputs": [],
   "source": [
    "numbers=[45, 60, 1, 30, 96, 1, 96, 57, 16, 1,\n",
    "        99, 62, 86, 43, 42, 60, 59, 1, 1, 35,\n",
    "        83, 47, 34, 28, 68, 23, 22, 92, 1, 79,\n",
    "        1, 29, 94, 72, 46, 47, 1, 74, 32, 20,\n",
    "        8, 37, 35, 1, 89, 29, 86, 19, 43, 61]                  "
   ]
  },
  {
   "cell_type": "markdown",
   "id": "92c647fe-c654-41d4-a29e-20784accb753",
   "metadata": {},
   "source": [
    "Here are some hints:\n",
    "\n",
    "Use a NumPy array.\n",
    "Ask a question.\n",
    "False is considered 0, and True is considered 1 by sum()."
   ]
  },
  {
   "cell_type": "code",
   "execution_count": 19,
   "id": "b3cf6e4d-ce9f-49c3-826a-b268c1732196",
   "metadata": {},
   "outputs": [
    {
     "data": {
      "text/plain": [
       "9"
      ]
     },
     "execution_count": 19,
     "metadata": {},
     "output_type": "execute_result"
    }
   ],
   "source": [
    "import numpy as np                   #gotta get numpy first\n",
    "array_numbers=np.array(numbers)      #since we need to ask a question to yield true/false, we need an output which gives us an array of true and false responses\n",
    "(array_numbers == 1).sum()           #since false is 0 and true is 1 by sum(), sum of array_numbers gives the sum of all the \"true\" which correlates to the \"1\" in the numbers list.             \n"
   ]
  }
 ],
 "metadata": {
  "kernelspec": {
   "display_name": "Python 3 (ipykernel)",
   "language": "python",
   "name": "python3"
  },
  "language_info": {
   "codemirror_mode": {
    "name": "ipython",
    "version": 3
   },
   "file_extension": ".py",
   "mimetype": "text/x-python",
   "name": "python",
   "nbconvert_exporter": "python",
   "pygments_lexer": "ipython3",
   "version": "3.11.7"
  },
  "toc": {
   "base_numbering": 1,
   "nav_menu": {},
   "number_sections": true,
   "sideBar": true,
   "skip_h1_title": false,
   "title_cell": "Table of Contents",
   "title_sidebar": "Contents",
   "toc_cell": false,
   "toc_position": {},
   "toc_section_display": true,
   "toc_window_display": false
  },
  "vscode": {
   "interpreter": {
    "hash": "31f2aee4e71d21fbe5cf8b01ff0e069b9275f58929596ceb00d14d90e3e16cd6"
   }
  }
 },
 "nbformat": 4,
 "nbformat_minor": 5
}
