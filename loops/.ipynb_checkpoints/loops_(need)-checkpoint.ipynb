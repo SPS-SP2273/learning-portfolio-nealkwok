{
 "cells": [
  {
   "attachments": {},
   "cell_type": "markdown",
   "id": "123456",
   "metadata": {},
   "source": [
    "<div style=\"text-align:left;font-size:2em\"><span style=\"font-weight:bolder;font-size:1.25em\">SP2273 | Learning Portfolio</span><br><br><span style=\"font-weight:bold;color:darkred\">Loops (Need)</span></div>"
   ]
  },
  {
   "attachments": {},
   "cell_type": "markdown",
   "id": "e4c56187",
   "metadata": {},
   "source": [
    "# What to expect in this chapter"
   ]
  },
  {
   "cell_type": "markdown",
   "id": "1d38b67f-3845-4806-bdf5-14e4171ca9b6",
   "metadata": {},
   "source": [
    "1. repeating tasks over and over again\n",
    "2. aka <mark>loops</mark> or <mark>iterations</mark>\n",
    "3. two mechanisms for looping\n",
    "   - `for` statement (used more often)\n",
    "   - `while` statement"
   ]
  },
  {
   "attachments": {},
   "cell_type": "markdown",
   "id": "589b89c2",
   "metadata": {},
   "source": [
    "# 1 The `for` iterator"
   ]
  },
  {
   "cell_type": "markdown",
   "id": "fd8c6b8f-7f3b-4e6d-b423-c93feb02f3ac",
   "metadata": {},
   "source": [
    "starting with an example... \n",
    "goal: to print a message corresponding to every superhero in the following list:"
   ]
  },
  {
   "cell_type": "code",
   "execution_count": 7,
   "id": "79325a00-880c-4e11-9672-da257304a7fa",
   "metadata": {},
   "outputs": [],
   "source": [
    "real_names = [\"Natasha Romanoff\", \"Tony Stark\", \"Stephen Strange\"]"
   ]
  },
  {
   "cell_type": "markdown",
   "id": "2d4f540b-dcad-4907-a5a0-52216f7c8dbb",
   "metadata": {},
   "source": [
    "an example of a bad/inefficient way:"
   ]
  },
  {
   "cell_type": "code",
   "execution_count": 8,
   "id": "35f6cb21-880d-4c8d-9514-e33f85ac5a47",
   "metadata": {},
   "outputs": [
    {
     "name": "stdout",
     "output_type": "stream",
     "text": [
      "Natasha Romanoff is a Marvel superhero!\n",
      "Tony Stark is a Marvel superhero!\n",
      "Stephen Strange is a Marvel superhero!\n"
     ]
    }
   ],
   "source": [
    "name=real_names[0]\n",
    "print(f\"{name} is a Marvel superhero!\")\n",
    "\n",
    "name=real_names[1]\n",
    "print(f\"{name} is a Marvel superhero!\")\n",
    "\n",
    "name=real_names[2]\n",
    "print(f\"{name} is a Marvel superhero!\")"
   ]
  },
  {
   "cell_type": "markdown",
   "id": "dd537b6c-193b-469e-bc1e-3ce1b975d2ed",
   "metadata": {},
   "source": [
    "this method is bad because:\n",
    "1. it does not **scale** very well (imagine having many more names, such as several hundreds)\n",
    "1. it is cumbersome to **make changes**, you have to do it for each line.\n",
    "1. it is highly **error prone**, since you need to type something new (even if you are copying and pasting most of it)."
   ]
  },
  {
   "attachments": {},
   "cell_type": "markdown",
   "id": "003ec245",
   "metadata": {},
   "source": [
    "## 1.1 for with a list"
   ]
  },
  {
   "cell_type": "markdown",
   "id": "acb0c515-fe43-47f9-bc57-e065abe7eec2",
   "metadata": {},
   "source": [
    "utilising `for`"
   ]
  },
  {
   "cell_type": "code",
   "execution_count": 9,
   "id": "2138f017-4bc1-4141-a714-13ba1d6ac79f",
   "metadata": {},
   "outputs": [
    {
     "name": "stdout",
     "output_type": "stream",
     "text": [
      "Natasha Romanoff is a Marvel superhero!\n",
      "Tony Stark is a Marvel superhero!\n",
      "Stephen Strange is a Marvel superhero!\n"
     ]
    }
   ],
   "source": [
    "for name in real_names:\n",
    "    print(f\"{name} is a Marvel superhero!\")"
   ]
  },
  {
   "cell_type": "markdown",
   "id": "cbd82d49-1b8b-446d-952e-facf1c32c2a1",
   "metadata": {},
   "source": [
    "structure/mode of operation of `for`:\n",
    "1. it goes through the list and <mark>assigns `name` the value of each element of the list</mark>.\n",
    "1. it then <mark>runs</mark> the code-block using this value of name.\n",
    "1. the code block is deginted by using `:` and tabs like with `if`."
   ]
  },
  {
   "cell_type": "markdown",
   "id": "3652a5c3-48cd-4edf-9b23-42a92168d217",
   "metadata": {},
   "source": [
    "<div class=\"alert alert-block alert-success\">\n",
    "<b>Remember:</b> \n",
    "<p>1. <code>for</code> can be used to directly loop through a list.</p>\n",
    "    2. names of variables don't actually have to be called \"name\". you can name it something else...\n",
    "</div>"
   ]
  },
  {
   "cell_type": "code",
   "execution_count": 10,
   "id": "104f610e-492e-4e80-916f-5aa3f850aee9",
   "metadata": {},
   "outputs": [
    {
     "name": "stdout",
     "output_type": "stream",
     "text": [
      "Natasha Romanoff is a Marvel superhero!\n",
      "Tony Stark is a Marvel superhero!\n",
      "Stephen Strange is a Marvel superhero!\n"
     ]
    }
   ],
   "source": [
    "for x in real_names:\n",
    "    print(f\"{x} is a Marvel superhero!\")"
   ]
  },
  {
   "attachments": {},
   "cell_type": "markdown",
   "id": "46c517db",
   "metadata": {},
   "source": [
    "## 1.2 `for` with `enumerate`"
   ]
  },
  {
   "cell_type": "markdown",
   "id": "1691ae32-8c04-4e7f-8595-2ebea2a70878",
   "metadata": {},
   "source": [
    "if we want to do a bit *more*, like using the information in both of the following lists..."
   ]
  },
  {
   "cell_type": "code",
   "execution_count": 11,
   "id": "00f740d9-d8c1-4ccf-a4e6-bc848a372c79",
   "metadata": {},
   "outputs": [],
   "source": [
    "super_names = [\"Black Widow\", \"Iron Man\", \"Doctor Strange\"]\n",
    "real_names = [\"Natasha Romanoff\", \"Tony Stark\", \"Stephen Strange\"]"
   ]
  },
  {
   "cell_type": "markdown",
   "id": "287a445f-e68f-4d58-b5e0-7bcec7619091",
   "metadata": {},
   "source": [
    "`for` loop only accepts **one list**, thus we need to do something else to access the data in **both lists**. One option is to use `enumerate()`. using `enumerate()`..."
   ]
  },
  {
   "cell_type": "code",
   "execution_count": 12,
   "id": "ad1d4d01-562e-4757-b818-17ea3440beb7",
   "metadata": {},
   "outputs": [
    {
     "name": "stdout",
     "output_type": "stream",
     "text": [
      "0: Natasha Romanoff is a Marvel superhero!\n",
      "1: Tony Stark is a Marvel superhero!\n",
      "2: Stephen Strange is a Marvel superhero!\n"
     ]
    }
   ],
   "source": [
    "for count, name in enumerate(real_names):\n",
    "    print(f'{count}: {name} is a Marvel superhero!')"
   ]
  },
  {
   "cell_type": "markdown",
   "id": "80c9eab8-1d81-4f46-9403-e5edc53c23d1",
   "metadata": {},
   "source": [
    "You can think of `enumerate()` as something that keeps `count`. In the above example, `enumerate()` not only gives the elements of the list, it also gives you a number (that is stored in `count`).\n",
    "\n",
    "Other than counting, we can use the count given by `enumerate()` to index the other list!"
   ]
  },
  {
   "cell_type": "code",
   "execution_count": 13,
   "id": "b6cb89eb-be6c-4364-b4ad-c9f1649087fe",
   "metadata": {},
   "outputs": [
    {
     "name": "stdout",
     "output_type": "stream",
     "text": [
      "Natasha Romanoff is Black Widow!\n",
      "Tony Stark is Iron Man!\n",
      "Stephen Strange is Doctor Strange!\n"
     ]
    }
   ],
   "source": [
    "for index, name in enumerate(real_names):\n",
    "    superhero_name = super_names[index]\n",
    "    print(f'{name} is {superhero_name}!')"
   ]
  },
  {
   "cell_type": "markdown",
   "id": "e3ef7ca9-628d-4b84-8655-7b8bb0e9e1a1",
   "metadata": {},
   "source": [
    "To note...\n",
    "1. Notice how I changed the variable name used with `enumerate()` to (`count` and `index`) to match their logical use. This makes it easy to iimediately see what you are doing (i.e., the intention) wiht the code. Python does not really care abot this, but remember that we write programmes for humans!\n",
    "1. Although by default, `enumerate()` starts counting from 0, we can easily change it to start at another value, say 100."
   ]
  },
  {
   "cell_type": "markdown",
   "id": "d1376c19-532b-45f0-beb4-a229899897f0",
   "metadata": {},
   "source": [
    "<div class=\"alert alert-block alert-success\">\n",
    "<b>Remember:</b> \n",
    "<p>Remember that `for` can be combined with `enumerate()` to count while looping through a list.</p>\n",
    "</div>"
   ]
  },
  {
   "attachments": {},
   "cell_type": "markdown",
   "id": "10d75cb1",
   "metadata": {},
   "source": [
    "## 1.3 `for` with `range`"
   ]
  },
  {
   "cell_type": "markdown",
   "id": "6b772d9c-3084-415a-b7d9-f36a44d99321",
   "metadata": {},
   "source": [
    "Yet, another way to achieve the result above is by using the function `range()`. But, first lets see what `range()` can do..."
   ]
  },
  {
   "cell_type": "markdown",
   "id": "5876a913-43da-4775-be72-f3bfd3009c74",
   "metadata": {},
   "source": [
    "We can use `range()` to get the `for` loop to run a given number of loops (5 in this example)."
   ]
  },
  {
   "cell_type": "code",
   "execution_count": 14,
   "id": "75022f29-66eb-4879-bc63-1ab43f90277b",
   "metadata": {},
   "outputs": [
    {
     "name": "stdout",
     "output_type": "stream",
     "text": [
      "0\n",
      "1\n",
      "2\n",
      "3\n",
      "4\n"
     ]
    }
   ],
   "source": [
    "for i in range(5):\n",
    "    print(i)"
   ]
  },
  {
   "cell_type": "markdown",
   "id": "6d5593ca-3dee-4590-b657-6205351564bd",
   "metadata": {},
   "source": [
    "We can tailor the starting and ending values…"
   ]
  },
  {
   "cell_type": "code",
   "execution_count": 15,
   "id": "b7a0c445-07b7-4076-97ea-ad51d91e0602",
   "metadata": {},
   "outputs": [
    {
     "name": "stdout",
     "output_type": "stream",
     "text": [
      "5\n",
      "6\n",
      "7\n",
      "8\n",
      "9\n"
     ]
    }
   ],
   "source": [
    "for i in range(5, 10):\n",
    "    print(i)"
   ]
  },
  {
   "cell_type": "markdown",
   "id": "b4d8cfe7-fa6e-49e4-9283-da1118883eb3",
   "metadata": {},
   "source": [
    "We can even adjust the step size."
   ]
  },
  {
   "cell_type": "code",
   "execution_count": 16,
   "id": "2d6d256a-7bb9-4e4d-a2f1-23e82895bf18",
   "metadata": {},
   "outputs": [
    {
     "name": "stdout",
     "output_type": "stream",
     "text": [
      "1\n",
      "4\n",
      "7\n"
     ]
    }
   ],
   "source": [
    "for i in range(1, 10, 3):\n",
    "    print(i)"
   ]
  },
  {
   "cell_type": "markdown",
   "id": "6d855d24-7799-424c-9381-7a7740e90aca",
   "metadata": {},
   "source": [
    "Note:\n",
    "\n",
    "- Functions like `range()` and `enumerate()` only work with looping structures.\n",
    "- `range()` always ends one short of the ending number.\n",
    "  \n",
    "Now, let’s return to our initial problem of printing superhero names. We can use `range()` as follows:\n",
    "\n"
   ]
  },
  {
   "cell_type": "code",
   "execution_count": 17,
   "id": "c29eae59-db9f-46b9-b44b-85509ee50c92",
   "metadata": {},
   "outputs": [
    {
     "name": "stdout",
     "output_type": "stream",
     "text": [
      "Natasha Romanoff is Marvel's Black Widow!\n",
      "Tony Stark is Marvel's Iron Man!\n",
      "Stephen Strange is Marvel's Doctor Strange!\n"
     ]
    }
   ],
   "source": [
    "for i in range(len(real_names)):\n",
    "    real_name = real_names[i]\n",
    "    super_name = super_names[i]        \n",
    "    print(f\"{real_name} is Marvel's {super_name}!\")"
   ]
  },
  {
   "cell_type": "markdown",
   "id": "8d36059d-3529-4f86-ae09-e06181cfbf88",
   "metadata": {},
   "source": [
    "Note:\n",
    "\n",
    "`len(real_names)` was utilised to get how many times the loop should run."
   ]
  },
  {
   "cell_type": "markdown",
   "id": "b9e1dd01-b9fe-4a6d-86c6-51aa65d68945",
   "metadata": {},
   "source": [
    "<div class=\"alert alert-block alert-success\">\n",
    "<b>Remember:</b> \n",
    "<p>1. Remember that for can be run a given number of times using range().</p>\n",
    "</div>"
   ]
  },
  {
   "attachments": {},
   "cell_type": "markdown",
   "id": "e6c31d68",
   "metadata": {},
   "source": [
    "# 2 `while`"
   ]
  },
  {
   "cell_type": "markdown",
   "id": "f49df3c4-bbc1-4f0b-8f5c-cbe67e0aefd3",
   "metadata": {},
   "source": [
    "A `while` loop is set up so that it keeps on running while a condition is `True`. So the `while` loop **checks the condition** at the start and begins another loop if it is `True`.\n",
    "\n",
    "In the adjoining example the loop keeps on going while the number is less than 5.\n",
    "\n",
    "A useful feature of the `while` loop is that you do not need to know beforehand **how many iterations** are needed."
   ]
  },
  {
   "cell_type": "code",
   "execution_count": 19,
   "id": "d8aa82ef-b8f5-441b-85ed-9659290f1fe4",
   "metadata": {},
   "outputs": [
    {
     "name": "stdout",
     "output_type": "stream",
     "text": [
      "0\n",
      "1\n",
      "2\n",
      "3\n",
      "4\n"
     ]
    }
   ],
   "source": [
    "number = 0\n",
    "\n",
    "while number < 5:\n",
    "    print(number)\n",
    "    number += 1"
   ]
  }
 ],
 "metadata": {
  "kernelspec": {
   "display_name": "Python 3 (ipykernel)",
   "language": "python",
   "name": "python3"
  },
  "language_info": {
   "codemirror_mode": {
    "name": "ipython",
    "version": 3
   },
   "file_extension": ".py",
   "mimetype": "text/x-python",
   "name": "python",
   "nbconvert_exporter": "python",
   "pygments_lexer": "ipython3",
   "version": "3.11.7"
  },
  "toc": {
   "base_numbering": 1,
   "nav_menu": {},
   "number_sections": true,
   "sideBar": true,
   "skip_h1_title": false,
   "title_cell": "Table of Contents",
   "title_sidebar": "Contents",
   "toc_cell": false,
   "toc_position": {},
   "toc_section_display": true,
   "toc_window_display": false
  },
  "vscode": {
   "interpreter": {
    "hash": "31f2aee4e71d21fbe5cf8b01ff0e069b9275f58929596ceb00d14d90e3e16cd6"
   }
  }
 },
 "nbformat": 4,
 "nbformat_minor": 5
}
