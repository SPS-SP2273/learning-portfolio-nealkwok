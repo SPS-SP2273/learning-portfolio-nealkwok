{
 "cells": [
  {
   "attachments": {},
   "cell_type": "markdown",
   "id": "123456",
   "metadata": {},
   "source": [
    "<div style=\"text-align:left;font-size:2em\"><span style=\"font-weight:bolder;font-size:1.25em\">SP2273 | Learning Portfolio</span><br><br><span style=\"font-weight:bold;color:darkred\">Loops (Good)</span></div>"
   ]
  },
  {
   "attachments": {},
   "cell_type": "markdown",
   "id": "483879df",
   "metadata": {},
   "source": [
    "# What to expect in this chapter"
   ]
  },
  {
   "cell_type": "markdown",
   "id": "deef031d-e14a-4098-9b8b-793657e30827",
   "metadata": {},
   "source": [
    "- how to exercise **more control** over what happens in loops by using the `continue` and `break` statements\n",
    "- introudction to **list comprehension**, a <mark>super-optimised</mark> variant of the for a loop\n",
    "  - can be used to create lists from other lists"
   ]
  },
  {
   "attachments": {},
   "cell_type": "markdown",
   "id": "c143129a",
   "metadata": {},
   "source": [
    "# 1 Interrupting the flow"
   ]
  },
  {
   "cell_type": "markdown",
   "id": "d1f21563-00e0-441e-9ecb-3eb90dce1bb1",
   "metadata": {},
   "source": [
    "`break` and `continue` allow us to change the flow from **within** a loop"
   ]
  },
  {
   "cell_type": "markdown",
   "id": "c84deba4-a7ce-4b6e-820c-bd7e0ee312e0",
   "metadata": {},
   "source": [
    "Example 1:\n",
    "1. We use `break` to break-out of the loop and terminate it.\n",
    "1. We typically use it with `if` so that we break out if a certain condition is met.\n",
    "1. This will also work with a `while` loop."
   ]
  },
  {
   "cell_type": "code",
   "execution_count": 5,
   "id": "4e29ae5d-f0bb-4b2e-9ce1-7d285d70c360",
   "metadata": {},
   "outputs": [
    {
     "name": "stdout",
     "output_type": "stream",
     "text": [
      "0 1\n",
      "1 10\n",
      "2 100\n",
      "3 1000\n"
     ]
    }
   ],
   "source": [
    "for power in range(5):\n",
    "    number = 10**power\n",
    "    if number > 5000:\n",
    "        break\n",
    "    print(power, number)"
   ]
  },
  {
   "cell_type": "markdown",
   "id": "4a80dff9-1276-4365-8e23-6ce49805d065",
   "metadata": {},
   "source": [
    "Example 2:\n",
    "\n",
    "1. Sometimes we want to skip an iteration and just move on to the next.\n",
    "2. `continue` allows us to do this by skipping everything after it.\n",
    "1. Notice how there is no printout for power = 3.\n",
    "1. `continue` too is typically used with `if`.\n",
    "1. This will also work with a `while` loop."
   ]
  },
  {
   "cell_type": "code",
   "execution_count": 6,
   "id": "87a783c2-28ca-4062-85ab-a13b2a21e9c7",
   "metadata": {},
   "outputs": [
    {
     "name": "stdout",
     "output_type": "stream",
     "text": [
      "0 1\n",
      "1 10\n",
      "2 100\n",
      "4 10000\n"
     ]
    }
   ],
   "source": [
    "for power in range(5):\n",
    "    if power == 3:\n",
    "        continue        # Don't proceed further\n",
    "                        # IN THE CURRENT LOOP\n",
    "                        # if i == 3\n",
    "    number = 10**power\n",
    "    print(power, number)"
   ]
  },
  {
   "cell_type": "markdown",
   "id": "31ee1553-168c-4000-a2a2-14af0220414e",
   "metadata": {},
   "source": [
    "Example 3:"
   ]
  },
  {
   "cell_type": "code",
   "execution_count": 7,
   "id": "3d44c3a8-6dab-4df5-bfb1-8e20d4486a28",
   "metadata": {},
   "outputs": [
    {
     "name": "stdout",
     "output_type": "stream",
     "text": [
      "1\n",
      "3\n",
      "5\n",
      "7\n",
      "9\n"
     ]
    }
   ],
   "source": [
    "for number in range(10):\n",
    "    # Don't proceed if the remainder is zero\n",
    "    # I.e. if the number is even\n",
    "    if number % 2 == 0:\n",
    "        continue\n",
    "    print(number)"
   ]
  },
  {
   "cell_type": "markdown",
   "id": "aed368d9-ee2e-41a6-a27d-6b9b12b989e6",
   "metadata": {},
   "source": [
    "Example 4:\n",
    "\n",
    "1. Let's redo the `while` example from the past chapter using `break`.\n",
    "1. Notice that I setup the loop to run forever and use `break` to stop it.\n"
   ]
  },
  {
   "cell_type": "markdown",
   "id": "a84b82eb-8430-4409-92d7-cb5777fb501b",
   "metadata": {},
   "source": [
    "<div class=\"alert alert-block alert-success\">\n",
    "<b>Remember:</b> \n",
    "<p>1. Remember you can use <code>break</code> and <code>continue</code> (with impunity) to interrupt the flow of loops.</p>\n",
    "</div>"
   ]
  },
  {
   "attachments": {},
   "cell_type": "markdown",
   "id": "8f2bb4ff",
   "metadata": {},
   "source": [
    "# 2 List comprehension!"
   ]
  },
  {
   "cell_type": "markdown",
   "id": "fd603e0f-6e31-4e0d-b1db-3b7d4a8806fe",
   "metadata": {},
   "source": [
    "The exercises of the previous chapter had you using loops to create lists. However, creating new lists from other lists is <font color=#846FC4>*so common*</font> that Python has an optimised syntax called list comprehension to do just that. Here is how it works."
   ]
  },
  {
   "attachments": {},
   "cell_type": "markdown",
   "id": "7adab9d5",
   "metadata": {},
   "source": [
    "## 2.1 Basic syntax"
   ]
  },
  {
   "cell_type": "markdown",
   "id": "5111a368-bd91-466e-a8fb-e2eafa473862",
   "metadata": {},
   "source": [
    "The adjoining creates a simple list with numbers from 0 to 4.\n",
    "The syntax is very similar to that of a` for` loop. You just need to put the thing you want as an output at the front."
   ]
  },
  {
   "cell_type": "code",
   "execution_count": 8,
   "id": "91a1edd9-653d-4426-8a3b-e1f6db8967ab",
   "metadata": {},
   "outputs": [
    {
     "data": {
      "text/plain": [
       "[0, 1, 2, 3, 4]"
      ]
     },
     "execution_count": 8,
     "metadata": {},
     "output_type": "execute_result"
    }
   ],
   "source": [
    "[number for number in range(5)]"
   ]
  },
  {
   "cell_type": "markdown",
   "id": "1c417521-a84f-4b59-8210-9dc50c587b8e",
   "metadata": {},
   "source": [
    "If you want to create a list of squares, we just have to:"
   ]
  },
  {
   "cell_type": "code",
   "execution_count": 9,
   "id": "11328913-e24e-4db1-bb56-83b9517d354e",
   "metadata": {},
   "outputs": [
    {
     "data": {
      "text/plain": [
       "[0, 1, 4, 9, 16]"
      ]
     },
     "execution_count": 9,
     "metadata": {},
     "output_type": "execute_result"
    }
   ],
   "source": [
    "[number**2 for number in range(5)]"
   ]
  },
  {
   "attachments": {},
   "cell_type": "markdown",
   "id": "b9cbf0ac",
   "metadata": {},
   "source": [
    "## 2.2 List comprehension with conditions"
   ]
  },
  {
   "cell_type": "markdown",
   "id": "272929bf-3eba-496b-b586-9cf5928ff6f3",
   "metadata": {},
   "source": [
    "List comprehension has several useful features. One such allows us to specify a condition. Here is an example:"
   ]
  },
  {
   "cell_type": "code",
   "execution_count": 10,
   "id": "4f0621d7-2c7d-4c50-a86d-bb59557cd14b",
   "metadata": {},
   "outputs": [
    {
     "data": {
      "text/plain": [
       "[0, 2, 4, 6, 8]"
      ]
     },
     "execution_count": 10,
     "metadata": {},
     "output_type": "execute_result"
    }
   ],
   "source": [
    "[number for number in range(10) if number % 2 ==0]"
   ]
  },
  {
   "attachments": {},
   "cell_type": "markdown",
   "id": "4cac2a58",
   "metadata": {},
   "source": [
    "# 3 Other useful stuff"
   ]
  },
  {
   "attachments": {},
   "cell_type": "markdown",
   "id": "26f98477",
   "metadata": {},
   "source": [
    "## 3.1 for with unpacking"
   ]
  },
  {
   "cell_type": "markdown",
   "id": "89f0e119-0f67-4450-bc96-d64e645a947c",
   "metadata": {},
   "source": [
    "Python allows a neat trick called <font color=#846FC4>*unpacking*</font> , which works like this:"
   ]
  },
  {
   "cell_type": "code",
   "execution_count": 16,
   "id": "5c19e1c1-c0d2-403c-a7a9-ac1f70cc0fda",
   "metadata": {},
   "outputs": [
    {
     "name": "stdout",
     "output_type": "stream",
     "text": [
      "x = 1, y = 2, z = 3\n"
     ]
    }
   ],
   "source": [
    "x, y, z=[1, 2, 3]\n",
    "print(f'x = {x}, y = {y}, z = {z}')"
   ]
  },
  {
   "cell_type": "markdown",
   "id": "15971e2d-1151-42b2-bd8a-89fe5b12a2cf",
   "metadata": {},
   "source": [
    "Unpacking can be put to good use (for example) when we are dealing with 2D list. We can combine unpacking with a for loop to extract elements as follows:"
   ]
  },
  {
   "cell_type": "code",
   "execution_count": 17,
   "id": "c4635d65-7020-4cd2-8756-0f1535e0af66",
   "metadata": {},
   "outputs": [
    {
     "name": "stdout",
     "output_type": "stream",
     "text": [
      "Natasha Romanoff is Marvel's Black Widow!\n",
      "Tony Stark is Marvel's Iron Man!\n",
      "Stephen Strange is Marvel's Doctor Strange!\n"
     ]
    }
   ],
   "source": [
    "py_superhero_info = [['Natasha Romanoff', 'Black Widow'],\n",
    "                     ['Tony Stark', 'Iron Man'],\n",
    "                     ['Stephen Strange', 'Doctor Strange']]\n",
    "\n",
    "for real_name, super_name in py_superhero_info:\n",
    "    print(f\"{real_name} is Marvel's {super_name}!\")"
   ]
  },
  {
   "attachments": {},
   "cell_type": "markdown",
   "id": "06b66f80",
   "metadata": {},
   "source": [
    "## 3.2 `for` with `zip()`"
   ]
  },
  {
   "cell_type": "markdown",
   "id": "349cc293-7f62-4376-8740-d40307cf3066",
   "metadata": {},
   "source": [
    "revisiting the example from the previous chapter that had two lists of real and superhero names that we used to print, there is yet another way to solve this task using a function called `zip()`. to use `zip()` to combine two lists:"
   ]
  },
  {
   "cell_type": "code",
   "execution_count": 18,
   "id": "7c0dfbe6-fc88-45d7-bda8-118971b77ee6",
   "metadata": {},
   "outputs": [
    {
     "name": "stdout",
     "output_type": "stream",
     "text": [
      "Natasha Romanoff is Marvel's Black Widow!\n",
      "Tony Stark is Marvel's Iron Man!\n",
      "Stephen Strange is Marvel's Doctor Strange!\n"
     ]
    }
   ],
   "source": [
    "super_names = [\"Black Widow\", \"Iron Man\", \"Doctor Strange\"]\n",
    "real_names = [\"Natasha Romanoff\", \"Tony Stark\", \"Stephen Strange\"]\n",
    "\n",
    "for real_name, super_name in zip(real_names,super_names):\n",
    "    print(f\"{real_name} is Marvel's {super_name}!\")"
   ]
  },
  {
   "cell_type": "markdown",
   "id": "ceea233d-7c1f-4bea-b992-d0bcb61bbd57",
   "metadata": {},
   "source": [
    "This is by far the <mark style=\"background-color:#846FC4\">most elegant solution</mark> we have for using multiple lists with a `for` loop. "
   ]
  },
  {
   "attachments": {},
   "cell_type": "markdown",
   "id": "76846d51",
   "metadata": {},
   "source": [
    "## 3.3 `for` with dictionaries"
   ]
  },
  {
   "cell_type": "markdown",
   "id": "20500d68-92e9-4609-a51f-adf2d9477055",
   "metadata": {},
   "source": [
    "You will invariably need to loop through dictionaries in your programming career. Here is how you can do it with a for loop. \n",
    "<div class=\"alert alert-block alert-info\">\n",
    "<b>Panel</b> \n",
    "  <p>1. The above statement heavily implies a programming career. I am not too sure about that.</p>\n",
    "</div>"
   ]
  },
  {
   "cell_type": "code",
   "execution_count": 14,
   "id": "2f24f9ec-fc62-49a6-b8f8-7706c900becb",
   "metadata": {},
   "outputs": [
    {
     "name": "stdout",
     "output_type": "stream",
     "text": [
      "Natasha Romanoff is Marvel's Black Widow!\n",
      "Tony Stark is Marvel's Iron Man!\n",
      "Stephen Strange is Marvel's Doctor Strange!\n"
     ]
    }
   ],
   "source": [
    "superhero_info={\"Natasha Romanoff\": \"Black Widow\",\n",
    "                \"Tony Stark\": \"Iron Man\",\n",
    "                \"Stephen Strange\": \"Doctor Strange\"}\n",
    "\n",
    "for key, value in superhero_info.items():\n",
    "    print(f\"{key} is Marvel's {value}!\")"
   ]
  },
  {
   "cell_type": "markdown",
   "id": "da6919bb-0b4d-4cc9-85ac-8edb37f81c0d",
   "metadata": {},
   "source": [
    "The ‘hidden’ function `items()` spits out both the key and the corresponding value.\n",
    "\n",
    "If you like, you can directly access the keys as follows:"
   ]
  },
  {
   "cell_type": "code",
   "execution_count": 15,
   "id": "c94c183a-e3e1-41b6-8e16-bab4a9ea08fc",
   "metadata": {},
   "outputs": [
    {
     "name": "stdout",
     "output_type": "stream",
     "text": [
      "Natasha Romanoff is Marvel's Black Widow!\n",
      "Tony Stark is Marvel's Iron Man!\n",
      "Stephen Strange is Marvel's Doctor Strange!\n"
     ]
    }
   ],
   "source": [
    "for key in superhero_info.keys():\n",
    "    value=superhero_info[key]\n",
    "    print(f\"{key} is Marvel's {value}!\")"
   ]
  },
  {
   "cell_type": "markdown",
   "id": "56534e5c-b97d-46b4-bbec-09077f544b5b",
   "metadata": {},
   "source": [
    "Though the variable names `key` and `value` were used to highlight their roles in the dictionary, you can use whatever you like. In fact, using `real_name` and `super_name` is preferred."
   ]
  },
  {
   "attachments": {},
   "cell_type": "markdown",
   "id": "c25c2bb0",
   "metadata": {},
   "source": [
    "## Footnotes"
   ]
  }
 ],
 "metadata": {
  "kernelspec": {
   "display_name": "Python 3 (ipykernel)",
   "language": "python",
   "name": "python3"
  },
  "language_info": {
   "codemirror_mode": {
    "name": "ipython",
    "version": 3
   },
   "file_extension": ".py",
   "mimetype": "text/x-python",
   "name": "python",
   "nbconvert_exporter": "python",
   "pygments_lexer": "ipython3",
   "version": "3.11.7"
  },
  "toc": {
   "base_numbering": 1,
   "nav_menu": {},
   "number_sections": true,
   "sideBar": true,
   "skip_h1_title": false,
   "title_cell": "Table of Contents",
   "title_sidebar": "Contents",
   "toc_cell": false,
   "toc_position": {},
   "toc_section_display": true,
   "toc_window_display": false
  },
  "vscode": {
   "interpreter": {
    "hash": "31f2aee4e71d21fbe5cf8b01ff0e069b9275f58929596ceb00d14d90e3e16cd6"
   }
  }
 },
 "nbformat": 4,
 "nbformat_minor": 5
}
