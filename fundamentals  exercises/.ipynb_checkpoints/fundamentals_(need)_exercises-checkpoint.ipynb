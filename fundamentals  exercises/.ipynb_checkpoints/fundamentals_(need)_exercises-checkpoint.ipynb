{
 "cells": [
  {
   "cell_type": "markdown",
   "id": "123456",
   "metadata": {},
   "source": [
    "<div style=\"text-align:left;font-size:2em\"><span style=\"font-weight:bolder;font-size:1.25em\">SP2273 | Learning Portfolio</span><br><br><span style=\"font-weight:bold;color:darkred\">Fundamentals (Need) Exercises</span></div>"
   ]
  },
  {
   "cell_type": "markdown",
   "id": "3f535aa1",
   "metadata": {},
   "source": [
    "## Exercise 1 (Total recall?) ☻"
   ]
  },
  {
   "cell_type": "markdown",
   "id": "48db880d",
   "metadata": {},
   "source": [
    "1. What I can remember\n",
    "    \n",
    "   1. The dot(`.`). It indicates ownership and gives accessibility.\n",
    "   2. You can import packages to give python for functionalities. Different packages have different abilities though some may have the same functions.\n",
    "   3. Variables can be created and carry information (with the exclusion of keywords). Putting them in brackets will allow the word to be used as its own original argument and not the information it carries.\n",
    "   4. There are three brackets python can use: `()`, `[]` and `{}`. `()` tells the interpreter what to take action on or can be used in math. `[]` stores data in a list.`{}` stores data in a dictionary, where data can be retrieved. \n",
    "   5. Indentations are important.\n",
    "   6. What we know as python is actually an interpreter.\n",
    "   7. Python ignores `#` and it can be used to make notes beside the code.\n",
    "   8. Python has various functions such as `print()`."
   ]
  },
  {
   "cell_type": "markdown",
   "id": "77421720",
   "metadata": {},
   "source": [
    "2. What I can remember + what I missed\n",
    "   1. The dot(`.`). It indicates ownership and gives accessibility.\n",
    "   2. You can import packages to give python for functionalities. Different packages have different abilities though some may have the same functions.\n",
    "   3. Variables can be created and carry information (with the exclusion of keywords). Putting them in brackets will allow the word to be used as its own original argument and not the information it carries.\n",
    "   4. There are three brackets python can use: `()`, `[]` and `{}`. `()` tells the interpreter what to take action on or can be used in math. `[]` stores data in a list.`{}` stores data in a dictionary, where data can be retrieved. \n",
    "   5. Indentations are important.\n",
    "   6. What we know as python is actually an interpreter.\n",
    "   7. Python ignores `#` and it can be used to make notes beside the code.\n",
    "   8. Python has various functions such as `print()`.\n",
    "   9. *Python is sensitive*\n",
    "   10. *Use if to make decisions*"
   ]
  },
  {
   "cell_type": "markdown",
   "id": "23acc1fd",
   "metadata": {},
   "source": [
    "## Exercise 2 (Debug me) ☻"
   ]
  },
  {
   "cell_type": "markdown",
   "id": "7dae2892-b198-4978-b426-7fcebe29cef9",
   "metadata": {},
   "source": [
    "Fix (debug) the following code to create a Pythagorean triple 3, 4, 5 (because $3^2 + 4^2 = 5^2$)."
   ]
  },
  {
   "cell_type": "code",
   "execution_count": 1,
   "id": "b2b9237e",
   "metadata": {},
   "outputs": [
    {
     "name": "stdout",
     "output_type": "stream",
     "text": [
      "[3, 4, 4.69041575982343]\n"
     ]
    }
   ],
   "source": [
    "import math                           #import module, only once required\n",
    "\n",
    "x, y = 3, 4                           #make sure there aren't any unecessary indents\n",
    "\n",
    "z = math.sqrt(x*2 + y**2)\n",
    "\n",
    "print([x, y, z])                      #lower-case \"p\" in print. print() =/= Print()"
   ]
  },
  {
   "cell_type": "markdown",
   "id": "c42dcf82",
   "metadata": {},
   "source": [
    "## Exercise 3 (In your own words) ☻"
   ]
  },
  {
   "cell_type": "markdown",
   "id": "cf4ef263",
   "metadata": {},
   "source": [
    "|#|Term|Description|\n",
    "|:---|:--:|---:|\n",
    "|1|Functions|\"Action\" words that perform a capability encapsulated in the `()`.|\n",
    "|2|Arguments|The object that the function acts on encapsulated within the `()`.|\n",
    "|3|Comments|They are important (not necessarily, but should be) notes that follow a `#` in code which the coder may input so as to remind themselves important pieces of information relevant to the code without those words being interpreted (essentially ignored by the interpreter). |\n",
    "|4|Indentations|Helps to separate different \"blocks\" akin to paragraphs.|\n",
    "|5|Packages|Modules that have a set of functions which can be imported into python to be utilised and expand python's capabilities.|\n",
    "|6|`.`|Used to connote ownership and give access to particular \"objects\" depending on what it is attached to.|\n",
    "|7|`:`|Helps to indicate which function to perform in `True` or `False` instances (when `if` and `else` is utilised).|\n",
    "|8|`[]`|Used to enclose information to create lists of data, specifically a 1D list.|\n",
    "|9|`[[[]]]`|Used to create a 3D list.|\n",
    "|10|`{}`|Used to store data in a library.|"
   ]
  },
  {
   "cell_type": "markdown",
   "id": "3478fad2",
   "metadata": {},
   "source": [
    "## Exercise 4 (More than one way to divide) ☻"
   ]
  },
  {
   "cell_type": "markdown",
   "id": "27ce91e9",
   "metadata": {},
   "source": [
    "**Question 1: `5/2`**"
   ]
  },
  {
   "cell_type": "markdown",
   "id": "5878645d",
   "metadata": {},
   "source": [
    "*Answer:*"
   ]
  },
  {
   "cell_type": "code",
   "execution_count": 19,
   "id": "b426e2eb",
   "metadata": {},
   "outputs": [
    {
     "data": {
      "text/plain": [
       "2.5"
      ]
     },
     "execution_count": 19,
     "metadata": {},
     "output_type": "execute_result"
    }
   ],
   "source": [
    "5/2           # \"/\" gives the absolute or final solution (2.5) when dividend (5) is divided by divisor (2)."
   ]
  },
  {
   "cell_type": "markdown",
   "id": "a598130c",
   "metadata": {},
   "source": [
    "**Question 2: `5//2`**"
   ]
  },
  {
   "cell_type": "markdown",
   "id": "c73bb553",
   "metadata": {},
   "source": [
    "*Working:*"
   ]
  },
  {
   "cell_type": "code",
   "execution_count": 3,
   "id": "6fee0896",
   "metadata": {
    "scrolled": true
   },
   "outputs": [
    {
     "data": {
      "text/plain": [
       "2"
      ]
     },
     "execution_count": 3,
     "metadata": {},
     "output_type": "execute_result"
    }
   ],
   "source": [
    "5//2   "
   ]
  },
  {
   "cell_type": "code",
   "execution_count": 20,
   "id": "c21d26f3",
   "metadata": {},
   "outputs": [
    {
     "data": {
      "text/plain": [
       "3"
      ]
     },
     "execution_count": 20,
     "metadata": {},
     "output_type": "execute_result"
    }
   ],
   "source": [
    "6//2 "
   ]
  },
  {
   "cell_type": "code",
   "execution_count": 21,
   "id": "d4e8f683",
   "metadata": {},
   "outputs": [
    {
     "data": {
      "text/plain": [
       "3"
      ]
     },
     "execution_count": 21,
     "metadata": {},
     "output_type": "execute_result"
    }
   ],
   "source": [
    "7//2"
   ]
  },
  {
   "cell_type": "markdown",
   "id": "7ea9793c",
   "metadata": {},
   "source": [
    "*Answer:*"
   ]
  },
  {
   "cell_type": "code",
   "execution_count": 23,
   "id": "650a1457",
   "metadata": {},
   "outputs": [
    {
     "data": {
      "text/plain": [
       "2"
      ]
     },
     "execution_count": 23,
     "metadata": {},
     "output_type": "execute_result"
    }
   ],
   "source": [
    "5//2        # \"//\" gives the whole integer quotient when dividend (5) is divided by divisor (2), leaving out the remainder."
   ]
  },
  {
   "cell_type": "markdown",
   "id": "3be62a8f",
   "metadata": {},
   "source": [
    "**Question 3: `5%2`**"
   ]
  },
  {
   "cell_type": "markdown",
   "id": "bf3c26a5",
   "metadata": {},
   "source": [
    "*Working:*"
   ]
  },
  {
   "cell_type": "code",
   "execution_count": 24,
   "id": "bd619c85",
   "metadata": {},
   "outputs": [
    {
     "data": {
      "text/plain": [
       "1"
      ]
     },
     "execution_count": 24,
     "metadata": {},
     "output_type": "execute_result"
    }
   ],
   "source": [
    "5%2"
   ]
  },
  {
   "cell_type": "code",
   "execution_count": 25,
   "id": "f6a48b92",
   "metadata": {},
   "outputs": [
    {
     "data": {
      "text/plain": [
       "0"
      ]
     },
     "execution_count": 25,
     "metadata": {},
     "output_type": "execute_result"
    }
   ],
   "source": [
    "6%2"
   ]
  },
  {
   "cell_type": "code",
   "execution_count": 26,
   "id": "be104b45",
   "metadata": {},
   "outputs": [
    {
     "data": {
      "text/plain": [
       "1"
      ]
     },
     "execution_count": 26,
     "metadata": {},
     "output_type": "execute_result"
    }
   ],
   "source": [
    "7%2"
   ]
  },
  {
   "cell_type": "markdown",
   "id": "12d67c18",
   "metadata": {},
   "source": [
    "*Answer:*"
   ]
  },
  {
   "cell_type": "code",
   "execution_count": null,
   "id": "0772e625",
   "metadata": {},
   "outputs": [],
   "source": [
    "5%2        # \"%\" gives the remainder when dividend (5) is divided by divisor (2)."
   ]
  }
 ],
 "metadata": {
  "kernelspec": {
   "display_name": "Python 3 (ipykernel)",
   "language": "python",
   "name": "python3"
  },
  "language_info": {
   "codemirror_mode": {
    "name": "ipython",
    "version": 3
   },
   "file_extension": ".py",
   "mimetype": "text/x-python",
   "name": "python",
   "nbconvert_exporter": "python",
   "pygments_lexer": "ipython3",
   "version": "3.11.7"
  },
  "toc": {
   "base_numbering": 1,
   "nav_menu": {},
   "number_sections": false,
   "sideBar": true,
   "skip_h1_title": false,
   "title_cell": "Table of Contents",
   "title_sidebar": "Contents",
   "toc_cell": false,
   "toc_position": {
    "height": "calc(100% - 180px)",
    "left": "10px",
    "top": "150px",
    "width": "193px"
   },
   "toc_section_display": true,
   "toc_window_display": true
  },
  "varInspector": {
   "cols": {
    "lenName": 16,
    "lenType": 16,
    "lenVar": 40
   },
   "kernels_config": {
    "python": {
     "delete_cmd_postfix": "",
     "delete_cmd_prefix": "del ",
     "library": "var_list.py",
     "varRefreshCmd": "print(var_dic_list())"
    },
    "r": {
     "delete_cmd_postfix": ") ",
     "delete_cmd_prefix": "rm(",
     "library": "var_list.r",
     "varRefreshCmd": "cat(var_dic_list()) "
    }
   },
   "types_to_exclude": [
    "module",
    "function",
    "builtin_function_or_method",
    "instance",
    "_Feature"
   ],
   "window_display": false
  },
  "vscode": {
   "interpreter": {
    "hash": "31f2aee4e71d21fbe5cf8b01ff0e069b9275f58929596ceb00d14d90e3e16cd6"
   }
  }
 },
 "nbformat": 4,
 "nbformat_minor": 5
}
