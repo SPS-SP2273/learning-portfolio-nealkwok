{
 "cells": [
  {
   "cell_type": "markdown",
   "id": "123456",
   "metadata": {},
   "source": [
    "<div style=\"text-align:left;font-size:2em\"><span style=\"font-weight:bolder;font-size:1.25em\">SP2273 | Learning Portfolio</span><br><br><span style=\"font-weight:bold;color:darkred\">Fundamentals (Good) Exercises</span></div>"
   ]
  },
  {
   "cell_type": "markdown",
   "id": "6161c838",
   "metadata": {},
   "source": [
    "## Exercise 1 (What is your grade?)  "
   ]
  },
  {
   "cell_type": "markdown",
   "id": "a0b9b4d6",
   "metadata": {},
   "source": [
    "Python allows you to solicit information from the user.\n",
    "One way to do this is using the `input()` function. Here is an example of how to use it."
   ]
  },
  {
   "cell_type": "code",
   "execution_count": 1,
   "id": "7dd5a892",
   "metadata": {},
   "outputs": [
    {
     "name": "stdout",
     "output_type": "stream",
     "text": [
      "Give me a number?5\n",
      "You entered 5\n"
     ]
    }
   ],
   "source": [
    "user_input = input('Give me a number?')\n",
    "print('You entered', user_input)"
   ]
  },
  {
   "cell_type": "markdown",
   "id": "590bfb38",
   "metadata": {},
   "source": [
    "Run this code and explore."
   ]
  },
  {
   "cell_type": "markdown",
   "id": "8ec8c997",
   "metadata": {},
   "source": [
    "**Task**:\n",
    "\n",
    "Write a Python program that takes a numerical grade (0-100) as input and outputs the corresponding letter grade based on the following criteria:\n",
    "\n"
   ]
  },
  {
   "cell_type": "code",
   "execution_count": 1,
   "id": "339df47e",
   "metadata": {},
   "outputs": [
    {
     "name": "stdin",
     "output_type": "stream",
     "text": [
      "Please enter your numerical score for grade determination:  90\n"
     ]
    },
    {
     "name": "stdout",
     "output_type": "stream",
     "text": [
      "Your attained letter grade is: A\n"
     ]
    }
   ],
   "source": [
    "def score_to_letter_grade(grade):            #def is define. since the question involves a grade and range of scores, create a block function\n",
    "    if 70 <= grade <= 100:                   #block function can contain parameters/range of values we want, which are the scores in numbers\n",
    "        return 'A'                           #return gives a value and exits a function\n",
    "    elif 50 <= grade < 70:\n",
    "        return 'B'\n",
    "    elif 35 <= grade < 50:\n",
    "        return 'C'\n",
    "    elif 0 <= grade < 35:\n",
    "        return 'Fail'\n",
    "    else:\n",
    "        return 'Invalid input'                #not sure if the \"else\" line is necessary...with or without it the output seems the same.\n",
    "    \n",
    "try:\n",
    "    numerical_grade = float(input(\"Please enter your numerical score for grade determination: \"))   #float allows for non-integer grade input\n",
    "    if 0 <= numerical_grade <= 100:\n",
    "        letter_grade = score_to_letter_grade(numerical_grade)\n",
    "        print(f\"Your attained letter grade is: {letter_grade}\")                                     #combining string and number with value\n",
    "    else:\n",
    "        print(\"Invalid input. Please provide a numerical score between 0 and 100.\")                 #caters to responses outside range\n",
    "except ValueError:\n",
    "    print(\"Invalid input. Please enter a numerical score.\")        #caters to non-sensical responses \n",
    "                                                                   #(for e.g., instead of a normal value input of \"65\", person gives \"yolo)"
   ]
  }
 ],
 "metadata": {
  "kernelspec": {
   "display_name": "Python 3 (ipykernel)",
   "language": "python",
   "name": "python3"
  },
  "language_info": {
   "codemirror_mode": {
    "name": "ipython",
    "version": 3
   },
   "file_extension": ".py",
   "mimetype": "text/x-python",
   "name": "python",
   "nbconvert_exporter": "python",
   "pygments_lexer": "ipython3",
   "version": "3.11.7"
  },
  "toc": {
   "base_numbering": 1,
   "nav_menu": {},
   "number_sections": false,
   "sideBar": true,
   "skip_h1_title": false,
   "title_cell": "Table of Contents",
   "title_sidebar": "Contents",
   "toc_cell": false,
   "toc_position": {
    "height": "calc(100% - 180px)",
    "left": "10px",
    "top": "150px",
    "width": "294px"
   },
   "toc_section_display": true,
   "toc_window_display": true
  },
  "varInspector": {
   "cols": {
    "lenName": 16,
    "lenType": 16,
    "lenVar": 40
   },
   "kernels_config": {
    "python": {
     "delete_cmd_postfix": "",
     "delete_cmd_prefix": "del ",
     "library": "var_list.py",
     "varRefreshCmd": "print(var_dic_list())"
    },
    "r": {
     "delete_cmd_postfix": ") ",
     "delete_cmd_prefix": "rm(",
     "library": "var_list.r",
     "varRefreshCmd": "cat(var_dic_list()) "
    }
   },
   "types_to_exclude": [
    "module",
    "function",
    "builtin_function_or_method",
    "instance",
    "_Feature"
   ],
   "window_display": false
  },
  "vscode": {
   "interpreter": {
    "hash": "31f2aee4e71d21fbe5cf8b01ff0e069b9275f58929596ceb00d14d90e3e16cd6"
   }
  }
 },
 "nbformat": 4,
 "nbformat_minor": 5
}
