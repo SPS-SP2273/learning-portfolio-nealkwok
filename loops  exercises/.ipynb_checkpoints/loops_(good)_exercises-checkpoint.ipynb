{
 "cells": [
  {
   "attachments": {},
   "cell_type": "markdown",
   "id": "123456",
   "metadata": {},
   "source": [
    "<div style=\"text-align:left;font-size:2em\"><span style=\"font-weight:bolder;font-size:1.25em\">SP2273 | Learning Portfolio</span><br><br><span style=\"font-weight:bold;color:darkred\">Loops (Good) Exercises</span></div>"
   ]
  },
  {
   "cell_type": "markdown",
   "id": "d483fa0f-08ac-4a27-ac80-d86c4e25a589",
   "metadata": {},
   "source": [
    "## <font color=#F98BBB>Exercise 1 (Make me an odd list) ☻</font>"
   ]
  },
  {
   "cell_type": "code",
   "execution_count": 1,
   "id": "1e970b0e-6169-4e3d-ad5e-0ae395116ac8",
   "metadata": {},
   "outputs": [
    {
     "name": "stdout",
     "output_type": "stream",
     "text": [
      "[1, 9, 25, 49, 81]\n"
     ]
    }
   ],
   "source": [
    "#empty list for storing and printing output\n",
    "squared_odd_numbers_loop = []\n",
    "\n",
    "# loop for squaring the odd integers from 0 to 9\n",
    "for number in range(10):\n",
    "    # checking for 'evenness' and skip if even\n",
    "    if number % 2 == 0:\n",
    "        continue\n",
    "    # add on to growing list with the squared numbers\n",
    "    squared_odd_numbers_loop.append(number ** 2)\n",
    "\n",
    "# Print the resulting list\n",
    "print(squared_odd_numbers_loop)\n"
   ]
  },
  {
   "cell_type": "markdown",
   "id": "d37ffa4f-f724-499d-9a74-c565b995d4ac",
   "metadata": {},
   "source": [
    "## <font color=#F99C8B>Exercise 2 (Make me another odd list) ☻</font>"
   ]
  },
  {
   "cell_type": "code",
   "execution_count": 2,
   "id": "8db1a024-0825-4f79-b2a0-382987839608",
   "metadata": {},
   "outputs": [
    {
     "name": "stdout",
     "output_type": "stream",
     "text": [
      "[1, 9, 25, 49, 81]\n"
     ]
    }
   ],
   "source": [
    "square_odd_numbers_listcomp = [number ** 2 for number in range(10) if number % 2 == 1]   #square number if number is odd with remainder = 1 \n",
    "print(square_odd_numbers_listcomp)"
   ]
  },
  {
   "cell_type": "markdown",
   "id": "9b1ccd80-ef79-4afb-bf06-067a394d30bb",
   "metadata": {},
   "source": [
    "## <font color=#F9D48B>Exercise 3 (Time me!) ☻</font>"
   ]
  },
  {
   "cell_type": "code",
   "execution_count": null,
   "id": "51a502ae-d013-46c0-97bb-ab2e85d053e3",
   "metadata": {},
   "outputs": [],
   "source": [
    "%%timeit\n",
    "#empty list for storing and printing output\n",
    "squared_odd_numbers_loop = []\n",
    "\n",
    "# loop for squaring the odd integers from 0 to 9\n",
    "for number in range(10):\n",
    "    # checking for 'evenness' and skip if even\n",
    "    if number % 2 == 0:\n",
    "        continue\n",
    "    # add on to growing list with the squared numbers\n",
    "    squared_odd_numbers_loop.append(number ** 2)\n",
    "\n",
    "# Print the resulting list\n",
    "print(squared_odd_numbers_loop)"
   ]
  },
  {
   "cell_type": "markdown",
   "id": "1e4893ce-fed1-4774-8161-147a30e33db2",
   "metadata": {},
   "source": [
    "for the loop version: 4.2 µs ± 32 ns per loop (mean ± std. dev. of 7 runs, 100,000 loops each)\n",
    "(i cleared the cell output to avoid not being able to open the file due to crazy file size)"
   ]
  },
  {
   "cell_type": "code",
   "execution_count": null,
   "id": "54977b75-f863-45e3-b0f6-2c87d66a697f",
   "metadata": {},
   "outputs": [],
   "source": [
    "%%timeit\n",
    "square_odd_numbers_listcomp = [number ** 2 for number in range(10) if number % 2 == 1]   #square number if number is odd with remainder = 1 \n",
    "print(square_odd_numbers_listcomp)"
   ]
  },
  {
   "cell_type": "markdown",
   "id": "00b86339-d891-4519-84e6-71081a1ef1b2",
   "metadata": {},
   "source": [
    "for listcomp verison: 4.41 µs ± 83.7 ns per loop (mean ± std. dev. of 7 runs, 100,000 loops each)"
   ]
  },
  {
   "cell_type": "markdown",
   "id": "840da81f-583e-498f-bbad-7def146b8b30",
   "metadata": {},
   "source": [
    "## <font color=#A2E888>Exercise 4 (A problem of decay) ☻</font>"
   ]
  },
  {
   "cell_type": "code",
   "execution_count": 5,
   "id": "26fddcc0-3fb3-4d0c-808a-872ee07fd677",
   "metadata": {},
   "outputs": [
    {
     "name": "stdout",
     "output_type": "stream",
     "text": [
      "The half-life of the radioactive substance is 14 years.\n"
     ]
    }
   ],
   "source": [
    "ini_qty_radioactive = 100\n",
    "remaining_proportion = 0.95                                              #rate is percentage so 5 / 100 = 0.05, thus remaining is 0.95\n",
    "half_ini_qty_radioactive = ini_qty_radioactive / 2\n",
    "\n",
    "duration_years = 0\n",
    "\n",
    "while ini_qty_radioactive > half_ini_qty_radioactive:\n",
    "    ini_qty_radioactive *= (remaining_proportion)\n",
    "    duration_years += 1\n",
    "\n",
    "print(f\"The half-life of the radioactive substance is {duration_years} years.\")"
   ]
  },
  {
   "cell_type": "markdown",
   "id": "877cf521-2b9c-4dfc-bda6-b7f5d65a140f",
   "metadata": {},
   "source": [
    "## <font color=#88BFE8>Exercise 5 (Changes in CO$_{2}$) ☻</font>"
   ]
  },
  {
   "cell_type": "code",
   "execution_count": 12,
   "id": "df021e43-2f4f-4804-a196-d1c04f143291",
   "metadata": {},
   "outputs": [
    {
     "name": "stdout",
     "output_type": "stream",
     "text": [
      "Between 2015 and 2016, there was a change in CO₂ concentration of 3.41 ppm.\n"
     ]
    }
   ],
   "source": [
    "#given data below\n",
    "co2_data = [\n",
    "    (2000, 369.55), (2001, 371.14), (2002, 373.28), \n",
    "    (2003, 375.80), (2004, 377.52), (2005, 379.80), \n",
    "    (2006, 381.90), (2007, 383.79), (2008, 385.60), \n",
    "    (2009, 387.43), (2010, 389.90), (2011, 391.65), \n",
    "    (2012, 393.85), (2013, 396.52), (2014, 398.65),\n",
    "    (2015, 400.83), (2016, 404.24), (2017, 406.55), \n",
    "    (2018, 408.52), (2019, 411.44), (2020, 414.24)\n",
    "]\n",
    "\n",
    "#use len() so that we run the loop only for the number of data that is present in the loop i.e., run the loop all the way\n",
    "#range() starts from '1' since index starts from '0'. we want to minus 2001 with 2000 first. 2001 is at the '1' position.\n",
    "for i in range(1, len(co2_data)):                                   \n",
    "    year_current, co2_ppm_current = co2_data[i]                      #define the data in the list\n",
    "    year_prior, co2_ppm_prior = co2_data[i - 1]                      #change from the previous year at position (i - 1)\n",
    "    \n",
    "    change_ppm = co2_ppm_current - co2_ppm_prior\n",
    "    \n",
    "    if change_ppm >= 3:\n",
    "        print(f\"Between {year_prior} and {year_current}, there was a change in CO₂ concentration of {change_ppm:.2f} ppm.\")"
   ]
  }
 ],
 "metadata": {
  "kernelspec": {
   "display_name": "Python 3 (ipykernel)",
   "language": "python",
   "name": "python3"
  },
  "language_info": {
   "codemirror_mode": {
    "name": "ipython",
    "version": 3
   },
   "file_extension": ".py",
   "mimetype": "text/x-python",
   "name": "python",
   "nbconvert_exporter": "python",
   "pygments_lexer": "ipython3",
   "version": "3.11.7"
  },
  "toc": {
   "base_numbering": 1,
   "nav_menu": {},
   "number_sections": true,
   "sideBar": true,
   "skip_h1_title": false,
   "title_cell": "Table of Contents",
   "title_sidebar": "Contents",
   "toc_cell": false,
   "toc_position": {},
   "toc_section_display": true,
   "toc_window_display": false
  },
  "vscode": {
   "interpreter": {
    "hash": "31f2aee4e71d21fbe5cf8b01ff0e069b9275f58929596ceb00d14d90e3e16cd6"
   }
  }
 },
 "nbformat": 4,
 "nbformat_minor": 5
}
