{
 "cells": [
  {
   "attachments": {},
   "cell_type": "markdown",
   "id": "123456",
   "metadata": {},
   "source": [
    "<div style=\"text-align:left;font-size:2em\"><span style=\"font-weight:bolder;font-size:1.25em\">SP2273 | Learning Portfolio</span><br><br><span style=\"font-weight:bold;color:darkred\">Loops (Need) Exercises</span></div>"
   ]
  },
  {
   "cell_type": "markdown",
   "id": "377c5a4e-3cda-4b5d-a1bb-ffcc86304744",
   "metadata": {},
   "source": [
    "## <font color=#846FC4>Exercise 1 (Celsius to Farenheit) ☻</font>"
   ]
  },
  {
   "cell_type": "markdown",
   "id": "8a33be20-6fd7-4140-b4c6-5a49d4f521a1",
   "metadata": {},
   "source": [
    "You are provided with the following list of temperatures in Celsius. Write a quick Python snippet that converts each temperature to Fahrenheit and prints both temperatures."
   ]
  },
  {
   "cell_type": "code",
   "execution_count": 1,
   "id": "9cf39195-8445-49f7-be66-39d7b8020f21",
   "metadata": {},
   "outputs": [
    {
     "name": "stdout",
     "output_type": "stream",
     "text": [
      "0°C or -32.0°F\n",
      "5°C or -23.0°F\n",
      "10°C or -14.0°F\n",
      "15°C or -5.0°F\n",
      "20°C or 4.0°F\n",
      "25°C or 13.0°F\n",
      "30°C or 22.0°F\n",
      "35°C or 31.0°F\n",
      "40°C or 40.0°F\n",
      "45°C or 49.0°F\n",
      "50°C or 58.0°F\n"
     ]
    }
   ],
   "source": [
    "temperatures_celsius = [\n",
    "    0, 5, 10, 15, 20, 25,\n",
    "    30, 35, 40, 45, 50\n",
    "]                                                                    \n",
    "#given list of temperatures in celsius\n",
    "#SPELLING IS SUPER IMPORTANT!!! KEPT WRITING CELCIUS AND GETTING UNDEFINED CRAPPERY. CELSIUS VS CELCIUS!!\n",
    "\n",
    "for temp in temperatures_celsius:\n",
    "    print(f\"{temp}°C or {temp *9/5 - 32}°F\")                             #find formula online for temperature conversion\n",
    "\n"
   ]
  },
  {
   "cell_type": "markdown",
   "id": "ee5c6b20-c8e8-4cef-a62f-3ec95e79c395",
   "metadata": {},
   "source": [
    "## <font color=#C46FAC>Exercise 2 (Multiplication table) ☻</font>"
   ]
  },
  {
   "cell_type": "markdown",
   "id": "745ac325-9d5d-4b22-a8bd-83e935e1babb",
   "metadata": {},
   "source": [
    "You can put a loop within a loop to do doubly loopy stuff. Here is an example:"
   ]
  },
  {
   "cell_type": "code",
   "execution_count": 12,
   "id": "07ab2fa1-2b0c-432b-9745-0d07cec42d09",
   "metadata": {},
   "outputs": [
    {
     "name": "stdout",
     "output_type": "stream",
     "text": [
      "A1\tA2\tA3\t\n",
      "\n",
      "B1\tB2\tB3\t\n",
      "\n",
      "C1\tC2\tC3\t\n",
      "\n"
     ]
    }
   ],
   "source": [
    "for letter in ['A', 'B', 'C']:\n",
    "    for number in [1, 2, 3]:\n",
    "        print(f'{letter}{number}', end='\\t')\n",
    "    print('\\n')"
   ]
  },
  {
   "cell_type": "markdown",
   "id": "0fcdce6f-ba54-4b01-9f7d-8457a39a8751",
   "metadata": {},
   "source": [
    "Write a Python snippet that prints a multiplication table (up to 5) for numbers 1 through 5 using **nested** `for` loops. The output should be formatted as shown below:"
   ]
  },
  {
   "cell_type": "code",
   "execution_count": 31,
   "id": "1513f985-51ba-430e-8ddd-357f65377ef9",
   "metadata": {},
   "outputs": [
    {
     "name": "stdout",
     "output_type": "stream",
     "text": [
      "1: 1 2 3 4 5\n",
      "2: 2 4 6 8 10\n",
      "3: 3 6 9 12 15\n",
      "4: 4 8 12 16 20\n",
      "5: 5 10 15 20 25\n"
     ]
    }
   ],
   "source": [
    "for i in range(1, 6):                                                           \n",
    "    print(str(i) + \":\", i*1, i*2, i*3, i*4, i*5)          #prints multiplication table but not aligned in a table...\n",
    "                                                          #wanted to use count and for() function to get : but python keeps returning\n",
    "                                                          #int is not iterable..."
   ]
  },
  {
   "cell_type": "code",
   "execution_count": 59,
   "id": "0cbd166e-899c-4afd-90f3-9cbeaf414c70",
   "metadata": {},
   "outputs": [
    {
     "name": "stdout",
     "output_type": "stream",
     "text": [
      "1 : 1   2   3   4   5   \n",
      "2 : 2   4   6   8   10  \n",
      "3 : 3   6   9   12  15  \n",
      "4 : 4   8   12  16  20  \n",
      "5 : 5   10  15  20  25  \n"
     ]
    }
   ],
   "source": [
    "layout = \"{0:>1}{1:<4}{2:<4}{3:<4}{4:<4}{5:<4}\"                               #google beautiful python layout code\n",
    "\n",
    "for i in range(1, 6):\n",
    "    print(layout.format(str(i) + \" : \", i*1, i*2, i*3, i*4, i*5))             #use format() to left align string to get nice table."
   ]
  }
 ],
 "metadata": {
  "kernelspec": {
   "display_name": "Python 3 (ipykernel)",
   "language": "python",
   "name": "python3"
  },
  "language_info": {
   "codemirror_mode": {
    "name": "ipython",
    "version": 3
   },
   "file_extension": ".py",
   "mimetype": "text/x-python",
   "name": "python",
   "nbconvert_exporter": "python",
   "pygments_lexer": "ipython3",
   "version": "3.11.7"
  },
  "toc": {
   "base_numbering": 1,
   "nav_menu": {},
   "number_sections": true,
   "sideBar": true,
   "skip_h1_title": false,
   "title_cell": "Table of Contents",
   "title_sidebar": "Contents",
   "toc_cell": false,
   "toc_position": {},
   "toc_section_display": true,
   "toc_window_display": false
  },
  "vscode": {
   "interpreter": {
    "hash": "31f2aee4e71d21fbe5cf8b01ff0e069b9275f58929596ceb00d14d90e3e16cd6"
   }
  }
 },
 "nbformat": 4,
 "nbformat_minor": 5
}
