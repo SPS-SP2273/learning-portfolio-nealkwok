{
 "cells": [
  {
   "cell_type": "markdown",
   "id": "04c0023e-d44d-433d-9b4f-f7795932e21f",
   "metadata": {},
   "source": [
    "<div style=\"text-align:left;font-size:2em\"><span style=\"font-weight:bolder;font-size:1.25em\">SP2273 | Learning Portfolio</span><br><br><span style=\"font-weight:bold;color:darkred\">Using Jupyter (Good), Exercises</span></div>"
   ]
  },
  {
   "cell_type": "markdown",
   "id": "502e461f-31ad-4eeb-a51a-8839226c998c",
   "metadata": {},
   "source": [
    "## Exercise 1 "
   ]
  },
  {
   "cell_type": "markdown",
   "id": "00c73468-6896-4d6f-a86b-a7f4b3bd6f39",
   "metadata": {},
   "source": [
    "Step 1:"
   ]
  },
  {
   "cell_type": "code",
   "execution_count": null,
   "id": "6225e121-0ff7-4d49-9395-6946fb15b20c",
   "metadata": {},
   "outputs": [],
   "source": [
    "while True:\n",
    "    print('*', end='')"
   ]
  },
  {
   "cell_type": "markdown",
   "id": "71bbfcb5-c5c2-44b3-8f34-e203bad8ad48",
   "metadata": {},
   "source": [
    "Press \"Kernel\" tab and select \"Interrupt\" or \"Restart Kernel and Clear Outputs of All Cells...\""
   ]
  },
  {
   "cell_type": "markdown",
   "id": "91fb2a7b-a8d9-4a54-99c8-7f08e70f7e35",
   "metadata": {},
   "source": [
    "##  Exercise 2"
   ]
  },
  {
   "cell_type": "markdown",
   "id": "b2185622-8197-4d11-86a4-44c0f9eef796",
   "metadata": {},
   "source": [
    "Step 1: Run the following `print = 'PRINT'`\n"
   ]
  },
  {
   "cell_type": "code",
   "execution_count": 1,
   "id": "c832cc5f-7cb5-4838-8c46-b774f36350ae",
   "metadata": {},
   "outputs": [],
   "source": [
    "print = 'PRINT'"
   ]
  },
  {
   "cell_type": "markdown",
   "id": "4105ab62-5290-45f3-9055-475b140b1cd8",
   "metadata": {},
   "source": [
    "Step 2: `print('Hello World')`"
   ]
  },
  {
   "cell_type": "code",
   "execution_count": 2,
   "id": "ea4c26a9-c368-4561-b48a-541cfd4530f7",
   "metadata": {},
   "outputs": [
    {
     "ename": "TypeError",
     "evalue": "'str' object is not callable",
     "output_type": "error",
     "traceback": [
      "\u001b[0;31m---------------------------------------------------------------------------\u001b[0m",
      "\u001b[0;31mTypeError\u001b[0m                                 Traceback (most recent call last)",
      "Cell \u001b[0;32mIn[2], line 1\u001b[0m\n\u001b[0;32m----> 1\u001b[0m \u001b[38;5;28;43mprint\u001b[39;49m\u001b[43m(\u001b[49m\u001b[38;5;124;43m'\u001b[39;49m\u001b[38;5;124;43mHello World\u001b[39;49m\u001b[38;5;124;43m'\u001b[39;49m\u001b[43m)\u001b[49m\n",
      "\u001b[0;31mTypeError\u001b[0m: 'str' object is not callable"
     ]
    }
   ],
   "source": [
    "print('Hello World')"
   ]
  },
  {
   "cell_type": "markdown",
   "id": "74800357-560a-4286-8890-f4a32244a1c2",
   "metadata": {},
   "source": [
    "`TypeError: 'str' object is not callable` appears "
   ]
  },
  {
   "cell_type": "markdown",
   "id": "d5b959aa-0ae9-4a85-86ce-9a62f35872cc",
   "metadata": {},
   "source": [
    "Step 3: Fix by **Restarting** the Kernel. This will also restart the Python **interpreter**."
   ]
  },
  {
   "cell_type": "markdown",
   "id": "be9b10b6-7b63-40ce-868c-bf199e180d85",
   "metadata": {},
   "source": [
    "Step 4: Try `print('Hello World')` again"
   ]
  },
  {
   "cell_type": "code",
   "execution_count": 1,
   "id": "37ce1ee3-7948-4733-9a2a-ccc112ef1b2a",
   "metadata": {},
   "outputs": [
    {
     "name": "stdout",
     "output_type": "stream",
     "text": [
      "Hello World\n"
     ]
    }
   ],
   "source": [
    "print('Hello World')"
   ]
  }
 ],
 "metadata": {
  "kernelspec": {
   "display_name": "Python 3 (ipykernel)",
   "language": "python",
   "name": "python3"
  },
  "language_info": {
   "codemirror_mode": {
    "name": "ipython",
    "version": 3
   },
   "file_extension": ".py",
   "mimetype": "text/x-python",
   "name": "python",
   "nbconvert_exporter": "python",
   "pygments_lexer": "ipython3",
   "version": "3.11.7"
  }
 },
 "nbformat": 4,
 "nbformat_minor": 5
}
