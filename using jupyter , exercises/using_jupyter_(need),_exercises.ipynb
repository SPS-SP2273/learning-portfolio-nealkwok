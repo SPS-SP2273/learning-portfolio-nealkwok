{
 "cells": [
  {
   "cell_type": "markdown",
   "id": "123456",
   "metadata": {},
   "source": [
    "<div style=\"text-align:left;font-size:2em\"><span style=\"font-weight:bolder;font-size:1.25em\">SP2273 | Learning Portfolio</span><br><br><span style=\"font-weight:bold;color:darkred\">Using Jupyter (Need), Exercises</span></div>"
   ]
  },
  {
   "cell_type": "markdown",
   "id": "5750c508",
   "metadata": {},
   "source": [
    "------------------------------------------------------------------------------- \n",
    "# <span style=\"color:red;\"> E</span><span style=\"color:orange;\"> x </span><span style=\"color:gold;\"> e </span><span style=\"color:green;\"> r </span><span style=\"color:blue;\"> c </span><span style=\"color:indigo;\"> i </span><span style=\"color:violet;\"> s </span><span style=\"color:pink;\"> e </span><span style=\"color:red;\"> &nbsp;</span> <span style=\"color:orange;\"> 1 </span> &nbsp;<span style=\"color:gold;\"> ☻</span>\n",
    "------------------------------------------------------------------------------- "
   ]
  },
  {
   "cell_type": "markdown",
   "id": "ef88c79d",
   "metadata": {},
   "source": [
    "## <mark style=\"background: #E6E6FA\">Quadratic Equations</mark>"
   ]
  },
  {
   "cell_type": "markdown",
   "id": "aab8e4fc",
   "metadata": {},
   "source": [
    "### <mark style=\"background: #FFFACD\">1. Introduction</mark>"
   ]
  },
  {
   "cell_type": "markdown",
   "id": "702a77af",
   "metadata": {},
   "source": [
    "<img align=\"left\" width=\"300\" src=\"https://upload.wikimedia.org/wikipedia/commons/thumb/f/f8/Polynomialdeg2.svg/1920px-Polynomialdeg2.svg.png\">"
   ]
  },
  {
   "cell_type": "markdown",
   "id": "b46e0c51",
   "metadata": {},
   "source": [
    "*(Image from the [Wikipedia page on Quadratic equations](https://en.wikipedia.org/wiki/Quadratic_equation))*\n",
    "\n",
    "The general form of a quadratic equation is: $${ax^{2} + bx + c = 0}$$"
   ]
  },
  {
   "cell_type": "markdown",
   "id": "4588f0b6",
   "metadata": {},
   "source": [
    "### <mark style=\"background: #FFFACD\">2. Solutions</mark>"
   ]
  },
  {
   "cell_type": "markdown",
   "id": "d457409f",
   "metadata": {},
   "source": [
    "Provided $a \\ne 0$, we can use an elementary algebraic method called [<mark>completeing the square</mark>](https://en.wikipedia.org/wiki/Completing_the_square) to show that a quadratic equation has the following solution: $$\n",
    "x = \\dfrac{-b \\pm \\sqrt{b^2-4ac}}{2a}\n",
    "$$"
   ]
  },
  {
   "cell_type": "markdown",
   "id": "1700d8db",
   "metadata": {},
   "source": [
    "### <mark style=\"background: #FFFACD\">3. Discriminant</mark>"
   ]
  },
  {
   "cell_type": "markdown",
   "id": "95257d5b",
   "metadata": {},
   "source": [
    "The quantity &Delta; = ${b^2-4ac}$ is called the **discriminant** of the equation and decides the nature of its solutions. The table below shows the various possibilities.\n",
    "\n",
    "|**Discriminant**|**Roots**|\n",
    "| :--- | ---:  | \n",
    "|$$\\Delta = {b^2-4ac} =0$$ | A single solution of $-b/(2a)$|\n",
    "|$\\Delta = {b^2-4ac} \\gt0$| Two distinct solutions|\n",
    "|$\\Delta = {b^2-4ac} \\lt0$| No real solutions; both are complex.|\n"
   ]
  },
  {
   "cell_type": "markdown",
   "id": "42fb8408",
   "metadata": {},
   "source": [
    "------------------------------------------------------------------------------- \n",
    "# Exercise 2 (In your own words) ☻\n",
    "------------------------------------------------------------------------------- "
   ]
  },
  {
   "cell_type": "markdown",
   "id": "8eba4510",
   "metadata": {},
   "source": [
    "1. A Git repository is where our project files are located and stored. However, it is not just the final outcome or product that is stored, but the entire history. We can even locate, view and even go back to the various checkpoints in the history of the file or project. There is a local Desktop version and also a cloud version where the files are stored remotely, meaning it can be accessed online from any location. Finally, we can commit a locally saved file into the cloud.\n",
    "2. <u>history</u>\n",
    "3. A commit is an alteration or version of a file that has been recorded in the history of changes of a file.\n",
    "4. A push is the action of 'submitting' the commit to the cloud or another system such as GitHub where it can be accessed by others.\n",
    "5. A pull is the opposite where the file is retrieved from the cloud.\n",
    "6. GitHub can be accessed remotely since it is online on a cloud whereas GitHub Desktop is local on the device. Changes on the desktop need to be synced to the GitHub online for changes to be saved at the remote repository."
   ]
  }
 ],
 "metadata": {
  "kernelspec": {
   "display_name": "Python 3 (ipykernel)",
   "language": "python",
   "name": "python3"
  },
  "language_info": {
   "codemirror_mode": {
    "name": "ipython",
    "version": 3
   },
   "file_extension": ".py",
   "mimetype": "text/x-python",
   "name": "python",
   "nbconvert_exporter": "python",
   "pygments_lexer": "ipython3",
   "version": "3.11.7"
  },
  "toc": {
   "base_numbering": "",
   "nav_menu": {},
   "number_sections": false,
   "sideBar": true,
   "skip_h1_title": false,
   "title_cell": "Table of Contents",
   "title_sidebar": "Contents",
   "toc_cell": false,
   "toc_position": {
    "height": "calc(100% - 180px)",
    "left": "10px",
    "top": "150px",
    "width": "165px"
   },
   "toc_section_display": true,
   "toc_window_display": true
  },
  "varInspector": {
   "cols": {
    "lenName": 16,
    "lenType": 16,
    "lenVar": 40
   },
   "kernels_config": {
    "python": {
     "delete_cmd_postfix": "",
     "delete_cmd_prefix": "del ",
     "library": "var_list.py",
     "varRefreshCmd": "print(var_dic_list())"
    },
    "r": {
     "delete_cmd_postfix": ") ",
     "delete_cmd_prefix": "rm(",
     "library": "var_list.r",
     "varRefreshCmd": "cat(var_dic_list()) "
    }
   },
   "types_to_exclude": [
    "module",
    "function",
    "builtin_function_or_method",
    "instance",
    "_Feature"
   ],
   "window_display": false
  },
  "vscode": {
   "interpreter": {
    "hash": "31f2aee4e71d21fbe5cf8b01ff0e069b9275f58929596ceb00d14d90e3e16cd6"
   }
  }
 },
 "nbformat": 4,
 "nbformat_minor": 5
}
