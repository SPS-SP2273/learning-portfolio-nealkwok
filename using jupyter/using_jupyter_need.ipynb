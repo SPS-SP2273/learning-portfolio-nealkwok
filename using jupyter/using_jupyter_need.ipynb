{
 "cells": [
  {
   "cell_type": "markdown",
   "id": "a727e7cd-d829-4630-a400-376ac9b3464c",
   "metadata": {},
   "source": [
    "# Using Jupyter!"
   ]
  },
  {
   "cell_type": "markdown",
   "id": "697e4cb4-60a3-4023-9a72-8e0abc73e7f9",
   "metadata": {},
   "source": [
    "### 1. Using a Code Cell"
   ]
  },
  {
   "cell_type": "code",
   "execution_count": 10,
   "id": "1f47004f-0d54-4ea8-a38e-1eb0ad249962",
   "metadata": {},
   "outputs": [
    {
     "name": "stdout",
     "output_type": "stream",
     "text": [
      "Hello World\n"
     ]
    }
   ],
   "source": [
    "print ('Hello World')"
   ]
  },
  {
   "cell_type": "markdown",
   "id": "6309c470-372b-4fe9-9407-d94cf3d31c1c",
   "metadata": {},
   "source": [
    "### 2. Rendering a Markdown Cell"
   ]
  },
  {
   "cell_type": "markdown",
   "id": "0c15e2aa-7476-417a-a2d5-e9c5e011de07",
   "metadata": {},
   "source": [
    "The ships hung in the sky in much the same way that bricks don’t."
   ]
  },
  {
   "cell_type": "markdown",
   "id": "ffd9d4e3-6c7e-4212-8426-3360dd04c50b",
   "metadata": {},
   "source": [
    "### 3. Rendering Text Using Some Markdown Syntax"
   ]
  },
  {
   "cell_type": "markdown",
   "id": "6ff49622-bcba-4f04-ac39-1483f69362c5",
   "metadata": {},
   "source": [
    "use various syntax such as * * or _ _, ** ** or __ __, *** ***, `<sub> </sub>` and `<sup> </sup>`\n",
    " for different styles (italics, bold, all italics and bold, subscipt and superscript)"
   ]
  },
  {
   "cell_type": "markdown",
   "id": "1f7a5d2f",
   "metadata": {},
   "source": [
    "|Style|Syntax|\n",
    "|:---|---:|\n",
    "|Bold|\t** ** or __ __|\n",
    "|Italic|\t* * or _ _|\n",
    "|All bold and italic|\t*** ***|\n",
    "|Subscript|\t<sub> </sub>|\n",
    "|Superscript\t|<sup> </sup>|"
   ]
  },
  {
   "cell_type": "markdown",
   "id": "f8b3a699",
   "metadata": {},
   "source": [
    "html for underline: `<u>(text)</u>`"
   ]
  },
  {
   "cell_type": "markdown",
   "id": "84598130-1e54-43c6-b735-3ac61e3b5d83",
   "metadata": {},
   "source": [
    "The ships *hung in the sky* in much the same way that **bricks don't.**<sup>1</sup><sub>QUOTE</sub>"
   ]
  },
  {
   "cell_type": "markdown",
   "id": "5e463d21-6cd0-41c5-a60a-fdf0d933c468",
   "metadata": {},
   "source": [
    "### 4. Making Headings"
   ]
  },
  {
   "cell_type": "markdown",
   "id": "5b238ff6-6422-4cdd-a48b-b91a12c8fb28",
   "metadata": {},
   "source": [
    "using # to make headings!"
   ]
  },
  {
   "cell_type": "markdown",
   "id": "106bc1bf-d7df-41fe-b044-cd5247183529",
   "metadata": {},
   "source": [
    "# Title\n",
    "## Heading\n",
    "### Subheading \n",
    "#### Body"
   ]
  },
  {
   "cell_type": "markdown",
   "id": "25fd505d-adb2-4acd-847a-288ea35d26b1",
   "metadata": {},
   "source": [
    "### 5. Displaying Code"
   ]
  },
  {
   "cell_type": "markdown",
   "id": "12181255-7942-4516-a73f-8d8592d819b5",
   "metadata": {},
   "source": [
    "the following shall display an in-line code"
   ]
  },
  {
   "cell_type": "markdown",
   "id": "8cc169fc-c285-4fb7-88b1-4e90eac3bcd9",
   "metadata": {},
   "source": [
    "`print('Hello World')`"
   ]
  },
  {
   "cell_type": "markdown",
   "id": "0b014fd7-d8f2-4dad-a0df-1f18a1a51b14",
   "metadata": {},
   "source": [
    "the following shall display a block code"
   ]
  },
  {
   "cell_type": "markdown",
   "id": "777fd6d5-797a-47f7-9f02-befcf5683df3",
   "metadata": {},
   "source": [
    "```python\n",
    "print('Hello World!')\n",
    "```"
   ]
  },
  {
   "cell_type": "markdown",
   "id": "9b5642f5-139c-4f52-84cb-1e33fe2b7b0a",
   "metadata": {},
   "source": [
    "### 6. Creating Links"
   ]
  },
  {
   "cell_type": "markdown",
   "id": "9e46dca4-24ef-4050-b437-fd6bdd492a87",
   "metadata": {},
   "source": [
    "enclosed text in square brackets [] and URL in ()"
   ]
  },
  {
   "cell_type": "markdown",
   "id": "089fb0c7-96e1-4d17-b14c-ceec499ea2fd",
   "metadata": {},
   "source": [
    "[SP2273 Website](https://sps.nus.edu.sg/sp2273)"
   ]
  },
  {
   "cell_type": "markdown",
   "id": "56c73641-51af-46e7-b0b7-6fcf31e400df",
   "metadata": {},
   "source": [
    "### 7. Inputting an Image"
   ]
  },
  {
   "cell_type": "markdown",
   "id": "aa3d7dd2",
   "metadata": {},
   "source": [
    "including an image with size in 2 ways:\n",
    "1. using `![](website with https://___)`. you can copy directly open image from website that is using the image (whether at original or reduced resolution).\n",
    "2. go to original website (with the better resolution), copy and paste original link. however, this may not give the size you want. use `<img src=\"https://___\" style=\"width:___px\"`. if you want the same sized image as the website you are trying to emulate/reference, open link of image from that website and look at its html to view image size. \n",
    "    - with alignment: `<img align=\"___\" width=\"___\" src=\"___\">`"
   ]
  },
  {
   "cell_type": "markdown",
   "id": "29af4e4c-9b50-499e-a377-bc9edcdb9dd2",
   "metadata": {},
   "source": [
    "![](https://nus.edu.sg/images/default-source/base/logo.png)"
   ]
  },
  {
   "cell_type": "markdown",
   "id": "0bffde90-55bf-450f-bb29-8505b072a6fe",
   "metadata": {},
   "source": [
    "### 8. Creating Tables"
   ]
  },
  {
   "cell_type": "markdown",
   "id": "549baced-ea16-4e4e-94f9-af518f4ba8b7",
   "metadata": {},
   "source": [
    "| A    |  B   |    C |\n",
    "| :--- | :--: | ---: |\n",
    "| a1   |  b1  |   c1 |\n",
    "| a2   |  b2  |   c2 |\n",
    "| a3   |  b3  |   c3 |\n"
   ]
  },
  {
   "cell_type": "markdown",
   "id": "ec926469-cd07-4fd3-aa44-6029f552430c",
   "metadata": {},
   "source": [
    "tip: use excel to organise data, and go to [table generators](https://www.tablesgenerator.com/) to make gorgeous looking tables because aesthetics matter more than data"
   ]
  },
  {
   "cell_type": "markdown",
   "id": "b2bc39c4-93dd-4f86-896c-23e99875b069",
   "metadata": {},
   "source": [
    "### 9. Making Lists"
   ]
  },
  {
   "cell_type": "markdown",
   "id": "efa9a98f-4b88-4adc-b1e2-6272b53a6311",
   "metadata": {},
   "source": [
    "1. hey\n",
    "1. hey\n",
    "    1. spdfv\n",
    "5. hi\n",
    "5. hi\n",
    "   - d"
   ]
  },
  {
   "cell_type": "markdown",
   "id": "1ec140a0-41ee-43ab-942b-0b9581636f5d",
   "metadata": {},
   "source": [
    "### 10. Inputting Equations"
   ]
  },
  {
   "cell_type": "markdown",
   "id": "3f3a90b6-3325-447c-b410-ab2fcc419245",
   "metadata": {},
   "source": [
    "$\\sqrt{b^2-4ac}$"
   ]
  },
  {
   "cell_type": "markdown",
   "id": "d35808ee-1e8d-4fd3-8ce4-9ed6a4029876",
   "metadata": {},
   "source": [
    "$$\n",
    "x = \\dfrac{-b \\pm \\sqrt{b^2-4ac}}{2a}\n",
    "$$"
   ]
  },
  {
   "cell_type": "markdown",
   "id": "49790874-ac44-48c0-a842-cf502d0752c9",
   "metadata": {},
   "source": [
    "$x = \\dfrac{-b \\pm \\sqrt{b^2-4ac}}{2a}$"
   ]
  },
  {
   "cell_type": "markdown",
   "id": "61374cbe",
   "metadata": {},
   "source": [
    "[link for html entity codes for greek symbols](http://objectifimmobilier.com/dompdf/dompdf.php?base_path=www%2Ftest%2F&options[Attachment]=0&input_file=encoding_symbols.html)"
   ]
  },
  {
   "cell_type": "markdown",
   "id": "a3a4e65b",
   "metadata": {},
   "source": [
    "mini cheat sheet from sp2273 website below!\n"
   ]
  },
  {
   "cell_type": "markdown",
   "id": "31c3d0a6",
   "metadata": {},
   "source": [
    "||Input|Rendered|\n",
    "|:---|:--:|---:|\n",
    "|Fraction|`$\\dfrac{y}{x}$`|\t$\\dfrac{y}{x}$|\n",
    "|Subscript\t|`$x_{a}$`\t|$x_{a}$|\n",
    "|Power\t|`$x^{(y+z)}$`\t|$x^{(y+z)}$|\n",
    "|Squareroot\t|`$\\sqrt{a+b+c}$`\t|$\\sqrt{a+b+c}$|\n",
    "|Sum|\t`$\\sum_{n=1}^{n=\\infty} x_n$`\t|$\\sum_{n=1}^{n=\\infty} x_n$|\n",
    "|Integral|\t`$\\int_{x=1}^{x=\\infty} f(x)dx$`|$$\\int_{x=1}^{x=\\infty} f(x)dx$$|\n",
    "|Not equal\t|`a \\ne b`\t|a \\ne b|\n",
    "|Less than\t|`$a \\lt b$`\t|$a \\lt b$\t|\n",
    "|Less than or equal to\t|`$a \\leq b$`\t|$a \\leq b$\t|\n",
    "|Greater than|\t`$a \\gt b$`\t|$a \\gt b$`\t|\n",
    "|Greater than or equal to|\t`$a \\geq b$`\t|$a \\geq b$\t|\n",
    "|Greek letters\t|`$\\alpha, \\beta, \\gamma, \\pi, \\lambda$`\t|$\\alpha, \\beta, \\gamma, \\pi, \\lambda$\t|"
   ]
  },
  {
   "cell_type": "markdown",
   "id": "1da1505c",
   "metadata": {},
   "source": [
    "[overleaf mathematical entity codes](https://www.overleaf.com/learn/latex/Mathematical_expressions)"
   ]
  },
  {
   "cell_type": "markdown",
   "id": "80dc21bd-25d1-47d6-997c-92240c50a040",
   "metadata": {},
   "source": [
    "### 11. Footnote"
   ]
  },
  {
   "cell_type": "markdown",
   "id": "19dd9657-3ce9-44b7-b897-c95272586717",
   "metadata": {},
   "source": [
    "the footnote ain't footnoting"
   ]
  },
  {
   "cell_type": "markdown",
   "id": "e8e52e65-c879-42b8-8954-b36340a47cde",
   "metadata": {},
   "source": [
    "This is a footnote.^[1] sinfdpo spodf fxcdv.^[2]\n",
    "\n"
   ]
  }
 ],
 "metadata": {
  "kernelspec": {
   "display_name": "Python 3 (ipykernel)",
   "language": "python",
   "name": "python3"
  },
  "language_info": {
   "codemirror_mode": {
    "name": "ipython",
    "version": 3
   },
   "file_extension": ".py",
   "mimetype": "text/x-python",
   "name": "python",
   "nbconvert_exporter": "python",
   "pygments_lexer": "ipython3",
   "version": "3.11.7"
  },
  "toc": {
   "base_numbering": 1,
   "nav_menu": {},
   "number_sections": false,
   "sideBar": true,
   "skip_h1_title": false,
   "title_cell": "Table of Contents",
   "title_sidebar": "Contents",
   "toc_cell": false,
   "toc_position": {
    "height": "calc(100% - 180px)",
    "left": "10px",
    "top": "150px",
    "width": "238px"
   },
   "toc_section_display": true,
   "toc_window_display": true
  },
  "varInspector": {
   "cols": {
    "lenName": 16,
    "lenType": 16,
    "lenVar": 40
   },
   "kernels_config": {
    "python": {
     "delete_cmd_postfix": "",
     "delete_cmd_prefix": "del ",
     "library": "var_list.py",
     "varRefreshCmd": "print(var_dic_list())"
    },
    "r": {
     "delete_cmd_postfix": ") ",
     "delete_cmd_prefix": "rm(",
     "library": "var_list.r",
     "varRefreshCmd": "cat(var_dic_list()) "
    }
   },
   "types_to_exclude": [
    "module",
    "function",
    "builtin_function_or_method",
    "instance",
    "_Feature"
   ],
   "window_display": false
  }
 },
 "nbformat": 4,
 "nbformat_minor": 5
}
