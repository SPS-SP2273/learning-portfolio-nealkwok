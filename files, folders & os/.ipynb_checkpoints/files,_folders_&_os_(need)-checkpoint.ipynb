{
 "cells": [
  {
   "attachments": {},
   "cell_type": "markdown",
   "id": "123456",
   "metadata": {},
   "source": [
    "<div style=\"text-align:left;font-size:2em\"><span style=\"font-weight:bolder;font-size:1.25em\">SP2273 | Learning Portfolio</span><br><br><span style=\"font-weight:bold;color:darkred\">Files, Folders & OS (Need)</span></div>"
   ]
  },
  {
   "attachments": {},
   "cell_type": "markdown",
   "id": "a49c0dfe",
   "metadata": {},
   "source": [
    "# What to expect in this chapter"
   ]
  },
  {
   "cell_type": "markdown",
   "id": "2123ce31-b427-4ad1-a04b-ac64208b8bee",
   "metadata": {},
   "source": [
    "- communicating with the OS is necessary to create, modify, move, copy, and delete files and directories (folders)\n",
    "- Python modules to execute these necessary actions include `os`, `glob`, `shutil`)\n",
    "- write code that will seamlessly run on both macOS and Windows"
   ]
  },
  {
   "attachments": {},
   "cell_type": "markdown",
   "id": "30da730c",
   "metadata": {},
   "source": [
    "# 1 Important concepts"
   ]
  },
  {
   "cell_type": "markdown",
   "id": "fd1a702f-6f18-4614-b73f-8daa23cc3f1a",
   "metadata": {},
   "source": [
    "navigate the OS **efficiently**"
   ]
  },
  {
   "attachments": {},
   "cell_type": "markdown",
   "id": "690de3c2",
   "metadata": {},
   "source": [
    "## 1.1 Path"
   ]
  },
  {
   "cell_type": "markdown",
   "id": "9561d42e-148f-4386-ad70-328bdb7b7533",
   "metadata": {},
   "source": [
    "- `path` is used to specify a location on your computer\n",
    "- like an address: follow it -- leads to your **file** or folder\n",
    "- you can specify your path **absolutely** or **relatively**\n",
    "- For example, I can specify that SPS is located on level 3 of block S16 (**absolute**). However, if I am already on Level 5 of S16, I can say, *go two floors down* (**relative**). \n",
    "- may be easier to use relative paths, particularly if you wan to move your folders around later on"
   ]
  },
  {
   "cell_type": "markdown",
   "id": "95ca61ff-9cf7-4cad-aa43-4caee83d0acb",
   "metadata": {},
   "source": [
    "<div class=\"alert alert-block alert-success\">\n",
    "<b>Remember:</b> <p>Path tells us how to find a file or folder and that you can specify it absolutely or relatively.</p>\n",
    "\n",
    "\n",
    "</div>"
   ]
  },
  {
   "cell_type": "markdown",
   "id": "c203c8c6-f420-45f2-9534-929412407d72",
   "metadata": {},
   "source": [
    "example of an absolute path to a file on the Desktop on a Windows machine:</br> `C:\\\\Users\\Chammika\\Desktop\\data-01.txt`"
   ]
  },
  {
   "attachments": {},
   "cell_type": "markdown",
   "id": "4e390d18",
   "metadata": {},
   "source": [
    "## 1.2 More about relative paths"
   ]
  },
  {
   "cell_type": "markdown",
   "id": "d55b7be7-c1d1-49fe-a04a-647e009eb843",
   "metadata": {},
   "source": [
    "- involves `.` and `..`\n",
    "\n",
    "|**Notation**|**Meaning**|\n",
    "|:---|---:|\n",
    "|`.`|‘this folder’|\n",
    "|`..`|‘one folder above’|\n",
    "\n",
    "- thus, </br> `.\\data-files\\data-01.txt`: file `data-01.txt` in the folder `data-files` in the **current folder**.\n",
    "..\\data-files\\data-01.txt means the file data-01.txt in the folder data-files located in the **folder above**."
   ]
  },
  {
   "cell_type": "markdown",
   "id": "0ba499d9-fdbc-4983-911c-44d8968074b6",
   "metadata": {},
   "source": [
    "<div class=\"alert alert-block alert-s z,/vd\\fhuccess\">\n",
    "<b>Remember:</b> <p>Remember `.` means current folder, and `..` means one folder up.</p>\n",
    "\n",
    "\n",
    "</div>"
   ]
  },
  {
   "attachments": {},
   "cell_type": "markdown",
   "id": "9e9e770f",
   "metadata": {},
   "source": [
    "### macOS or Linux"
   ]
  },
  {
   "cell_type": "markdown",
   "id": "68fe9470-f540-43b5-b795-4de7c872ac09",
   "metadata": {},
   "source": [
    "macOS and Linux allow you to use ~ to refer to your home directory. So, for example, you can access the Desktop in these systems ‘relatively’ with ~/Desktop. So, I can look for a file in my Desktop using:  `~\\Desktop\\data-01.txt`c"
   ]
  },
  {
   "cell_type": "code",
   "execution_count": 1,
   "id": "ca969b13-a945-41ec-95d5-195d8c56adf9",
   "metadata": {},
   "outputs": [
    {
     "ename": "SyntaxError",
     "evalue": "unexpected character after line continuation character (3057177757.py, line 1)",
     "output_type": "error",
     "traceback": [
      "\u001b[0;36m  Cell \u001b[0;32mIn[1], line 1\u001b[0;36m\u001b[0m\n\u001b[0;31m    ~\\Desktop\\data-01.txt\u001b[0m\n\u001b[0m      ^\u001b[0m\n\u001b[0;31mSyntaxError\u001b[0m\u001b[0;31m:\u001b[0m unexpected character after line continuation character\n"
     ]
    }
   ],
   "source": []
  },
  {
   "attachments": {},
   "cell_type": "markdown",
   "id": "9b7b656a",
   "metadata": {},
   "source": [
    "## 1.3 Path separator"
   ]
  },
  {
   "cell_type": "markdown",
   "id": "751cc5a5-e93a-4003-8300-6de7b42a4ed2",
   "metadata": {},
   "source": [
    "Today’s major OSs (Windows, macOS, Linux) offer similar graphical environments. However, one of the most striking differences between Windows and macOS (or Linux) is the **path separator**.\n",
    "\n",
    "Windows uses `\\` as the path separator while macOS (or Linux) uses `/`. So, the absolute path to a file on the Desktop on each of these systems will look like this:\n",
    "|OS|path name|\n",
    "|:---|---:|\n",
    "|Windows|`C:\\\\Users\\chammika\\Desktop\\data-01.txt`|\n",
    "|macOS (or Linux)|`/Users/chammika/Desktop/data-01.txt`|\n",
    "\n",
    "If you want to share your code and want it to work on both systems, you must not **hardcode** either path separator. Later, I will show you how to use the Python `os` package to fix this problem."
   ]
  },
  {
   "attachments": {},
   "cell_type": "markdown",
   "id": "0a73ce23",
   "metadata": {},
   "source": [
    "## 1.4 Text files vs. Binary files"
   ]
  },
  {
   "cell_type": "markdown",
   "id": "676373d2-bf53-476e-88d6-60caf0149095",
   "metadata": {},
   "source": [
    "Files on a computer can be either **text files** or **binary files**. <\\br>\n",
    "\n",
    "<u>Text files</u> \n",
    "- simple, can be opened.\n",
    "- contents can be examined by almost any software (e.g., Notepad, TextEdit, Jupyter)\n",
    "- examples of text file formats: `.txt`, `.md`, `.csv`\n",
    "\n",
    "<u>Binary files</u> \n",
    "- require some processing to make sense of what they contain\n",
    "- for example, **raw** data in a `.png` file will **appear** like a mess\n",
    "- some binary files will only **run on specific OS's** (for e.g., the `Excel.app` on a Mac will not run on Windows, nor will the `Excel.exe` file run on macOS (or Linux)\n",
    "- some reasons for having binary files are **speed and size**; text files, though simple, can get **too bulky**"
   ]
  },
  {
   "attachments": {},
   "cell_type": "markdown",
   "id": "e19e6297",
   "metadata": {},
   "source": [
    "## 1.5 Extensions"
   ]
  },
  {
   "cell_type": "markdown",
   "id": "074d3b6b-89da-4170-8751-5f61289dd5f6",
   "metadata": {},
   "source": [
    "Files are usually named to end with an extension separated from the name by a `.` like `name.extension`. This extension lets the OS know what software or app to use to extract the details in a file. For example, a `.xlsx` means use Excel or `.pptx` means use PowerPoint. Be careful about changing the extension of a file, as it will make your OS cough and throw a fit. If you don’t believe me, try changing a `.xlsx` to `.txt` and double-click.\n",
    "\n",
    "_Note_: I believe him so I didn't try it. "
   ]
  },
  {
   "attachments": {},
   "cell_type": "markdown",
   "id": "54427f93",
   "metadata": {},
   "source": [
    "# 2 Opening and closing files"
   ]
  },
  {
   "cell_type": "markdown",
   "id": "066919f9-c1eb-4ecf-b320-a04def809003",
   "metadata": {},
   "source": [
    "Now, let’s look at how we can open a file for reading and writing. I will show you a slightly advanced but better way of doing this by using the **with** statement (called a context manager). First, please download the file spectrum-01.txt into the current folder in your Learning Portfolio."
   ]
  },
  {
   "attachments": {},
   "cell_type": "markdown",
   "id": "9364710a",
   "metadata": {},
   "source": [
    "## 2.1 Reading data"
   ]
  },
  {
   "cell_type": "code",
   "execution_count": null,
   "id": "f4d70f38-6e4a-435b-b133-f1d5d57b7630",
   "metadata": {},
   "outputs": [],
   "source": [
    "#reading a text file\n",
    "with open('spectrum-01.txt', 'r') as file:\n",
    "    file_content = file.read()\n",
    "\n",
    "print(file_content)"
   ]
  },
  {
   "cell_type": "markdown",
   "id": "7e06417c-f051-4f74-b87d-550da70fb472",
   "metadata": {},
   "source": [
    "The `open()` function ‘opens’ your file. The `'r'` specifies that I only want to read from the file. Using `with` frees you from worrying about closing the file after you are done."
   ]
  },
  {
   "attachments": {},
   "cell_type": "markdown",
   "id": "9e0a8337",
   "metadata": {},
   "source": [
    "## 2.2 Writing data"
   ]
  },
  {
   "cell_type": "markdown",
   "id": "7b0872b2-fcea-4a7f-adb6-f594f8465ef0",
   "metadata": {},
   "source": [
    "let’s write the following into a file: </br>\n",
    "`text = 'Far out in the uncharted backwaters of the unfashionable end of the western spiral arm of the Galaxy lies a small unregarded yellow sun.\\nOrbiting this at a distance of roughly ninety-two million miles is an utterly insignificant little blue green planet whose ape-descended life forms are so amazingly primitive that they still think digital watches are a pretty neat idea.'`"
   ]
  },
  {
   "cell_type": "code",
   "execution_count": 7,
   "id": "b7f23fc8-eb3d-49b4-95e7-5691504389ad",
   "metadata": {},
   "outputs": [],
   "source": [
    "text = 'Far out in the uncharted backwaters of the unfashionable end of the western spiral arm of the Galaxy lies a small unregarded yellow sun.\\nOrbiting this at a distance of roughly ninety-two million miles is an utterly insignificant little blue green planet whose ape-descended life forms are so amazingly primitive that they still think digital watches are a pretty neat idea.'"
   ]
  },
  {
   "attachments": {},
   "cell_type": "markdown",
   "id": "0a7020b3",
   "metadata": {},
   "source": [
    "### Writing to a file in one go"
   ]
  },
  {
   "cell_type": "markdown",
   "id": "df867e3e-2876-4613-8a70-0e0db05227d0",
   "metadata": {},
   "source": [
    "let’s write everything in one go."
   ]
  },
  {
   "cell_type": "code",
   "execution_count": 8,
   "id": "7d79e6c2-bc0f-4529-9881-87844bcd8ea1",
   "metadata": {},
   "outputs": [],
   "source": [
    "with open('my-text-once.txt', 'w') as file:\n",
    "    file.write(text)"
   ]
  },
  {
   "cell_type": "markdown",
   "id": "3e298825-34d4-496d-9435-2ba930605b2a",
   "metadata": {},
   "source": [
    "You should now have a file `my-text-once.txt` in your directory. You should open it to take a look. By the way, the `'w'` indicates that I am opening the file for writing."
   ]
  },
  {
   "attachments": {},
   "cell_type": "markdown",
   "id": "8440c938",
   "metadata": {},
   "source": [
    "### Writing to a file, line by line"
   ]
  },
  {
   "cell_type": "markdown",
   "id": "1d7f10f1-d765-4165-be73-bf10e7cab7cf",
   "metadata": {},
   "source": [
    "This is useful when dealing with data generated on the fly. Since I don’t have such data now, I will split the lines of the previous text.\n",
    "\n",
    "_Note_:The contents in both files will be slightly different. However, this is not a time to worry about that."
   ]
  },
  {
   "cell_type": "code",
   "execution_count": 9,
   "id": "7ae78929",
   "metadata": {},
   "outputs": [],
   "source": [
    "with open('my-text-lines.txt', 'w') as file:\n",
    "    for line in text.splitlines():\n",
    "        file.writelines(line)"
   ]
  },
  {
   "cell_type": "markdown",
   "id": "895e6d43-36fc-46bd-a2ff-ea5677ab7e54",
   "metadata": {},
   "source": [
    "I must add that writing to a file is a very slow operation. So, it will slow things down if you do it in a loop."
   ]
  },
  {
   "attachments": {},
   "cell_type": "markdown",
   "id": "088f9e04",
   "metadata": {},
   "source": [
    "# 3 Some useful packages"
   ]
  },
  {
   "cell_type": "markdown",
   "id": "dd7feee9-de1c-4f36-a8e2-dbdd15a491af",
   "metadata": {},
   "source": [
    "Use the following packages to programmatically create, copy, and delete files and folders and navigate the OS.\n",
    "\n",
    "|**Package**|**Primarily used for**|\n",
    "|:---|---:|\n",
    "|<u><code>os</code></u>|To ‘talk’ to the OS to create, modify, delete folders and write OS-agnostic code.|\n",
    "|<u><code>glob</code></u>|To search for files.|\n",
    "|<u><code>shutil</code></u>|To copy files.|"
   ]
  },
  {
   "cell_type": "markdown",
   "id": "d7482a60-44e5-4efd-993b-3fa692a8d75f",
   "metadata": {},
   "source": [
    "I am using both `os` **and** `shutil` because **shutil** offers some function (e.g., **shutil.copy()**) that **os** does not. \n",
    "- There are also subtle differences in what these functions do.\n",
    "\n",
    "These packages are already part of the standard Python library. So you do not have to install them. Let’s import the packages first."
   ]
  },
  {
   "cell_type": "code",
   "execution_count": 10,
   "id": "80be75d6-19b2-44ed-b8cb-98a70e838a84",
   "metadata": {},
   "outputs": [],
   "source": [
    "import os\n",
    "import glob\n",
    "import shutil"
   ]
  },
  {
   "attachments": {},
   "cell_type": "markdown",
   "id": "04a74c10",
   "metadata": {},
   "source": [
    "# 4 OS safe paths"
   ]
  },
  {
   "cell_type": "markdown",
   "id": "a37518a7-c98e-4399-9858-80a5c5d30841",
   "metadata": {},
   "source": [
    "Consider a **file** `data-01.txt` in the **sub-directory** `sg-data` of the **directory** `all-data`.\n",
    "\n",
    "`all-data` --> `sg-data` --> `data-01.txt`\n",
    "\n",
    "If I want to access `data-01.txt` all I have to do is:"
   ]
  },
  {
   "cell_type": "code",
   "execution_count": 11,
   "id": "2cd18d73-1a2d-4826-86de-61b21d511078",
   "metadata": {},
   "outputs": [
    {
     "name": "stdout",
     "output_type": "stream",
     "text": [
      "./all-data/sg-data/data-01.txt\n"
     ]
    }
   ],
   "source": [
    "path = os.path.join('.', 'all-data', 'sg-data', 'data-01.txt')\n",
    "print(path)"
   ]
  },
  {
   "cell_type": "markdown",
   "id": "cc4b4c01-be60-48e9-b976-b7964db09509",
   "metadata": {},
   "source": [
    "If you are on Windows, you will see.</br>\n",
    "`'.\\\\all-data\\\\sg-data\\\\data-01.txt'`"
   ]
  },
  {
   "cell_type": "markdown",
   "id": "bcb1bdd6-792f-4642-85c3-e74a2866ba99",
   "metadata": {},
   "source": [
    "Else, it will be</br>\n",
    "`'./all-data/sg-data/data-01.txt'`"
   ]
  },
  {
   "cell_type": "markdown",
   "id": "5c625732-aa63-4f46-93d6-10fe3fb0ad4e",
   "metadata": {},
   "source": [
    "So, using `os.path.join()` will adjust your path with either `/` or `\\` as necessary. This means your code will seamlessly run on all the OS."
   ]
  },
  {
   "attachments": {},
   "cell_type": "markdown",
   "id": "bf8858ab",
   "metadata": {},
   "source": [
    "# 5 Folders"
   ]
  },
  {
   "attachments": {},
   "cell_type": "markdown",
   "id": "d7e5b408",
   "metadata": {},
   "source": [
    "## 5.1 Creating folders"
   ]
  },
  {
   "cell_type": "markdown",
   "id": "28053180-b956-46cb-8123-6feb6c137b8e",
   "metadata": {},
   "source": [
    "You can create a folder programmatically using `os.mkdir()`. This is very useful because you can write a **tiny bit of code** to quickly **organise your data**. For example, if we want to store information about the people ‘John’, ‘Paul’ and ‘Ringo’, I can quickly create some folders for this by:"
   ]
  },
  {
   "cell_type": "code",
   "execution_count": 15,
   "id": "5f03c71f-714c-4a32-8161-04059d4507fd",
   "metadata": {},
   "outputs": [
    {
     "name": "stdout",
     "output_type": "stream",
     "text": [
      "Creating people/John\n",
      "Creating people/Paul\n",
      "Creating people/Ringo\n"
     ]
    }
   ],
   "source": [
    "os.mkdir('people')\n",
    "\n",
    "for person in ['John', 'Paul', 'Ringo']:\n",
    "    path = os.path.join('people', person)\n",
    "    print(f'Creating {path}')\n",
    "    os.mkdir(path)"
   ]
  },
  {
   "cell_type": "markdown",
   "id": "7ef497b9-cdb1-4c55-886f-61e584e539e5",
   "metadata": {},
   "source": [
    "You don’t need the `print()` statement. I have included it so I have some feedback on what is (or is not) happening."
   ]
  },
  {
   "attachments": {},
   "cell_type": "markdown",
   "id": "8718522f",
   "metadata": {},
   "source": [
    "## 5.2 Checking for existence"
   ]
  },
  {
   "cell_type": "markdown",
   "id": "f040fedd-b0af-4636-8496-614c7e37af6e",
   "metadata": {},
   "source": [
    "Python will complain if you try to run this code **twice**, saying that the file (yes, Python refers to folders as files) **already exists**. So, when you create resources, it is a good idea to **check** if they already exist. There are two ways to do this: \n",
    "- `try-except` with `FileExistsError`\n",
    "- `os.path.exists()`"
   ]
  },
  {
   "attachments": {},
   "cell_type": "markdown",
   "id": "f24a11d3",
   "metadata": {},
   "source": [
    "### Using `try-except`"
   ]
  },
  {
   "cell_type": "code",
   "execution_count": 16,
   "id": "27bb7a3e",
   "metadata": {},
   "outputs": [
    {
     "name": "stdout",
     "output_type": "stream",
     "text": [
      "people/John already exists; skipping creation.\n",
      "people/Paul already exists; skipping creation.\n",
      "people/Ringo already exists; skipping creation.\n"
     ]
    }
   ],
   "source": [
    "for person in ['John', 'Paul', 'Ringo']:\n",
    "    path = os.path.join('people', person)\n",
    "    try:\n",
    "        os.mkdir(path)\n",
    "        print(f'Creating {path}')\n",
    "    except FileExistsError:\n",
    "        print(f'{path} already exists; skipping creation.')"
   ]
  },
  {
   "attachments": {},
   "cell_type": "markdown",
   "id": "68907d97",
   "metadata": {},
   "source": [
    "### Using `os.path.exists()`"
   ]
  },
  {
   "cell_type": "code",
   "execution_count": 17,
   "id": "4db7204f",
   "metadata": {},
   "outputs": [
    {
     "name": "stdout",
     "output_type": "stream",
     "text": [
      "people/John already exists; skipping creation.\n",
      "people/Paul already exists; skipping creation.\n",
      "people/Ringo already exists; skipping creation.\n"
     ]
    }
   ],
   "source": [
    "for person in ['John', 'Paul', 'Ringo']:\n",
    "    path = os.path.join('people', person)\n",
    "    if os.path.exists(path):\n",
    "        print(f'{path} already exists; skipping creation.')\n",
    "    else:\n",
    "        os.mkdir(path)\n",
    "        print(f'Creating {path}')"
   ]
  },
  {
   "attachments": {},
   "cell_type": "markdown",
   "id": "fcb8dfc2",
   "metadata": {},
   "source": [
    "## 5.3 Copying files"
   ]
  },
  {
   "cell_type": "markdown",
   "id": "4e6fdd88-b021-4de3-b096-584d45d5443f",
   "metadata": {},
   "source": [
    "First, there should be a copy of the 73 logo (`sp2273_logo.png`) in the current folder. Then, I will copy this into the folders I created for ‘John’, ‘Paul,’ and ‘Ringo’."
   ]
  },
  {
   "cell_type": "code",
   "execution_count": 18,
   "id": "8474fa64-a517-4837-aaff-de21c933aa38",
   "metadata": {},
   "outputs": [
    {
     "ename": "FileNotFoundError",
     "evalue": "[Errno 2] No such file or directory: 'sp2273_logo.png'",
     "output_type": "error",
     "traceback": [
      "\u001b[0;31m---------------------------------------------------------------------------\u001b[0m",
      "\u001b[0;31mFileNotFoundError\u001b[0m                         Traceback (most recent call last)",
      "Cell \u001b[0;32mIn[18], line 3\u001b[0m\n\u001b[1;32m      1\u001b[0m \u001b[38;5;28;01mfor\u001b[39;00m person \u001b[38;5;129;01min\u001b[39;00m [\u001b[38;5;124m'\u001b[39m\u001b[38;5;124mJohn\u001b[39m\u001b[38;5;124m'\u001b[39m, \u001b[38;5;124m'\u001b[39m\u001b[38;5;124mPaul\u001b[39m\u001b[38;5;124m'\u001b[39m, \u001b[38;5;124m'\u001b[39m\u001b[38;5;124mRingo\u001b[39m\u001b[38;5;124m'\u001b[39m]:\n\u001b[1;32m      2\u001b[0m     path_to_destination \u001b[38;5;241m=\u001b[39m os\u001b[38;5;241m.\u001b[39mpath\u001b[38;5;241m.\u001b[39mjoin(\u001b[38;5;124m'\u001b[39m\u001b[38;5;124mpeople\u001b[39m\u001b[38;5;124m'\u001b[39m, person)\n\u001b[0;32m----> 3\u001b[0m     \u001b[43mshutil\u001b[49m\u001b[38;5;241;43m.\u001b[39;49m\u001b[43mcopy\u001b[49m\u001b[43m(\u001b[49m\u001b[38;5;124;43m'\u001b[39;49m\u001b[38;5;124;43msp2273_logo.png\u001b[39;49m\u001b[38;5;124;43m'\u001b[39;49m\u001b[43m,\u001b[49m\u001b[43m \u001b[49m\u001b[43mpath_to_destination\u001b[49m\u001b[43m)\u001b[49m\n\u001b[1;32m      4\u001b[0m     \u001b[38;5;28mprint\u001b[39m(\u001b[38;5;124mf\u001b[39m\u001b[38;5;124m'\u001b[39m\u001b[38;5;124mCopied file to \u001b[39m\u001b[38;5;132;01m{\u001b[39;00mpath_to_destination\u001b[38;5;132;01m}\u001b[39;00m\u001b[38;5;124m'\u001b[39m)\n",
      "File \u001b[0;32m~/miniconda3/lib/python3.11/shutil.py:419\u001b[0m, in \u001b[0;36mcopy\u001b[0;34m(src, dst, follow_symlinks)\u001b[0m\n\u001b[1;32m    417\u001b[0m \u001b[38;5;28;01mif\u001b[39;00m os\u001b[38;5;241m.\u001b[39mpath\u001b[38;5;241m.\u001b[39misdir(dst):\n\u001b[1;32m    418\u001b[0m     dst \u001b[38;5;241m=\u001b[39m os\u001b[38;5;241m.\u001b[39mpath\u001b[38;5;241m.\u001b[39mjoin(dst, os\u001b[38;5;241m.\u001b[39mpath\u001b[38;5;241m.\u001b[39mbasename(src))\n\u001b[0;32m--> 419\u001b[0m \u001b[43mcopyfile\u001b[49m\u001b[43m(\u001b[49m\u001b[43msrc\u001b[49m\u001b[43m,\u001b[49m\u001b[43m \u001b[49m\u001b[43mdst\u001b[49m\u001b[43m,\u001b[49m\u001b[43m \u001b[49m\u001b[43mfollow_symlinks\u001b[49m\u001b[38;5;241;43m=\u001b[39;49m\u001b[43mfollow_symlinks\u001b[49m\u001b[43m)\u001b[49m\n\u001b[1;32m    420\u001b[0m copymode(src, dst, follow_symlinks\u001b[38;5;241m=\u001b[39mfollow_symlinks)\n\u001b[1;32m    421\u001b[0m \u001b[38;5;28;01mreturn\u001b[39;00m dst\n",
      "File \u001b[0;32m~/miniconda3/lib/python3.11/shutil.py:256\u001b[0m, in \u001b[0;36mcopyfile\u001b[0;34m(src, dst, follow_symlinks)\u001b[0m\n\u001b[1;32m    254\u001b[0m     os\u001b[38;5;241m.\u001b[39msymlink(os\u001b[38;5;241m.\u001b[39mreadlink(src), dst)\n\u001b[1;32m    255\u001b[0m \u001b[38;5;28;01melse\u001b[39;00m:\n\u001b[0;32m--> 256\u001b[0m     \u001b[38;5;28;01mwith\u001b[39;00m \u001b[38;5;28;43mopen\u001b[39;49m\u001b[43m(\u001b[49m\u001b[43msrc\u001b[49m\u001b[43m,\u001b[49m\u001b[43m \u001b[49m\u001b[38;5;124;43m'\u001b[39;49m\u001b[38;5;124;43mrb\u001b[39;49m\u001b[38;5;124;43m'\u001b[39;49m\u001b[43m)\u001b[49m \u001b[38;5;28;01mas\u001b[39;00m fsrc:\n\u001b[1;32m    257\u001b[0m         \u001b[38;5;28;01mtry\u001b[39;00m:\n\u001b[1;32m    258\u001b[0m             \u001b[38;5;28;01mwith\u001b[39;00m \u001b[38;5;28mopen\u001b[39m(dst, \u001b[38;5;124m'\u001b[39m\u001b[38;5;124mwb\u001b[39m\u001b[38;5;124m'\u001b[39m) \u001b[38;5;28;01mas\u001b[39;00m fdst:\n\u001b[1;32m    259\u001b[0m                 \u001b[38;5;66;03m# macOS\u001b[39;00m\n",
      "\u001b[0;31mFileNotFoundError\u001b[0m: [Errno 2] No such file or directory: 'sp2273_logo.png'"
     ]
    }
   ],
   "source": [
    "for person in ['John', 'Paul', 'Ringo']:\n",
    "    path_to_destination = os.path.join('people', person)\n",
    "    shutil.copy('sp2273_logo.png', path_to_destination)\n",
    "    print(f'Copied file to {path_to_destination}')"
   ]
  },
  {
   "cell_type": "markdown",
   "id": "49a9829b-7326-41f4-a69a-2564019f452c",
   "metadata": {},
   "source": [
    "Let’s say I want all the images in a sub-folder called `imgs` in each person’s directory. I can do this by first creating the folders `imgs` and then moving the logo file into that folder."
   ]
  },
  {
   "cell_type": "code",
   "execution_count": 19,
   "id": "5253c3d8-300b-49d5-8bd2-21a7661c79ac",
   "metadata": {},
   "outputs": [
    {
     "ename": "FileNotFoundError",
     "evalue": "[Errno 2] No such file or directory: 'people/John/sp2273_logo.png'",
     "output_type": "error",
     "traceback": [
      "\u001b[0;31m---------------------------------------------------------------------------\u001b[0m",
      "\u001b[0;31mFileNotFoundError\u001b[0m                         Traceback (most recent call last)",
      "File \u001b[0;32m~/miniconda3/lib/python3.11/shutil.py:825\u001b[0m, in \u001b[0;36mmove\u001b[0;34m(src, dst, copy_function)\u001b[0m\n\u001b[1;32m    824\u001b[0m \u001b[38;5;28;01mtry\u001b[39;00m:\n\u001b[0;32m--> 825\u001b[0m     \u001b[43mos\u001b[49m\u001b[38;5;241;43m.\u001b[39;49m\u001b[43mrename\u001b[49m\u001b[43m(\u001b[49m\u001b[43msrc\u001b[49m\u001b[43m,\u001b[49m\u001b[43m \u001b[49m\u001b[43mreal_dst\u001b[49m\u001b[43m)\u001b[49m\n\u001b[1;32m    826\u001b[0m \u001b[38;5;28;01mexcept\u001b[39;00m \u001b[38;5;167;01mOSError\u001b[39;00m:\n",
      "\u001b[0;31mFileNotFoundError\u001b[0m: [Errno 2] No such file or directory: 'people/John/sp2273_logo.png' -> 'people/John/imgs/sp2273_logo.png'",
      "\nDuring handling of the above exception, another exception occurred:\n",
      "\u001b[0;31mFileNotFoundError\u001b[0m                         Traceback (most recent call last)",
      "Cell \u001b[0;32mIn[19], line 11\u001b[0m\n\u001b[1;32m      8\u001b[0m current_path_of_logo \u001b[38;5;241m=\u001b[39m os\u001b[38;5;241m.\u001b[39mpath\u001b[38;5;241m.\u001b[39mjoin(\u001b[38;5;124m'\u001b[39m\u001b[38;5;124mpeople\u001b[39m\u001b[38;5;124m'\u001b[39m, person, \u001b[38;5;124m'\u001b[39m\u001b[38;5;124msp2273_logo.png\u001b[39m\u001b[38;5;124m'\u001b[39m)\n\u001b[1;32m      9\u001b[0m new_path_of_logo \u001b[38;5;241m=\u001b[39m os\u001b[38;5;241m.\u001b[39mpath\u001b[38;5;241m.\u001b[39mjoin(\u001b[38;5;124m'\u001b[39m\u001b[38;5;124mpeople\u001b[39m\u001b[38;5;124m'\u001b[39m, person, \u001b[38;5;124m'\u001b[39m\u001b[38;5;124mimgs\u001b[39m\u001b[38;5;124m'\u001b[39m, \u001b[38;5;124m'\u001b[39m\u001b[38;5;124msp2273_logo.png\u001b[39m\u001b[38;5;124m'\u001b[39m)\n\u001b[0;32m---> 11\u001b[0m \u001b[43mshutil\u001b[49m\u001b[38;5;241;43m.\u001b[39;49m\u001b[43mmove\u001b[49m\u001b[43m(\u001b[49m\u001b[43mcurrent_path_of_logo\u001b[49m\u001b[43m,\u001b[49m\u001b[43m \u001b[49m\u001b[43mnew_path_of_logo\u001b[49m\u001b[43m)\u001b[49m\n\u001b[1;32m     12\u001b[0m \u001b[38;5;28mprint\u001b[39m(\u001b[38;5;124mf\u001b[39m\u001b[38;5;124m'\u001b[39m\u001b[38;5;124mMoved logo to \u001b[39m\u001b[38;5;132;01m{\u001b[39;00mnew_path_of_logo\u001b[38;5;132;01m}\u001b[39;00m\u001b[38;5;124m'\u001b[39m)\n",
      "File \u001b[0;32m~/miniconda3/lib/python3.11/shutil.py:845\u001b[0m, in \u001b[0;36mmove\u001b[0;34m(src, dst, copy_function)\u001b[0m\n\u001b[1;32m    843\u001b[0m         rmtree(src)\n\u001b[1;32m    844\u001b[0m     \u001b[38;5;28;01melse\u001b[39;00m:\n\u001b[0;32m--> 845\u001b[0m         \u001b[43mcopy_function\u001b[49m\u001b[43m(\u001b[49m\u001b[43msrc\u001b[49m\u001b[43m,\u001b[49m\u001b[43m \u001b[49m\u001b[43mreal_dst\u001b[49m\u001b[43m)\u001b[49m\n\u001b[1;32m    846\u001b[0m         os\u001b[38;5;241m.\u001b[39munlink(src)\n\u001b[1;32m    847\u001b[0m \u001b[38;5;28;01mreturn\u001b[39;00m real_dst\n",
      "File \u001b[0;32m~/miniconda3/lib/python3.11/shutil.py:436\u001b[0m, in \u001b[0;36mcopy2\u001b[0;34m(src, dst, follow_symlinks)\u001b[0m\n\u001b[1;32m    434\u001b[0m \u001b[38;5;28;01mif\u001b[39;00m os\u001b[38;5;241m.\u001b[39mpath\u001b[38;5;241m.\u001b[39misdir(dst):\n\u001b[1;32m    435\u001b[0m     dst \u001b[38;5;241m=\u001b[39m os\u001b[38;5;241m.\u001b[39mpath\u001b[38;5;241m.\u001b[39mjoin(dst, os\u001b[38;5;241m.\u001b[39mpath\u001b[38;5;241m.\u001b[39mbasename(src))\n\u001b[0;32m--> 436\u001b[0m \u001b[43mcopyfile\u001b[49m\u001b[43m(\u001b[49m\u001b[43msrc\u001b[49m\u001b[43m,\u001b[49m\u001b[43m \u001b[49m\u001b[43mdst\u001b[49m\u001b[43m,\u001b[49m\u001b[43m \u001b[49m\u001b[43mfollow_symlinks\u001b[49m\u001b[38;5;241;43m=\u001b[39;49m\u001b[43mfollow_symlinks\u001b[49m\u001b[43m)\u001b[49m\n\u001b[1;32m    437\u001b[0m copystat(src, dst, follow_symlinks\u001b[38;5;241m=\u001b[39mfollow_symlinks)\n\u001b[1;32m    438\u001b[0m \u001b[38;5;28;01mreturn\u001b[39;00m dst\n",
      "File \u001b[0;32m~/miniconda3/lib/python3.11/shutil.py:256\u001b[0m, in \u001b[0;36mcopyfile\u001b[0;34m(src, dst, follow_symlinks)\u001b[0m\n\u001b[1;32m    254\u001b[0m     os\u001b[38;5;241m.\u001b[39msymlink(os\u001b[38;5;241m.\u001b[39mreadlink(src), dst)\n\u001b[1;32m    255\u001b[0m \u001b[38;5;28;01melse\u001b[39;00m:\n\u001b[0;32m--> 256\u001b[0m     \u001b[38;5;28;01mwith\u001b[39;00m \u001b[38;5;28;43mopen\u001b[39;49m\u001b[43m(\u001b[49m\u001b[43msrc\u001b[49m\u001b[43m,\u001b[49m\u001b[43m \u001b[49m\u001b[38;5;124;43m'\u001b[39;49m\u001b[38;5;124;43mrb\u001b[39;49m\u001b[38;5;124;43m'\u001b[39;49m\u001b[43m)\u001b[49m \u001b[38;5;28;01mas\u001b[39;00m fsrc:\n\u001b[1;32m    257\u001b[0m         \u001b[38;5;28;01mtry\u001b[39;00m:\n\u001b[1;32m    258\u001b[0m             \u001b[38;5;28;01mwith\u001b[39;00m \u001b[38;5;28mopen\u001b[39m(dst, \u001b[38;5;124m'\u001b[39m\u001b[38;5;124mwb\u001b[39m\u001b[38;5;124m'\u001b[39m) \u001b[38;5;28;01mas\u001b[39;00m fdst:\n\u001b[1;32m    259\u001b[0m                 \u001b[38;5;66;03m# macOS\u001b[39;00m\n",
      "\u001b[0;31mFileNotFoundError\u001b[0m: [Errno 2] No such file or directory: 'people/John/sp2273_logo.png'"
     ]
    }
   ],
   "source": [
    "for person in ['John', 'Paul', 'Ringo']:\n",
    "    # Create folder 'imgs'\n",
    "    path_to_imgs = os.path.join('people', person, 'imgs')\n",
    "    if not os.path.exists(path_to_imgs):\n",
    "        os.mkdir(path_to_imgs)\n",
    "\n",
    "    # Move logo file\n",
    "    current_path_of_logo = os.path.join('people', person, 'sp2273_logo.png')\n",
    "    new_path_of_logo = os.path.join('people', person, 'imgs', 'sp2273_logo.png')\n",
    "\n",
    "    shutil.move(current_path_of_logo, new_path_of_logo)\n",
    "    print(f'Moved logo to {new_path_of_logo}')"
   ]
  },
  {
   "cell_type": "markdown",
   "id": "0c97577c-82e5-4e4f-860e-30d6accda1ef",
   "metadata": {},
   "source": [
    "<div class=\"alert alert-block alert-info\">\n",
    "<b>For Your Information:</b> </br>You can do all these extremely fast using only the terminal and its loops structure. Just letting you know if you want to explore on your own.\n",
    "\n",
    "\n",
    "</div>"
   ]
  },
  {
   "attachments": {},
   "cell_type": "markdown",
   "id": "49ac6681",
   "metadata": {},
   "source": [
    "# 6 Listing and looking for files"
   ]
  },
  {
   "cell_type": "markdown",
   "id": "b6317b6d-246a-49da-95ae-ae5f08d800a7",
   "metadata": {},
   "source": [
    "If I want to know **what** files are in a folder, then `glob` does easy work of this. Let me show you how to use it."
   ]
  },
  {
   "cell_type": "markdown",
   "id": "24fe88b1-ec96-43fd-9a9d-b0d4d080740f",
   "metadata": {},
   "source": [
    "Example 1: </br>\n",
    "I use this if I want **all the files** in the **current directory**.\n",
    "The `*` is called a <mark>wildcard</mark> and is read as ‘**anything**’. So, I am asking `glob` to give me **anything in the folder**."
   ]
  },
  {
   "cell_type": "code",
   "execution_count": 20,
   "id": "b66403b9-b3eb-4ad9-a086-9a2743c30243",
   "metadata": {},
   "outputs": [
    {
     "data": {
      "text/plain": [
       "['my-text-once.txt',\n",
       " 'files,_folders_&_os_(need).ipynb',\n",
       " 'spectrum-01.txt',\n",
       " 'people',\n",
       " 'my-text-lines.txt']"
      ]
     },
     "execution_count": 20,
     "metadata": {},
     "output_type": "execute_result"
    }
   ],
   "source": [
    "glob.glob('*')"
   ]
  },
  {
   "cell_type": "markdown",
   "id": "944b8cbd-a294-4d15-926a-004cfedb3fe3",
   "metadata": {},
   "source": [
    "Example 2: </br>\n",
    "I want to **refine** my search and ask glob to give **only** those files that match the pattern ‘peo’ followed by ‘anything’."
   ]
  },
  {
   "cell_type": "code",
   "execution_count": 21,
   "id": "d9c031e6-b96a-46bc-82bb-57924a050acf",
   "metadata": {},
   "outputs": [
    {
     "data": {
      "text/plain": [
       "['people']"
      ]
     },
     "execution_count": 21,
     "metadata": {},
     "output_type": "execute_result"
    }
   ],
   "source": [
    "glob.glob('peo*')"
   ]
  },
  {
   "cell_type": "markdown",
   "id": "4924c7a6-c385-4aba-afd8-eeb1fc8958c5",
   "metadata": {},
   "source": [
    "Example 3: </br> I now want to know what is inside the folders that start with `peo`."
   ]
  },
  {
   "cell_type": "code",
   "execution_count": 22,
   "id": "da7af6aa-83a4-43ba-97ae-20602df11d5f",
   "metadata": {},
   "outputs": [
    {
     "data": {
      "text/plain": [
       "['people/Paul', 'people/John', 'people/Ringo']"
      ]
     },
     "execution_count": 22,
     "metadata": {},
     "output_type": "execute_result"
    }
   ],
   "source": [
    "glob.glob('peo*/*')"
   ]
  },
  {
   "cell_type": "markdown",
   "id": "fe6eeba6-09fa-4db0-85ec-8da7cd3488cf",
   "metadata": {},
   "source": [
    "Example 4: </br> Now, I want to see the **whole**, **detailed structure** of the folder people. For this, I need to tell `glob` to search **recursively** (i.e. dig through all sub-file directories) by putting `recursive=True`.\n",
    "\n",
    "I must also use <mark>two wildcards</mark> `**` to say all ‘sub-directories’."
   ]
  },
  {
   "cell_type": "code",
   "execution_count": 23,
   "id": "41203ee8-7d71-4623-84dc-30484ad35a47",
   "metadata": {},
   "outputs": [
    {
     "data": {
      "text/plain": [
       "['people/', 'people/Paul', 'people/John', 'people/John/imgs', 'people/Ringo']"
      ]
     },
     "execution_count": 23,
     "metadata": {},
     "output_type": "execute_result"
    }
   ],
   "source": [
    "glob.glob('people/**', recursive=True)"
   ]
  },
  {
   "cell_type": "markdown",
   "id": "9e7d46da-cd1d-4429-b2d2-219eb36274f9",
   "metadata": {},
   "source": [
    "Example 5: </br>\n",
    "I want only the `.png` files. So, I just need to modify my pattern. I am asking `glob` to go through the whole structure of people and show me those files with the pattern ‘anything’`.png`!"
   ]
  },
  {
   "cell_type": "code",
   "execution_count": 25,
   "id": "03e8744f-a8f4-41ba-88a8-8230b54c4968",
   "metadata": {},
   "outputs": [
    {
     "data": {
      "text/plain": [
       "[]"
      ]
     },
     "execution_count": 25,
     "metadata": {},
     "output_type": "execute_result"
    }
   ],
   "source": [
    "glob.glob('people/**/*.png', recursive=True)"
   ]
  },
  {
   "attachments": {},
   "cell_type": "markdown",
   "id": "bae342dd",
   "metadata": {},
   "source": [
    "# 7 Extracting file info"
   ]
  },
  {
   "cell_type": "markdown",
   "id": "41226a88-c462-4942-9d4b-0af93bb174ba",
   "metadata": {},
   "source": [
    "When dealing with files and folders, you often have to **extract** the filename, folder or extension. You can do this by simple **string manipulation**; for example if I want the filename and extension:"
   ]
  },
  {
   "cell_type": "code",
   "execution_count": 26,
   "id": "1fa63da1-3d3e-4053-b640-7ca9c11bb398",
   "metadata": {},
   "outputs": [
    {
     "name": "stdout",
     "output_type": "stream",
     "text": [
      "sp2273_logo.png png\n"
     ]
    }
   ],
   "source": [
    "path = 'people/Ringo/imgs/sp2273_logo.png'\n",
    "filename = path.split(os.path.sep)[-1]\n",
    "extension = filename.split('.')[-1]\n",
    "print(filename, extension)"
   ]
  },
  {
   "cell_type": "markdown",
   "id": "3890172c-c72a-4696-a342-15273a36d44f",
   "metadata": {},
   "source": [
    "`os.path.sep` is the path separator (i.e. `\\` or `/`) for the OS. I split the path where the separator occurred and picked the last element in the list. I use a similar strategy for the file extension."
   ]
  },
  {
   "cell_type": "markdown",
   "id": "ac8f41f0-cd10-4794-a5fb-f1de0e70a56a",
   "metadata": {},
   "source": [
    "However, if you want, os provides some simple functions for these tasks."
   ]
  },
  {
   "cell_type": "code",
   "execution_count": 27,
   "id": "861df789-f8cc-4737-82d4-653874f3e7bc",
   "metadata": {},
   "outputs": [],
   "source": [
    "path = 'people/Ringo/imgs/sp2273_logo.png'"
   ]
  },
  {
   "cell_type": "code",
   "execution_count": 28,
   "id": "59257fb4-98fc-4342-b9d7-ebea04d6ee1b",
   "metadata": {},
   "outputs": [
    {
     "data": {
      "text/plain": [
       "('people/Ringo/imgs', 'sp2273_logo.png')"
      ]
     },
     "execution_count": 28,
     "metadata": {},
     "output_type": "execute_result"
    }
   ],
   "source": [
    "os.path.split(path)      # Split filename from the rest"
   ]
  },
  {
   "cell_type": "code",
   "execution_count": 29,
   "id": "e7769282-7313-45ba-82a8-33ea8cd372d1",
   "metadata": {},
   "outputs": [
    {
     "data": {
      "text/plain": [
       "('people/Ringo/imgs/sp2273_logo', '.png')"
      ]
     },
     "execution_count": 29,
     "metadata": {},
     "output_type": "execute_result"
    }
   ],
   "source": [
    "os.path.splitext(path)   # Split extension"
   ]
  },
  {
   "cell_type": "code",
   "execution_count": 30,
   "id": "9968e0b0-f3d4-4a22-86f7-10cd8a9290cd",
   "metadata": {},
   "outputs": [
    {
     "data": {
      "text/plain": [
       "'people/Ringo/imgs'"
      ]
     },
     "execution_count": 30,
     "metadata": {},
     "output_type": "execute_result"
    }
   ],
   "source": [
    "os.path.dirname(path)    # Show the directory"
   ]
  },
  {
   "attachments": {},
   "cell_type": "markdown",
   "id": "cf5bb900",
   "metadata": {},
   "source": [
    "# 8 Deleting stuff"
   ]
  },
  {
   "cell_type": "markdown",
   "id": "cba84773-bf0f-4748-b4cd-b131f801b808",
   "metadata": {},
   "source": [
    "If you want to remove a file:"
   ]
  },
  {
   "cell_type": "code",
   "execution_count": 31,
   "id": "60f25892-d8ad-4857-b812-9e259874cee5",
   "metadata": {},
   "outputs": [
    {
     "ename": "FileNotFoundError",
     "evalue": "[Errno 2] No such file or directory: 'people/Ringo/imgs/sp2273_logo.png'",
     "output_type": "error",
     "traceback": [
      "\u001b[0;31m---------------------------------------------------------------------------\u001b[0m",
      "\u001b[0;31mFileNotFoundError\u001b[0m                         Traceback (most recent call last)",
      "Cell \u001b[0;32mIn[31], line 1\u001b[0m\n\u001b[0;32m----> 1\u001b[0m \u001b[43mos\u001b[49m\u001b[38;5;241;43m.\u001b[39;49m\u001b[43mremove\u001b[49m\u001b[43m(\u001b[49m\u001b[38;5;124;43m'\u001b[39;49m\u001b[38;5;124;43mpeople/Ringo/imgs/sp2273_logo.png\u001b[39;49m\u001b[38;5;124;43m'\u001b[39;49m\u001b[43m)\u001b[49m\n",
      "\u001b[0;31mFileNotFoundError\u001b[0m: [Errno 2] No such file or directory: 'people/Ringo/imgs/sp2273_logo.png'"
     ]
    }
   ],
   "source": [
    "os.remove('people/Ringo/imgs/sp2273_logo.png')"
   ]
  },
  {
   "cell_type": "markdown",
   "id": "9bfdcea7-856d-4d21-a9c5-b04d6cc37dc6",
   "metadata": {},
   "source": [
    "This won’t work with directories. For an empty directory, use:"
   ]
  },
  {
   "cell_type": "code",
   "execution_count": 32,
   "id": "4273555c-5b2c-43ff-bf8e-96a8153ac706",
   "metadata": {},
   "outputs": [
    {
     "ename": "FileNotFoundError",
     "evalue": "[Errno 2] No such file or directory: 'people/Ringo/imgs/sp2273_logo.png'",
     "output_type": "error",
     "traceback": [
      "\u001b[0;31m---------------------------------------------------------------------------\u001b[0m",
      "\u001b[0;31mFileNotFoundError\u001b[0m                         Traceback (most recent call last)",
      "Cell \u001b[0;32mIn[32], line 1\u001b[0m\n\u001b[0;32m----> 1\u001b[0m \u001b[43mos\u001b[49m\u001b[38;5;241;43m.\u001b[39;49m\u001b[43mremove\u001b[49m\u001b[43m(\u001b[49m\u001b[38;5;124;43m'\u001b[39;49m\u001b[38;5;124;43mpeople/Ringo/imgs/sp2273_logo.png\u001b[39;49m\u001b[38;5;124;43m'\u001b[39;49m\u001b[43m)\u001b[49m\n",
      "\u001b[0;31mFileNotFoundError\u001b[0m: [Errno 2] No such file or directory: 'people/Ringo/imgs/sp2273_logo.png'"
     ]
    }
   ],
   "source": [
    "os.remove('people/Ringo/imgs/sp2273_logo.png')"
   ]
  },
  {
   "cell_type": "markdown",
   "id": "dea97ad5-6108-4563-9762-5554060c5cc1",
   "metadata": {},
   "source": [
    "For a directory with files, use `shutil`:"
   ]
  },
  {
   "cell_type": "code",
   "execution_count": 33,
   "id": "c18eba5b-eb4a-47f3-b534-33b74d7ae6d8",
   "metadata": {},
   "outputs": [],
   "source": [
    "shutil.rmtree('people/Ringo')"
   ]
  },
  {
   "cell_type": "markdown",
   "id": "9796d9d7-2aa7-4c93-84b5-60edc4f6676a",
   "metadata": {},
   "source": [
    "It goes without saying that you should be careful when using these functions. Unfortunately, I have had some **miserable** experiences by accidentally deleting files because I was more enthusiastic than sensible. With great power comes great responsibility, so use with **extreme caution**!"
   ]
  }
 ],
 "metadata": {
  "kernelspec": {
   "display_name": "Python 3 (ipykernel)",
   "language": "python",
   "name": "python3"
  },
  "language_info": {
   "codemirror_mode": {
    "name": "ipython",
    "version": 3
   },
   "file_extension": ".py",
   "mimetype": "text/x-python",
   "name": "python",
   "nbconvert_exporter": "python",
   "pygments_lexer": "ipython3",
   "version": "3.11.7"
  },
  "toc": {
   "base_numbering": 1,
   "nav_menu": {},
   "number_sections": true,
   "sideBar": true,
   "skip_h1_title": false,
   "title_cell": "Table of Contents",
   "title_sidebar": "Contents",
   "toc_cell": false,
   "toc_position": {},
   "toc_section_display": true,
   "toc_window_display": false
  },
  "vscode": {
   "interpreter": {
    "hash": "31f2aee4e71d21fbe5cf8b01ff0e069b9275f58929596ceb00d14d90e3e16cd6"
   }
  }
 },
 "nbformat": 4,
 "nbformat_minor": 5
}
