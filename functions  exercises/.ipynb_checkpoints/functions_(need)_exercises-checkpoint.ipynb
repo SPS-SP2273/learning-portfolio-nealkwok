{
 "cells": [
  {
   "attachments": {},
   "cell_type": "markdown",
   "id": "123456",
   "metadata": {},
   "source": [
    "<div style=\"text-align:left;font-size:2em\"><span style=\"font-weight:bolder;font-size:1.25em\">SP2273 | Learning Portfolio</span><br><br><span style=\"font-weight:bold;color:darkred\">Functions (Need) Exercises</span></div>"
   ]
  },
  {
   "cell_type": "markdown",
   "id": "3d2a841c-3dec-4b9d-9a1d-c651205e865d",
   "metadata": {},
   "source": [
    "## Exercise 1 (Do you know why?) ☻"
   ]
  },
  {
   "cell_type": "markdown",
   "id": "2cc270b6-b44d-4959-a749-e60c3c80a4d8",
   "metadata": {},
   "source": [
    "The following code works as expected despite not having an `else` statement. Please use a Markdown cell to explain why?"
   ]
  },
  {
   "cell_type": "code",
   "execution_count": 6,
   "id": "1406c867-e4b1-4715-b2ad-5d3ac4230234",
   "metadata": {},
   "outputs": [
    {
     "name": "stdout",
     "output_type": "stream",
     "text": [
      "Hello Neal!\n"
     ]
    }
   ],
   "source": [
    "def greeting(name):\n",
    "    if name == 'Batman':\n",
    "        return 'Hello Batman! So, nice to meet you!'\n",
    "    return f'Hello {name}!'\n",
    "\n",
    "print(greeting('Neal'))"
   ]
  },
  {
   "cell_type": "markdown",
   "id": "542a5e79-e013-460a-b85e-0f8d68fad55c",
   "metadata": {},
   "source": [
    "The following works despite not having the `else` statement because after the `if` statement line, if we were to have a situation where name is *not* Batman, the code proceeds to the next line, where the `return` statement resolves the situation where name isn't Batman by giving the output \"Hello <u>(name)</u>!\" where the name is not Batman."
   ]
  },
  {
   "cell_type": "markdown",
   "id": "2740706c-1c31-4332-a0b8-13d53b798be1",
   "metadata": {},
   "source": [
    "## Exercise 2 (Chubby or not) ☻"
   ]
  },
  {
   "cell_type": "code",
   "execution_count": 44,
   "id": "186f90e5-df29-4a40-ace8-a8df3c4dff54",
   "metadata": {},
   "outputs": [
    {
     "name": "stdout",
     "output_type": "stream",
     "text": [
      "For your height of 1.75 m and weight of 70 kg, you have a BMI of 22.9 and are in the Normal weight category\n"
     ]
    }
   ],
   "source": [
    "def calculate_bmi(weight, height):\n",
    "    \n",
    "    bmi = weight / (height ** 2)\n",
    "\n",
    "    if bmi < 18.5:\n",
    "       return \"Underweight\"\n",
    "    elif bmi < 25:\n",
    "       return \"Normal weight\"\n",
    "    elif bmi < 30:\n",
    "       return \"Overweight\"\n",
    "    elif bmi >= 30:\n",
    "       return \"Obese\"\n",
    "\n",
    "category_bmi = calculate_bmi(weight, height)\n",
    "\n",
    "weight = 70\n",
    "height = 1.75\n",
    "bmi = round((weight / (height ** 2)), 1)\n",
    "\n",
    "print(f\"For your height of {height} m and weight of {weight} kg, you have a BMI of {bmi} and are in the {bmi_category} category\")\n"
   ]
  }
 ],
 "metadata": {
  "kernelspec": {
   "display_name": "Python 3 (ipykernel)",
   "language": "python",
   "name": "python3"
  },
  "language_info": {
   "codemirror_mode": {
    "name": "ipython",
    "version": 3
   },
   "file_extension": ".py",
   "mimetype": "text/x-python",
   "name": "python",
   "nbconvert_exporter": "python",
   "pygments_lexer": "ipython3",
   "version": "3.11.7"
  },
  "toc": {
   "base_numbering": 1,
   "nav_menu": {},
   "number_sections": true,
   "sideBar": true,
   "skip_h1_title": false,
   "title_cell": "Table of Contents",
   "title_sidebar": "Contents",
   "toc_cell": false,
   "toc_position": {},
   "toc_section_display": true,
   "toc_window_display": false
  },
  "vscode": {
   "interpreter": {
    "hash": "31f2aee4e71d21fbe5cf8b01ff0e069b9275f58929596ceb00d14d90e3e16cd6"
   }
  }
 },
 "nbformat": 4,
 "nbformat_minor": 5
}
