{
 "cells": [
  {
   "attachments": {},
   "cell_type": "markdown",
   "id": "123456",
   "metadata": {},
   "source": [
    "<div style=\"text-align:left;font-size:2em\"><span style=\"font-weight:bolder;font-size:1.25em\">SP2273 | Learning Portfolio</span><br><br><span style=\"font-weight:bold;color:darkred\">Functions (Good) Exercises</span></div>"
   ]
  },
  {
   "cell_type": "markdown",
   "id": "28bd7803-87e5-44bd-bc6b-cee1f2e0b036",
   "metadata": {},
   "source": [
    "## Exercise 1 (Celcius to Fahrenheit or Kelvin) ☻"
   ]
  },
  {
   "cell_type": "code",
   "execution_count": 38,
   "id": "a0b5d0fd-dc82-4496-853d-36b7bd0df061",
   "metadata": {},
   "outputs": [
    {
     "name": "stdout",
     "output_type": "stream",
     "text": [
      "50°C is equal to 122.0°F.\n",
      "50°C is equal to 323.15K.\n"
     ]
    }
   ],
   "source": [
    "def convert_celcius(temperature_celcius, target_scale = \"Fahrenheit\"):\n",
    "    if target_scale.lower() == \"fahrenheit\":\n",
    "            temperature = temperature_celcius * 9/5 + 32\n",
    "            print(f\"{temperature_celcius}°C is equal to {temperature}°F.\")\n",
    "    elif target_scale.lower() == \"kelvin\":\n",
    "            temperature = temperature_celcius + 273.15\n",
    "            print(f\"{temperature_celcius}°C is equal to {temperature}K.\")\n",
    "\n",
    "temperature_celcius = 50\n",
    "temperature_fahrenheit = convert_celcius(temperature_celcius, target_scale = \"fahrenheit\")\n",
    "temperature_kelvin = convert_celcius(temperature_celcius, target_scale = \"kelvin\")"
   ]
  },
  {
   "cell_type": "code",
   "execution_count": 34,
   "id": "fc9e4d6e-7172-4672-b4da-1faa6de7eb48",
   "metadata": {},
   "outputs": [
    {
     "name": "stdout",
     "output_type": "stream",
     "text": [
      "50°C is equal to 122.0°F.\n",
      "50°C is equal to 323.15K.\n"
     ]
    }
   ],
   "source": [
    "def convert_celcius(temperature_celcius, target_scale = \"Fahrenheit\"):\n",
    "\n",
    "  if target_scale.lower() == \"fahrenheit\":    #can proceed whether input is Fahrenheit or fahrenheit since input is converted to lowercase\n",
    "    return temperature_celcius * 9/5 + 32\n",
    "  elif target_scale.lower() == \"kelvin\":\n",
    "    return temperature_celcius + 273.15\n",
    "  else:\n",
    "    raise ValueError(f\"Invalid target_scale given: {target_scale}. Please input 'Fahrenheit' or 'Kelvin'.\")\n",
    "\n",
    "temperature_celcius = 50\n",
    "temperature_fahrenheit = convert_celcius(temperature_celcius, target_scale=\"fahrenheit\")\n",
    "\n",
    "print(f\"{temperature_celcius}°C is equal to {temperature_fahrenheit}°F.\")\n",
    "\n",
    "temperature_kelvin = convert_celcius(temperature_celcius, target_scale=\"kelvin\")\n",
    "print(f\"{temperature_celcius}°C is equal to {temperature_kelvin}K.\")"
   ]
  },
  {
   "cell_type": "markdown",
   "id": "ac6e63f0-d1e1-41e1-905c-2535dd60e821",
   "metadata": {},
   "source": [
    "## Exercise 2 (Fahrenheit to Celsius or Kelvin) ☻"
   ]
  },
  {
   "cell_type": "code",
   "execution_count": 35,
   "id": "4b5b447a-8aa0-418d-971c-3070db33e566",
   "metadata": {},
   "outputs": [
    {
     "name": "stdout",
     "output_type": "stream",
     "text": [
      "50°F is equal to 10.0°C.\n",
      "50°F is equal to 283.15K.\n"
     ]
    }
   ],
   "source": [
    "def convert_fahrenheit(temperature_fahrenheit, target_scale = \"Celcius\"):\n",
    "    if target_scale.lower() == \"celcius\":\n",
    "            temperature = (temperature_fahrenheit - 32) * 5 / 9\n",
    "            print(f\"{temperature_fahrenheit}°F is equal to {temperature}°C.\")\n",
    "    elif target_scale.lower() == \"kelvin\":\n",
    "            temperature = ((temperature_fahrenheit - 32) * 5 / 9) + 273.15\n",
    "            print(f\"{temperature_fahrenheit}°F is equal to {temperature}K.\")\n",
    "\n",
    "temperature_fahrenheit = 50\n",
    "temperature_celcius = convert_fahrenheit(temperature_fahrenheit, target_scale = \"celcius\")\n",
    "temperature_kelvin = convert_fahrenheit(temperature_fahrenheit, target_scale = \"kelvin\")"
   ]
  },
  {
   "cell_type": "markdown",
   "id": "662026f4-4de5-4b03-bde8-0784b58c006a",
   "metadata": {},
   "source": [
    "## Exercise 3 (General Temperature Conversion) ☻"
   ]
  },
  {
   "cell_type": "markdown",
   "id": "77095099-748e-4602-9664-6a658e610f97",
   "metadata": {},
   "source": [
    "**My failed attempt below**"
   ]
  },
  {
   "cell_type": "code",
   "execution_count": 5,
   "id": "f9e53a47-f7ab-401a-98e0-15bdad596a06",
   "metadata": {},
   "outputs": [
    {
     "name": "stdin",
     "output_type": "stream",
     "text": [
      "Please provide a numerical number for your desired temperature. 24\n",
      "Please choose from either Fahrenheit, Celcius or Kelvin to be applied to your numerical value of choice. celcius\n",
      "What unit would you like to convert your temperature to? kelvin\n"
     ]
    }
   ],
   "source": [
    "def convert_temperature(temperature, source_scale, target_scale):\n",
    "    if source_scale.lower() == \"celcius\" and target_scale.lower() == \"fahrenheit\":\n",
    "        print(f\"Your given temperature of {temperature} of unit {source_scale} is {temperature * 9 / 5 + 32}.\")\n",
    "    elif source_scale.lower() == \"celcius\" and target_scale.lower() == \"kelvin\":\n",
    "        print(f\"Your given temperature of {temperature} of unit {source_scale} is {temperature + 273.15}.\")\n",
    "    elif source_scale.lower() == \"fahrenheit\" and target_scale.lower() == \"celcius\":\n",
    "        print(f\"Your given temperature of {temperature} of unit {source_scale} is {(temperature - 32) * 5 / 9}.\")\n",
    "    elif source_scale.lower() == \"fahrenheit\" and target_scale.lower() == \"kelvin\":\n",
    "        print(f\"Your given temperature of {temperature} of unit {source_scale} is {(temperature - 32) * 5 / 9 + 273.15}.\") \n",
    "    elif source_scale.lower() == \"kelvin\" and target_scale.lower() == \"celcius\":\n",
    "        print(f\"Your given temperature of {temperature} of unit {source_scale} is {temperature - 273.15}\")\n",
    "    elif source_scale.lower() == \"kelvin\" and target_scale.lower() == \"fahrenheit\":\n",
    "        print(f\"Your given temperature of {temperature} of unit {source_scale} is {temperature - 273.15 * 9 / 5 + 32}.\")\n",
    "\n",
    "temperature = input(\"Please provide a numerical number for your desired temperature.\")\n",
    "source_scale = input(\"Please choose from either Fahrenheit, Celcius or Kelvin to be applied to your numerical value of choice.\")\n",
    "target_scale = input(\"What unit would you like to convert your temperature to?\")"
   ]
  },
  {
   "cell_type": "markdown",
   "id": "00cca58a-fcad-47b8-90c1-ceb7c54b8598",
   "metadata": {},
   "source": [
    "**Bards's answer**"
   ]
  },
  {
   "cell_type": "code",
   "execution_count": 7,
   "id": "8b0cff09-7a8a-4a73-bb9d-be43ba2cca81",
   "metadata": {},
   "outputs": [
    {
     "name": "stdin",
     "output_type": "stream",
     "text": [
      "Enter the temperature:  25\n",
      "Enter the source scale (Celsius, Fahrenheit, or Kelvin):  kelvin\n",
      "Enter the target scale (Celsius, Fahrenheit, or Kelvin):  fahrenheit\n"
     ]
    },
    {
     "name": "stdout",
     "output_type": "stream",
     "text": [
      "25.0k is equal to -228.15f.\n"
     ]
    }
   ],
   "source": [
    "def convert_temperature(temperature, source_scale, target_scale):\n",
    " \n",
    "  valid_scales = [\"celsius\", \"fahrenheit\", \"kelvin\"]\n",
    "  source_scale = source_scale.lower()\n",
    "  target_scale = target_scale.lower()\n",
    "\n",
    "  if source_scale not in valid_scales or target_scale not in valid_scales:\n",
    "    raise ValueError(f\"Invalid scale(s). Valid scales are: {', '.join(valid_scales)}.\")\n",
    "\n",
    "  if source_scale == target_scale:\n",
    "    return temperature\n",
    "\n",
    "  conversion_factors = {\n",
    "      \"celsius\": {\n",
    "          \"fahrenheit\": (9/5, 32),\n",
    "          \"kelvin\": (1, 273.15)\n",
    "      },\n",
    "      \"fahrenheit\": {\n",
    "          \"celsius\": (5/9, -32),\n",
    "          \"kelvin\": (5/9, 273.15)\n",
    "      },\n",
    "      \"kelvin\": {\n",
    "          \"celsius\": (-1, 273.15),\n",
    "          \"fahrenheit\": (9/5, -273.15)\n",
    "      }\n",
    "  }\n",
    "\n",
    "  factor1, factor2 = conversion_factors[source_scale][target_scale]\n",
    "  return temperature * factor1 + factor2\n",
    "\n",
    "# Get user input for temperature conversion\n",
    "while True:\n",
    "  try:\n",
    "    temperature_str = input(\"Enter the temperature: \")\n",
    "    temperature = float(temperature_str)\n",
    "    source_scale = input(\"Enter the source scale (Celsius, Fahrenheit, or Kelvin): \").lower()\n",
    "    target_scale = input(\"Enter the target scale (Celsius, Fahrenheit, or Kelvin): \").lower()\n",
    "\n",
    "    converted_temperature = convert_temperature(temperature, source_scale, target_scale)\n",
    "    print(f\"{temperature}{source_scale[0]} is equal to {converted_temperature:.2f}{target_scale[0]}.\")\n",
    "    break\n",
    "\n",
    "  except ValueError as e:\n",
    "    print(f\"Invalid input: {e}\")\n",
    "\n",
    "    if input(\"Do you want to try again? (yes/no): \").lower() != \"yes\":\n",
    "      break"
   ]
  }
 ],
 "metadata": {
  "kernelspec": {
   "display_name": "Python 3 (ipykernel)",
   "language": "python",
   "name": "python3"
  },
  "language_info": {
   "codemirror_mode": {
    "name": "ipython",
    "version": 3
   },
   "file_extension": ".py",
   "mimetype": "text/x-python",
   "name": "python",
   "nbconvert_exporter": "python",
   "pygments_lexer": "ipython3",
   "version": "3.11.7"
  },
  "toc": {
   "base_numbering": 1,
   "nav_menu": {},
   "number_sections": true,
   "sideBar": true,
   "skip_h1_title": false,
   "title_cell": "Table of Contents",
   "title_sidebar": "Contents",
   "toc_cell": false,
   "toc_position": {},
   "toc_section_display": true,
   "toc_window_display": false
  },
  "vscode": {
   "interpreter": {
    "hash": "31f2aee4e71d21fbe5cf8b01ff0e069b9275f58929596ceb00d14d90e3e16cd6"
   }
  }
 },
 "nbformat": 4,
 "nbformat_minor": 5
}
