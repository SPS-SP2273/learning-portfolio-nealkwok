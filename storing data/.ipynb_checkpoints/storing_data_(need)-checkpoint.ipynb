{
 "cells": [
  {
   "attachments": {},
   "cell_type": "markdown",
   "id": "123456",
   "metadata": {},
   "source": [
    "<div style=\"text-align:left;font-size:2em\"><span style=\"font-weight:bolder;font-size:1.25em\">SP2273 | Learning Portfolio</span><br><br><span style=\"font-weight:bold;color:darkred\">Storing Data (Need)</span></div>"
   ]
  },
  {
   "attachments": {},
   "cell_type": "markdown",
   "id": "4a21dd17",
   "metadata": {},
   "source": [
    "----------------------------------------------------\n",
    "# What to Expect in This Chapter\n",
    "----------------------------------------------------"
   ]
  },
  {
   "cell_type": "markdown",
   "id": "fc703246-eabe-4616-b2b6-76283bc2c76a",
   "metadata": {},
   "source": [
    "1. we need data/ info to **solve problems**/ **obtain solutions**\n",
    "1. hence, we need ways to store and manipulate data easily and efficiently\n",
    "1. some examples include:\n",
    "    - **Lists**\n",
    "    - **Numpy arrays**\n",
    "    - **Dictionaries**\n",
    "    - **Tuples**\n",
    "    - Dataframes\n",
    "    - Classes\n",
    "      \n",
    "Items in **bold** will be covered in this unit."
   ]
  },
  {
   "cell_type": "markdown",
   "id": "62497710-7d0c-49cf-8d4e-2b7a8cbc34ba",
   "metadata": {},
   "source": [
    "<div class=\"alert alert-block alert-danger\">\n",
    "<b>Important:</b> \n",
    "    <p>1. SUPER DUPER important it is for you to understand how to <b>store</b>, <b>retrieve</b> and <b>modify</b> data in programming. This is because these abstract structures will <b>influence how you think about data</b>. (For example, think of how easy it is to do row or column manipulations of data when put into a spreadsheet format.) This will ultimately aid (or hinder) your ability to conjure up algorithms to solve problems.</p>\n",
    "</div>"
   ]
  },
  {
   "attachments": {},
   "cell_type": "markdown",
   "id": "9b698d83",
   "metadata": {},
   "source": [
    "# 1 Lists, Arrays & Dictionaries"
   ]
  },
  {
   "attachments": {},
   "cell_type": "markdown",
   "id": "af377be9",
   "metadata": {},
   "source": [
    "## 1.1 Let’s compare"
   ]
  },
  {
   "cell_type": "markdown",
   "id": "9e129596-e9c3-4870-af8a-0bee6739038c",
   "metadata": {},
   "source": [
    "**python lists**"
   ]
  },
  {
   "cell_type": "markdown",
   "id": "de8f8067-e7e9-4125-b5cc-482bf150e3d8",
   "metadata": {},
   "source": [
    "`py_super_names = [\"Black Widow\", \"Iron Man\", \"Doctor Strange\"]`\n",
    "`py_real_names = [\"Natasha Romanoff\", \"Tony Stark\", \"Stephen Strange\"]`"
   ]
  },
  {
   "cell_type": "markdown",
   "id": "9bc57d24-fff6-44d8-9ab5-700f51939901",
   "metadata": {},
   "source": [
    "**numpy arrays:** \n",
    "- `py` and `np` added in front of the variable for clarity. You can choose any name for the variables (provided that they are not a Python keyword like `for`, `if`).\n",
    "- mentioning of 'arrays’ refers to ‘NumPy arrays’ and ‘lists’ refers to ‘Python lists’.\n"
   ]
  },
  {
   "cell_type": "code",
   "execution_count": 74,
   "id": "e3a97f32-57d9-44b9-bf93-d954ae77b59b",
   "metadata": {},
   "outputs": [],
   "source": [
    "import numpy as np"
   ]
  },
  {
   "cell_type": "markdown",
   "id": "5c650016-b7f8-48be-9811-2e24f01ef374",
   "metadata": {},
   "source": [
    "`np_super_names = np.array([\"Black Widow\", \"Iron Man\", \"Doctor Strange\"])`\\\n",
    "`np_real_names = np.array([\"Natasha Romanoff\", \"Tony Stark\", \"Stephen Strange\"])`"
   ]
  },
  {
   "cell_type": "markdown",
   "id": "9ee29ba9-eee9-4363-9d88-2fcda5d04282",
   "metadata": {},
   "source": [
    "**dictionary**:"
   ]
  },
  {
   "cell_type": "markdown",
   "id": "b935c9f9-3584-48b2-b75e-51f55b55fde6",
   "metadata": {},
   "source": [
    "```\n",
    "superhero_info = {\n",
    "    \"Natasha Romanoff\": \"Black Widow\",\n",
    "    \"Tony Stark\": \"Iron Man\",\n",
    "    \"Stephen Strange\": \"Doctor Strange\"\n",
    "}\n",
    "```"
   ]
  },
  {
   "cell_type": "markdown",
   "id": "d3773fcb-5bf7-4d62-b89a-03bd7baac6d2",
   "metadata": {},
   "source": [
    "**Notice**:\n",
    "Dictionaries use a key and an associated value separated by a `:`\n",
    "The dictionary very elegantly holds the real and superhero names in one structure while we need two lists (or arrays) for the same data.\n",
    "For lists and arrays, the order **matters**. I.e. `‘Iron Man’` must be in the same position as `‘Tony Stark’` for things to work.\n",
    "Lists (and arrays) offer many features that dictionaries *don’t* and vice versa. Choosing a data storage strategy depends on the problem you are trying to solve."
   ]
  },
  {
   "cell_type": "markdown",
   "id": "18e8c3f0-9a32-40ff-89d7-60a54c63fccf",
   "metadata": {},
   "source": [
    "<div class=\"alert alert-block alert-success\">\n",
    "<b>Remember:</b>\n",
    "<p>There are three basic ways of storing data:</p>\n",
    "    <ol type=\"1\">\n",
    "        <li>lists,</li>\n",
    "        <li>NumPy arrays and</li>\n",
    "        <li>dictionaries. </li>\n",
    "    </ol>  \n",
    "</div>"
   ]
  },
  {
   "attachments": {},
   "cell_type": "markdown",
   "id": "1f00d10f",
   "metadata": {},
   "source": [
    "## 1.2 Accessing data from a list (or array)"
   ]
  },
  {
   "cell_type": "markdown",
   "id": "96e62897-b56a-407d-8748-df64382d981a",
   "metadata": {},
   "source": [
    "To access data from lists (and arrays), we need to use an **index** corresponding to the data’s **position**. Python is a **zero-indexed language**, meaning it starts counting at **0**. So if you want to access a particular element in the list (or array), you need to specify the relevant index starting from zero. The image below shows the relationship between the position and index."
   ]
  },
  {
   "cell_type": "markdown",
   "id": "9c5595e8-f70d-4ebf-abc7-240a67023d40",
   "metadata": {},
   "source": [
    "![](https://phyweb.physics.nus.edu.sg/~chammika/sp2273/docs/python_basics/03_storing-data/python-zero-indexed-counting.png)"
   ]
  },
  {
   "cell_type": "markdown",
   "id": "48b9226a-f4df-4378-a2d0-0ff6fe3cb4b9",
   "metadata": {},
   "source": [
    "Using the following list:\n"
   ]
  },
  {
   "cell_type": "code",
   "execution_count": 75,
   "id": "31a2a838-4ccf-4326-aca3-7a9a5266481e",
   "metadata": {},
   "outputs": [],
   "source": [
    "py_super_names = [\"Black Widow\", \"Iron Man\", \"Doctor Strange\"]\n",
    "py_real_names = [\"Natasha Romanoff\", \"Tony Stark\", \"Stephen Strange\"]\n"
   ]
  },
  {
   "cell_type": "code",
   "execution_count": 76,
   "id": "b857d154-2b32-4dbc-8b36-8683c269f64f",
   "metadata": {},
   "outputs": [
    {
     "data": {
      "text/plain": [
       "'Natasha Romanoff'"
      ]
     },
     "execution_count": 76,
     "metadata": {},
     "output_type": "execute_result"
    }
   ],
   "source": [
    "py_real_names[0]"
   ]
  },
  {
   "cell_type": "code",
   "execution_count": 77,
   "id": "a2d9be6c-1313-4da7-9d29-f987dc522ba4",
   "metadata": {},
   "outputs": [
    {
     "data": {
      "text/plain": [
       "'Black Widow'"
      ]
     },
     "execution_count": 77,
     "metadata": {},
     "output_type": "execute_result"
    }
   ],
   "source": [
    "py_super_names[0]"
   ]
  },
  {
   "cell_type": "markdown",
   "id": "c0ca24fb-de6c-4f6e-aa31-5335edcb079a",
   "metadata": {},
   "source": [
    "Using a **negative index** allows us to count from the **back** of the list. For instance, using the index -1 will give the last element. This is super useful because we can easily access the last element **without knowing** the list size."
   ]
  },
  {
   "cell_type": "code",
   "execution_count": 78,
   "id": "fe31a5a8-e55c-43b6-8316-e061cca6f8ad",
   "metadata": {},
   "outputs": [
    {
     "data": {
      "text/plain": [
       "'Doctor Strange'"
      ]
     },
     "execution_count": 78,
     "metadata": {},
     "output_type": "execute_result"
    }
   ],
   "source": [
    "py_super_names[2]    # Forward indexing \n",
    "                     # We need to know the size \n",
    "                     # beforehand for this to work."
   ]
  },
  {
   "cell_type": "code",
   "execution_count": 79,
   "id": "b08e83e1-d2b2-468d-8f1a-289dee7a1dd7",
   "metadata": {},
   "outputs": [
    {
     "data": {
      "text/plain": [
       "'Doctor Strange'"
      ]
     },
     "execution_count": 79,
     "metadata": {},
     "output_type": "execute_result"
    }
   ],
   "source": [
    "py_super_names[-1]   # Reverse indexing"
   ]
  },
  {
   "cell_type": "markdown",
   "id": "8bea4e57-005e-4202-9021-0d83055d1231",
   "metadata": {},
   "source": [
    "<div class=\"alert alert-block alert-success\">\n",
    "<b>Remember:</b>\n",
    "<p>1. Data in lists (and arrays) must be accessed using a <b>zero-based index</b>.  </p>  \n",
    "</div>"
   ]
  },
  {
   "attachments": {},
   "cell_type": "markdown",
   "id": "587ab844",
   "metadata": {},
   "source": [
    "## 1.3 Accessing data from a dictionary"
   ]
  },
  {
   "cell_type": "markdown",
   "id": "f31d14bb-4559-4d52-a1b4-de619eff8b3d",
   "metadata": {},
   "source": [
    "Dictionaries hold **data** (values) paired with a **key**. i.e. you can **access the value** (in this case, the superhero name) using the real name as a **key**. "
   ]
  },
  {
   "cell_type": "code",
   "execution_count": 80,
   "id": "1d10677b-d960-40a6-aa79-bf46d264cfa8",
   "metadata": {},
   "outputs": [],
   "source": [
    "superhero_info = {\n",
    "    \"Natasha Romanoff\": \"Black Widow\",\n",
    "    \"Tony Stark\": \"Iron Man\",\n",
    "    \"Stephen Strange\": \"Doctor Strange\"\n",
    "}                  "
   ]
  },
  {
   "cell_type": "code",
   "execution_count": 81,
   "id": "4227ff7b-e8da-40bc-b03f-1f503424a738",
   "metadata": {},
   "outputs": [
    {
     "data": {
      "text/plain": [
       "'Black Widow'"
      ]
     },
     "execution_count": 81,
     "metadata": {},
     "output_type": "execute_result"
    }
   ],
   "source": [
    "superhero_info[\"Natasha Romanoff\"]"
   ]
  },
  {
   "cell_type": "markdown",
   "id": "37cb807c-7ebf-4117-99ac-f1c91407678c",
   "metadata": {},
   "source": [
    "<div class=\"alert alert-block alert-success\">\n",
    "<b>Remember:</b>\n",
    "<p>1. Dictionaries have a <b>key-value structure</b>. </p>  \n",
    "</div>"
   ]
  },
  {
   "cell_type": "markdown",
   "id": "369d66c6-89dd-41fe-9e89-23b7d5f67dc3",
   "metadata": {},
   "source": [
    "- to access **all** the keys and **all** the values..."
   ]
  },
  {
   "cell_type": "code",
   "execution_count": 82,
   "id": "6edd3b59-0b6f-42d3-b553-8468a3d4d545",
   "metadata": {},
   "outputs": [
    {
     "data": {
      "text/plain": [
       "dict_keys(['Natasha Romanoff', 'Tony Stark', 'Stephen Strange'])"
      ]
     },
     "execution_count": 82,
     "metadata": {},
     "output_type": "execute_result"
    }
   ],
   "source": [
    "superhero_info.keys()"
   ]
  },
  {
   "cell_type": "code",
   "execution_count": 83,
   "id": "b74da42d-0357-4ee6-ac33-3f1debbb6b3d",
   "metadata": {},
   "outputs": [
    {
     "data": {
      "text/plain": [
       "dict_values(['Black Widow', 'Iron Man', 'Doctor Strange'])"
      ]
     },
     "execution_count": 83,
     "metadata": {},
     "output_type": "execute_result"
    }
   ],
   "source": [
    "superhero_info.values()"
   ]
  },
  {
   "attachments": {},
   "cell_type": "markdown",
   "id": "78eed5f0",
   "metadata": {},
   "source": [
    "## 1.4 Higher dimensional lists"
   ]
  },
  {
   "cell_type": "markdown",
   "id": "c00a13ca-2e8d-405b-b4af-e41831df4da6",
   "metadata": {},
   "source": [
    "- Unlike with a dictionary, we needed two lists to store the corresponding real and superhero names\n",
    "- A way around the need to have two lists is to have a **2D list** (or array) as follows.\n"
   ]
  },
  {
   "cell_type": "code",
   "execution_count": 84,
   "id": "5776a259-a339-4979-a9aa-98bdaed46453",
   "metadata": {},
   "outputs": [],
   "source": [
    "py_superhero_info = [['Natasha Romanoff', 'Black Widow'],\n",
    "                     ['Tony Stark', 'Iron Man'],\n",
    "                     ['Stephen Strange', 'Doctor Strange']]"
   ]
  },
  {
   "attachments": {},
   "cell_type": "markdown",
   "id": "6e1dc7b4",
   "metadata": {},
   "source": [
    "# 2 Lists vs. Arrays"
   ]
  },
  {
   "cell_type": "markdown",
   "id": "991f6214-5eeb-4816-a308-7a029199a7d9",
   "metadata": {},
   "source": [
    "Lists and arrays have some similarities but more **differences**..."
   ]
  },
  {
   "attachments": {},
   "cell_type": "markdown",
   "id": "a809acdf",
   "metadata": {},
   "source": [
    "## 2.1 Size"
   ]
  },
  {
   "cell_type": "markdown",
   "id": "de894167-fd2a-4c68-b421-0a53ef2af6a5",
   "metadata": {},
   "source": [
    "Often, you need to know **how many** elements there are in lists or arrays. We can use the `len()` function for this purpose for both lists and arrays. However, arrays also offer other methods..."
   ]
  },
  {
   "cell_type": "code",
   "execution_count": 85,
   "id": "d81bef77-ce09-49ad-9dbe-3ce4fe5aa978",
   "metadata": {},
   "outputs": [],
   "source": [
    "py_list_2d = [[1, \"A\"], [2, \"B\"], [3, \"C\"], [4, \"D\"],\n",
    "              [5, \"E\"], [6, \"F\"], [7, \"G\"], [8, \"H\"],\n",
    "              [9, \"I\"], [10, \"J\"]]\n",
    "\n",
    "np_array_2d = np.array(py_list_2d)      # Reusing the Python list \n",
    "                                        # to create a NEW\n",
    "                                        # NumPy array"
   ]
  },
  {
   "cell_type": "markdown",
   "id": "9c34266d-7d37-4285-ac23-0feab50ade4f",
   "metadata": {},
   "source": [
    "**Lists**:"
   ]
  },
  {
   "cell_type": "code",
   "execution_count": 86,
   "id": "340e89c4-803e-4413-81cc-989effefc1c7",
   "metadata": {},
   "outputs": [
    {
     "data": {
      "text/plain": [
       "10"
      ]
     },
     "execution_count": 86,
     "metadata": {},
     "output_type": "execute_result"
    }
   ],
   "source": [
    "len(py_list_2d)"
   ]
  },
  {
   "cell_type": "markdown",
   "id": "26d53b08-f63d-449d-a7b8-24f1c5cab0f0",
   "metadata": {},
   "source": [
    "**Arrays**"
   ]
  },
  {
   "cell_type": "code",
   "execution_count": 87,
   "id": "4e9af9bf-fbe4-4f30-acdd-a4d90306543b",
   "metadata": {
    "scrolled": true
   },
   "outputs": [
    {
     "data": {
      "text/plain": [
       "10"
      ]
     },
     "execution_count": 87,
     "metadata": {},
     "output_type": "execute_result"
    }
   ],
   "source": [
    "len(np_array_2d)"
   ]
  },
  {
   "cell_type": "code",
   "execution_count": 88,
   "id": "5c8b97b7-6a72-4156-a6b9-40da1aaebc7a",
   "metadata": {},
   "outputs": [
    {
     "data": {
      "text/plain": [
       "(10, 2)"
      ]
     },
     "execution_count": 88,
     "metadata": {},
     "output_type": "execute_result"
    }
   ],
   "source": [
    "np_array_2d.shape"
   ]
  },
  {
   "cell_type": "markdown",
   "id": "e240d2ac-ec80-438b-bebe-80eca9f211a3",
   "metadata": {},
   "source": [
    "Notice the **absence** of brackets `( )` in shape above. This is because `shape` is **not** a `function`. Instead, it is a **property** or attribute of the NumPy array."
   ]
  },
  {
   "attachments": {},
   "cell_type": "markdown",
   "id": "73cc31b0",
   "metadata": {},
   "source": [
    "## 2.2 Arrays are fussy about type"
   ]
  },
  {
   "cell_type": "markdown",
   "id": "d0d10f96-89e5-4540-9b70-29de6056cd38",
   "metadata": {},
   "source": [
    "Please recall the previous discussion about data types (e.g., `int`, `float`, `str`). One prominent difference between lists and arrays is that arrays insist on having only a single data type; lists are more accommodating. Consider the following example and notice how the numbers are converted to English (`' '`) when we create the NumPy array."
   ]
  },
  {
   "cell_type": "code",
   "execution_count": 89,
   "id": "0cf5bf9f-089f-4a7a-92dc-6e109c506233",
   "metadata": {},
   "outputs": [],
   "source": [
    "py_list = [1, 1.5, 'A']\n",
    "np_array = np.array(py_list)"
   ]
  },
  {
   "cell_type": "markdown",
   "id": "2633891f-53b0-462b-9cc3-fbbde360e74e",
   "metadata": {},
   "source": [
    "**Lists**"
   ]
  },
  {
   "cell_type": "code",
   "execution_count": 90,
   "id": "aefdef72-51c5-4eb2-af1e-110581cec650",
   "metadata": {},
   "outputs": [
    {
     "data": {
      "text/plain": [
       "[1, 1.5, 'A']"
      ]
     },
     "execution_count": 90,
     "metadata": {},
     "output_type": "execute_result"
    }
   ],
   "source": [
    "py_list"
   ]
  },
  {
   "cell_type": "markdown",
   "id": "c2dc8908-96f5-45e3-bd02-43d154ecd41f",
   "metadata": {},
   "source": [
    "**Arrays**"
   ]
  },
  {
   "cell_type": "code",
   "execution_count": 91,
   "id": "8d7d8391-a63d-4598-809b-09444f6e8110",
   "metadata": {},
   "outputs": [
    {
     "data": {
      "text/plain": [
       "array(['1', '1.5', 'A'], dtype='<U32')"
      ]
     },
     "execution_count": 91,
     "metadata": {},
     "output_type": "execute_result"
    }
   ],
   "source": [
    "np_array"
   ]
  },
  {
   "cell_type": "markdown",
   "id": "136adeab-52ea-4176-b7f0-479159444665",
   "metadata": {},
   "source": [
    "When dealing with datasets with both numbers and text, you must be mindful of this restriction. However, this is just an annoyance and not a problem as we can easily change **type** (typecast) using the ‘hidden’ function `astypes()`. "
   ]
  },
  {
   "cell_type": "markdown",
   "id": "10212ceb-352c-413b-adff-8429f3a1a07c",
   "metadata": {},
   "source": [
    "<div class=\"alert alert-block alert-success\">\n",
    "<b>Remember:</b>\n",
    "<p>1. NumPy arrays tolerate only a single type.</p>  \n",
    "</div>"
   ]
  },
  {
   "attachments": {},
   "cell_type": "markdown",
   "id": "1dd7840d",
   "metadata": {},
   "source": [
    "## 2.3 Adding a number"
   ]
  },
  {
   "cell_type": "code",
   "execution_count": 2,
   "id": "bcf5fdba-7872-435a-aa43-cabad35092ca",
   "metadata": {},
   "outputs": [
    {
     "ename": "NameError",
     "evalue": "name 'np' is not defined",
     "output_type": "error",
     "traceback": [
      "\u001b[0;31m---------------------------------------------------------------------------\u001b[0m",
      "\u001b[0;31mNameError\u001b[0m                                 Traceback (most recent call last)",
      "Cell \u001b[0;32mIn[2], line 2\u001b[0m\n\u001b[1;32m      1\u001b[0m py_list \u001b[38;5;241m=\u001b[39m [\u001b[38;5;241m1\u001b[39m, \u001b[38;5;241m2\u001b[39m, \u001b[38;5;241m3\u001b[39m, \u001b[38;5;241m4\u001b[39m, \u001b[38;5;241m5\u001b[39m]\n\u001b[0;32m----> 2\u001b[0m np_array \u001b[38;5;241m=\u001b[39m \u001b[43mnp\u001b[49m\u001b[38;5;241m.\u001b[39marray(py_list)         \u001b[38;5;66;03m# Reusing the Python list\u001b[39;00m\n\u001b[1;32m      3\u001b[0m                                      \u001b[38;5;66;03m# to create a NEW\u001b[39;00m\n\u001b[1;32m      4\u001b[0m                                      \u001b[38;5;66;03m# NumPy array\u001b[39;00m\n",
      "\u001b[0;31mNameError\u001b[0m: name 'np' is not defined"
     ]
    }
   ],
   "source": [
    "py_list = [1, 2, 3, 4, 5]\n",
    "np_array = np.array(py_list)         # Reusing the Python list\n",
    "                                     # to create a NEW\n",
    "                                     # NumPy array"
   ]
  },
  {
   "cell_type": "markdown",
   "id": "83570ad9-037b-40e5-9f12-b1b94df24b11",
   "metadata": {},
   "source": [
    "**Lists**"
   ]
  },
  {
   "cell_type": "code",
   "execution_count": 3,
   "id": "aad6ded1-5f32-47e5-9d4f-d1723c673dcb",
   "metadata": {},
   "outputs": [
    {
     "ename": "TypeError",
     "evalue": "can only concatenate list (not \"int\") to list",
     "output_type": "error",
     "traceback": [
      "\u001b[0;31m---------------------------------------------------------------------------\u001b[0m",
      "\u001b[0;31mTypeError\u001b[0m                                 Traceback (most recent call last)",
      "Cell \u001b[0;32mIn[3], line 1\u001b[0m\n\u001b[0;32m----> 1\u001b[0m \u001b[43mpy_list\u001b[49m\u001b[43m \u001b[49m\u001b[38;5;241;43m+\u001b[39;49m\u001b[43m \u001b[49m\u001b[38;5;241;43m10\u001b[39;49m        \u001b[38;5;66;03m# Won't work!\u001b[39;00m\n",
      "\u001b[0;31mTypeError\u001b[0m: can only concatenate list (not \"int\") to list"
     ]
    }
   ],
   "source": [
    "py_list + 10        # Won't work!"
   ]
  },
  {
   "cell_type": "markdown",
   "id": "f1e18979-ce78-41c2-9e3f-5701bd4cbb4f",
   "metadata": {},
   "source": [
    "to add an integer to a list..."
   ]
  },
  {
   "cell_type": "code",
   "execution_count": 5,
   "id": "44a8a8e2-22e7-4af9-9a61-25ab05ad7b16",
   "metadata": {},
   "outputs": [
    {
     "name": "stdout",
     "output_type": "stream",
     "text": [
      "[11, 12, 13, 14, 15]\n"
     ]
    }
   ],
   "source": [
    "integer = 10                  #choose an integer number you want to add\n",
    "\n",
    "new_py_list = [x + integer for x in py_list]  #name your new list after addition of integer\n",
    " \n",
    "print(new_py_list)        #view results :\")"
   ]
  },
  {
   "cell_type": "markdown",
   "id": "9a81a2d4-c919-46fe-aa3d-e74845b05659",
   "metadata": {},
   "source": [
    "**Arrays**"
   ]
  },
  {
   "cell_type": "code",
   "execution_count": 94,
   "id": "cffdfe7e-6001-4643-ab1b-3e6249818503",
   "metadata": {},
   "outputs": [
    {
     "data": {
      "text/plain": [
       "array([11, 12, 13, 14, 15])"
      ]
     },
     "execution_count": 94,
     "metadata": {},
     "output_type": "execute_result"
    }
   ],
   "source": [
    "np_array + 10"
   ]
  },
  {
   "attachments": {},
   "cell_type": "markdown",
   "id": "35e6bf81",
   "metadata": {},
   "source": [
    "## 2.4 Adding another list"
   ]
  },
  {
   "cell_type": "code",
   "execution_count": 95,
   "id": "e104c206-7cb1-4480-a47b-56c5120c1443",
   "metadata": {},
   "outputs": [],
   "source": [
    "py_list_1 = [1, 2, 3, 4, 5]\n",
    "py_list_2 = [10, 20, 30, 40, 50]\n",
    "\n",
    "np_array_1 = np.array(py_list_1)\n",
    "np_array_2 = np.array(py_list_2)"
   ]
  },
  {
   "cell_type": "markdown",
   "id": "7e9e30ee-d57c-4467-8c28-82ce28bd23e3",
   "metadata": {},
   "source": [
    "**Lists**"
   ]
  },
  {
   "cell_type": "code",
   "execution_count": 96,
   "id": "627d405b-9fb7-495a-a119-57b4c3068d73",
   "metadata": {},
   "outputs": [
    {
     "data": {
      "text/plain": [
       "[1, 2, 3, 4, 5, 10, 20, 30, 40, 50]"
      ]
     },
     "execution_count": 96,
     "metadata": {},
     "output_type": "execute_result"
    }
   ],
   "source": [
    "py_list_1 + py_list_2           #literally adds on to the list in an insertional way (and sequential rather than mathematically)."
   ]
  },
  {
   "cell_type": "markdown",
   "id": "9ee4b58c-5ffa-4fd6-9546-340d174afd62",
   "metadata": {},
   "source": [
    "**Arrays**"
   ]
  },
  {
   "cell_type": "code",
   "execution_count": 97,
   "id": "fabcdad4-994a-479e-8106-eebae5da8272",
   "metadata": {},
   "outputs": [
    {
     "data": {
      "text/plain": [
       "array([11, 22, 33, 44, 55])"
      ]
     },
     "execution_count": 97,
     "metadata": {},
     "output_type": "execute_result"
    }
   ],
   "source": [
    "np_array_1 + np_array_2"
   ]
  },
  {
   "cell_type": "markdown",
   "id": "87aba830-5aa4-476c-8e03-e622ceebb751",
   "metadata": {},
   "source": [
    "- adding lists causes them to grow while adding arrays is an element-wise operation."
   ]
  },
  {
   "attachments": {},
   "cell_type": "markdown",
   "id": "5ec13923",
   "metadata": {},
   "source": [
    "## 2.5 Multiplying by a Number"
   ]
  },
  {
   "cell_type": "code",
   "execution_count": 98,
   "id": "b039cd12-94ef-4f11-8999-87c1406e7393",
   "metadata": {},
   "outputs": [],
   "source": [
    "py_list = [1, 2, 3, 4, 5]\n",
    "np_array = np.array(py_list)         "
   ]
  },
  {
   "cell_type": "markdown",
   "id": "fa601a35-8c87-4574-89e1-302efd245edc",
   "metadata": {},
   "source": [
    "**Lists**:"
   ]
  },
  {
   "cell_type": "code",
   "execution_count": 99,
   "id": "b2fe74cc-e64e-4566-98e8-8fb7af345321",
   "metadata": {},
   "outputs": [
    {
     "data": {
      "text/plain": [
       "[1, 2, 3, 4, 5, 1, 2, 3, 4, 5]"
      ]
     },
     "execution_count": 99,
     "metadata": {},
     "output_type": "execute_result"
    }
   ],
   "source": [
    "py_list*2"
   ]
  },
  {
   "cell_type": "markdown",
   "id": "ec398237-4602-4f16-8236-550f41c6f91a",
   "metadata": {},
   "source": [
    "**Arrays**:"
   ]
  },
  {
   "cell_type": "code",
   "execution_count": 100,
   "id": "8fa3bfc9-4816-4d2f-ab97-6f6779af6004",
   "metadata": {},
   "outputs": [
    {
     "data": {
      "text/plain": [
       "array([ 2,  4,  6,  8, 10])"
      ]
     },
     "execution_count": 100,
     "metadata": {},
     "output_type": "execute_result"
    }
   ],
   "source": [
    "np_array*2"
   ]
  },
  {
   "cell_type": "markdown",
   "id": "4ae3d528-7031-4347-b321-17aaa73e2998",
   "metadata": {},
   "source": [
    "multiplying by a number makes a list grow, whereas an array multiplies its elements by the number!"
   ]
  },
  {
   "attachments": {},
   "cell_type": "markdown",
   "id": "1455fa17",
   "metadata": {},
   "source": [
    "## 2.6 Squaring"
   ]
  },
  {
   "cell_type": "code",
   "execution_count": 6,
   "id": "6f89e9c8-0d43-4b4d-92fd-533cb889d100",
   "metadata": {},
   "outputs": [
    {
     "ename": "NameError",
     "evalue": "name 'np' is not defined",
     "output_type": "error",
     "traceback": [
      "\u001b[0;31m---------------------------------------------------------------------------\u001b[0m",
      "\u001b[0;31mNameError\u001b[0m                                 Traceback (most recent call last)",
      "Cell \u001b[0;32mIn[6], line 2\u001b[0m\n\u001b[1;32m      1\u001b[0m py_list \u001b[38;5;241m=\u001b[39m [\u001b[38;5;241m1\u001b[39m, \u001b[38;5;241m2\u001b[39m, \u001b[38;5;241m3\u001b[39m, \u001b[38;5;241m4\u001b[39m, \u001b[38;5;241m5\u001b[39m]\n\u001b[0;32m----> 2\u001b[0m np_array \u001b[38;5;241m=\u001b[39m \u001b[43mnp\u001b[49m\u001b[38;5;241m.\u001b[39marray(py_list)\n",
      "\u001b[0;31mNameError\u001b[0m: name 'np' is not defined"
     ]
    }
   ],
   "source": [
    "py_list = [1, 2, 3, 4, 5]\n",
    "np_array = np.array(py_list)"
   ]
  },
  {
   "cell_type": "markdown",
   "id": "739d0a9a-d15f-439e-b694-185e052138d6",
   "metadata": {},
   "source": [
    "**Lists**:"
   ]
  },
  {
   "cell_type": "code",
   "execution_count": 7,
   "id": "9f8cf9ed-fc25-4131-832c-d42685074fb1",
   "metadata": {},
   "outputs": [
    {
     "ename": "TypeError",
     "evalue": "unsupported operand type(s) for ** or pow(): 'list' and 'int'",
     "output_type": "error",
     "traceback": [
      "\u001b[0;31m---------------------------------------------------------------------------\u001b[0m",
      "\u001b[0;31mTypeError\u001b[0m                                 Traceback (most recent call last)",
      "Cell \u001b[0;32mIn[7], line 1\u001b[0m\n\u001b[0;32m----> 1\u001b[0m \u001b[43mpy_list\u001b[49m\u001b[38;5;241;43m*\u001b[39;49m\u001b[38;5;241;43m*\u001b[39;49m\u001b[38;5;241;43m2\u001b[39;49m                      \u001b[38;5;66;03m# Won't work!  \u001b[39;00m\n",
      "\u001b[0;31mTypeError\u001b[0m: unsupported operand type(s) for ** or pow(): 'list' and 'int'"
     ]
    }
   ],
   "source": [
    "py_list**2                      # Won't work!  "
   ]
  },
  {
   "cell_type": "markdown",
   "id": "f1ae4c6e-7006-4350-82c6-7997de8bf567",
   "metadata": {},
   "source": [
    "to square the numbers in a list..."
   ]
  },
  {
   "cell_type": "markdown",
   "id": "c06dd9ea-2d94-462c-a4b5-26948d9b94f8",
   "metadata": {},
   "source": [
    "- list comprehension method"
   ]
  },
  {
   "cell_type": "code",
   "execution_count": 8,
   "id": "8fec6e07-786a-43b4-b8da-8b7f627d5ea1",
   "metadata": {},
   "outputs": [
    {
     "name": "stdout",
     "output_type": "stream",
     "text": [
      "[1, 4, 9, 16, 25]\n"
     ]
    }
   ],
   "source": [
    "new_py_list = [n**2 for n in py_list]        \n",
    "print(new_py_list)\n"
   ]
  },
  {
   "cell_type": "markdown",
   "id": "8c42d7c2-87f0-43d5-964d-e68976504dfe",
   "metadata": {},
   "source": [
    "- for other methods, click [here](https://levelup.gitconnected.com/10-ways-to-square-a-list-of-numbers-in-python-b85f710a939b)."
   ]
  },
  {
   "cell_type": "markdown",
   "id": "c5ac9290-039d-49f3-bf2c-56c60b5dc67f",
   "metadata": {},
   "source": [
    "**Arrays**:"
   ]
  },
  {
   "cell_type": "code",
   "execution_count": 103,
   "id": "7567d264-ece0-4c5c-8fc8-8ea78285785d",
   "metadata": {},
   "outputs": [
    {
     "data": {
      "text/plain": [
       "array([ 1,  4,  9, 16, 25])"
      ]
     },
     "execution_count": 103,
     "metadata": {},
     "output_type": "execute_result"
    }
   ],
   "source": [
    "np_array**2"
   ]
  },
  {
   "attachments": {},
   "cell_type": "markdown",
   "id": "021c557a",
   "metadata": {},
   "source": [
    "## 2.7 Asking questions"
   ]
  },
  {
   "cell_type": "code",
   "execution_count": 104,
   "id": "e2008882-03fc-4c90-81ab-feccd08e880f",
   "metadata": {},
   "outputs": [],
   "source": [
    "py_list = [1, 2, 3, 4, 5]\n",
    "np_array = np.array(py_list)         "
   ]
  },
  {
   "cell_type": "markdown",
   "id": "0e7b9372-e32e-499d-8edb-5b445f2617ba",
   "metadata": {},
   "source": [
    "**Lists**"
   ]
  },
  {
   "cell_type": "markdown",
   "id": "524da074-57d0-4902-809d-60bc2c934ce8",
   "metadata": {},
   "source": [
    "Example 1:"
   ]
  },
  {
   "cell_type": "code",
   "execution_count": 106,
   "id": "b2267dc2-ad21-4a9c-91dd-b5986ace9a26",
   "metadata": {},
   "outputs": [
    {
     "data": {
      "text/plain": [
       "False"
      ]
     },
     "execution_count": 106,
     "metadata": {},
     "output_type": "execute_result"
    }
   ],
   "source": [
    "py_list == 3     # Works, but what IS the question?"
   ]
  },
  {
   "cell_type": "markdown",
   "id": "23b5b694-772c-454f-b720-96272a45ca3f",
   "metadata": {},
   "source": [
    "Example 2:"
   ]
  },
  {
   "cell_type": "code",
   "execution_count": 107,
   "id": "66ab8d5b-0905-4542-89d5-2b3d9aad0ca7",
   "metadata": {},
   "outputs": [
    {
     "ename": "TypeError",
     "evalue": "'>' not supported between instances of 'list' and 'int'",
     "output_type": "error",
     "traceback": [
      "\u001b[0;31m---------------------------------------------------------------------------\u001b[0m",
      "\u001b[0;31mTypeError\u001b[0m                                 Traceback (most recent call last)",
      "Cell \u001b[0;32mIn[107], line 1\u001b[0m\n\u001b[0;32m----> 1\u001b[0m \u001b[43mpy_list\u001b[49m\u001b[43m \u001b[49m\u001b[38;5;241;43m>\u001b[39;49m\u001b[43m \u001b[49m\u001b[38;5;241;43m3\u001b[39;49m      \u001b[38;5;66;03m# Won't work!\u001b[39;00m\n",
      "\u001b[0;31mTypeError\u001b[0m: '>' not supported between instances of 'list' and 'int'"
     ]
    }
   ],
   "source": [
    "py_list > 3      # Won't work!"
   ]
  },
  {
   "cell_type": "markdown",
   "id": "ec195bf4-1b60-4688-9002-c329755e6960",
   "metadata": {},
   "source": [
    "**Arrays**"
   ]
  },
  {
   "cell_type": "markdown",
   "id": "037629fc-12fe-4ace-a5d7-14faf5978dec",
   "metadata": {},
   "source": [
    "Example 3:"
   ]
  },
  {
   "cell_type": "code",
   "execution_count": 108,
   "id": "f107326c-c15d-4bce-ae80-859e2cb1dc89",
   "metadata": {},
   "outputs": [
    {
     "data": {
      "text/plain": [
       "array([False, False,  True, False, False])"
      ]
     },
     "execution_count": 108,
     "metadata": {},
     "output_type": "execute_result"
    }
   ],
   "source": [
    "np_array == 3  "
   ]
  },
  {
   "cell_type": "markdown",
   "id": "857a95e8-6265-4f1a-a51d-98210838846c",
   "metadata": {},
   "source": [
    "Example 4:"
   ]
  },
  {
   "cell_type": "code",
   "execution_count": 109,
   "id": "bc545cc8-17d7-478e-a053-bdb1b3335fae",
   "metadata": {},
   "outputs": [
    {
     "data": {
      "text/plain": [
       "array([False, False, False,  True,  True])"
      ]
     },
     "execution_count": 109,
     "metadata": {},
     "output_type": "execute_result"
    }
   ],
   "source": [
    "np_array > 3  "
   ]
  },
  {
   "attachments": {},
   "cell_type": "markdown",
   "id": "5faa1f1f",
   "metadata": {},
   "source": [
    "## 2.8 Mathematics"
   ]
  },
  {
   "cell_type": "code",
   "execution_count": 110,
   "id": "7d310660-5139-4ad5-a282-6b662fde6ed7",
   "metadata": {},
   "outputs": [],
   "source": [
    "py_list = [1, 2, 3, 4, 5]\n",
    "np_array = np.array(py_list)         "
   ]
  },
  {
   "cell_type": "markdown",
   "id": "7957366e-a402-46d7-bfc1-62b15e641d66",
   "metadata": {},
   "source": [
    "**Lists**:"
   ]
  },
  {
   "cell_type": "markdown",
   "id": "9e3af370-7967-473b-b83c-975ec763b1a5",
   "metadata": {},
   "source": [
    "Example 1:"
   ]
  },
  {
   "cell_type": "code",
   "execution_count": 111,
   "id": "eb66234e-a504-44b7-bfe9-b29f40c2742e",
   "metadata": {},
   "outputs": [
    {
     "data": {
      "text/plain": [
       "15"
      ]
     },
     "execution_count": 111,
     "metadata": {},
     "output_type": "execute_result"
    }
   ],
   "source": [
    "sum(py_list)     # sum() is a base Python function\n"
   ]
  },
  {
   "cell_type": "markdown",
   "id": "fcdd6972-af5b-44ce-bbc9-24e1d74dd460",
   "metadata": {},
   "source": [
    "Example 2:"
   ]
  },
  {
   "cell_type": "code",
   "execution_count": 112,
   "id": "50ea643a-7aa6-4e66-8e06-716e460a33d0",
   "metadata": {},
   "outputs": [
    {
     "data": {
      "text/plain": [
       "5"
      ]
     },
     "execution_count": 112,
     "metadata": {},
     "output_type": "execute_result"
    }
   ],
   "source": [
    "max(py_list)     # max() is a base Python function\n"
   ]
  },
  {
   "cell_type": "markdown",
   "id": "1773e7e5-2d1a-4a18-87ee-8c6c262f146a",
   "metadata": {},
   "source": [
    "Example 3:"
   ]
  },
  {
   "cell_type": "code",
   "execution_count": 113,
   "id": "b50ee9eb-6dad-4302-b5fd-7e1331dd4e75",
   "metadata": {},
   "outputs": [
    {
     "data": {
      "text/plain": [
       "1"
      ]
     },
     "execution_count": 113,
     "metadata": {},
     "output_type": "execute_result"
    }
   ],
   "source": [
    "min(py_list)     # min() is a base Python function\n"
   ]
  },
  {
   "cell_type": "markdown",
   "id": "0e5b4e85-7827-41aa-bdfc-129253acdcb9",
   "metadata": {},
   "source": [
    "Example 4:"
   ]
  },
  {
   "cell_type": "code",
   "execution_count": 68,
   "id": "bb00bf7b-3c54-45ea-be8c-b96ded2f9a57",
   "metadata": {},
   "outputs": [
    {
     "ename": "AttributeError",
     "evalue": "'list' object has no attribute 'sum'",
     "output_type": "error",
     "traceback": [
      "\u001b[0;31m---------------------------------------------------------------------------\u001b[0m",
      "\u001b[0;31mAttributeError\u001b[0m                            Traceback (most recent call last)",
      "Cell \u001b[0;32mIn[68], line 1\u001b[0m\n\u001b[0;32m----> 1\u001b[0m \u001b[43mpy_list\u001b[49m\u001b[38;5;241;43m.\u001b[39;49m\u001b[43msum\u001b[49m()   \u001b[38;5;66;03m# Won't work!\u001b[39;00m\n",
      "\u001b[0;31mAttributeError\u001b[0m: 'list' object has no attribute 'sum'"
     ]
    }
   ],
   "source": [
    "py_list.sum()   # Won't work!"
   ]
  },
  {
   "cell_type": "markdown",
   "id": "57a98895-a25f-4fe7-b9c0-7dbffb6a3a24",
   "metadata": {},
   "source": [
    "**Arrays**:"
   ]
  },
  {
   "cell_type": "markdown",
   "id": "bfd583fc-7124-4eb4-adc4-e6dffd0c9e56",
   "metadata": {},
   "source": [
    "Example 5:"
   ]
  },
  {
   "cell_type": "code",
   "execution_count": 70,
   "id": "0d51cd41-427e-4803-a361-e25be5d64f3b",
   "metadata": {},
   "outputs": [
    {
     "data": {
      "text/plain": [
       "15"
      ]
     },
     "execution_count": 70,
     "metadata": {},
     "output_type": "execute_result"
    }
   ],
   "source": [
    "np_array.sum()"
   ]
  },
  {
   "cell_type": "markdown",
   "id": "bac6b0e5-c596-4791-97ce-2dd43cf5854c",
   "metadata": {},
   "source": [
    "Example 6:"
   ]
  },
  {
   "cell_type": "code",
   "execution_count": 71,
   "id": "edd54cb2-2715-4b57-8b54-be93a3ba60d0",
   "metadata": {},
   "outputs": [
    {
     "data": {
      "text/plain": [
       "5"
      ]
     },
     "execution_count": 71,
     "metadata": {},
     "output_type": "execute_result"
    }
   ],
   "source": [
    "np_array.max()"
   ]
  },
  {
   "cell_type": "markdown",
   "id": "b61fcb19-f53f-4ff0-9d02-1e1fa18ce194",
   "metadata": {},
   "source": [
    "Example 7:"
   ]
  },
  {
   "cell_type": "code",
   "execution_count": 72,
   "id": "d93b8aaa-c202-4a9b-803d-50a587f506c8",
   "metadata": {},
   "outputs": [
    {
     "data": {
      "text/plain": [
       "1"
      ]
     },
     "execution_count": 72,
     "metadata": {},
     "output_type": "execute_result"
    }
   ],
   "source": [
    "np_array.min()"
   ]
  },
  {
   "cell_type": "markdown",
   "id": "53dbc9e0-bce8-426f-9724-ad56c9043df6",
   "metadata": {},
   "source": [
    "Example 8:"
   ]
  },
  {
   "cell_type": "code",
   "execution_count": 73,
   "id": "7c400a64-516e-467c-9f09-35513560e63c",
   "metadata": {},
   "outputs": [
    {
     "data": {
      "text/plain": [
       "3.0"
      ]
     },
     "execution_count": 73,
     "metadata": {},
     "output_type": "execute_result"
    }
   ],
   "source": [
    "np_array.mean()"
   ]
  },
  {
   "cell_type": "markdown",
   "id": "2a228cc5-bfe0-4cc4-91ff-e5dfa439dd4a",
   "metadata": {},
   "source": [
    "Example 9:"
   ]
  },
  {
   "cell_type": "code",
   "execution_count": null,
   "id": "cece63a1-7858-4ab5-9490-fe616a1ff13c",
   "metadata": {},
   "outputs": [],
   "source": [
    "np_array.std()"
   ]
  },
  {
   "cell_type": "markdown",
   "id": "a414c479-4fe5-447c-bdd7-3643d1d946f6",
   "metadata": {},
   "source": [
    "<div class=\"alert alert-block alert-success\">\n",
    "<b>Remember:</b>\n",
    "<p>1. (<b>roughly speaking</b>) an operation on a list works on the <b>whole</b> list. In contrast, an operation on an array works on the <b>individual elements </b> of the array.</p>  \n",
    "</div>"
   ]
  },
  {
   "attachments": {},
   "cell_type": "markdown",
   "id": "87160fec",
   "metadata": {},
   "source": [
    "# Exercises & Self-Assessment"
   ]
  },
  {
   "cell_type": "code",
   "execution_count": null,
   "id": "440a320d",
   "metadata": {},
   "outputs": [],
   "source": [
    "\n",
    "\n",
    "\n",
    "# Your solution here\n",
    "\n",
    "\n"
   ]
  },
  {
   "attachments": {},
   "cell_type": "markdown",
   "id": "9be91f15",
   "metadata": {},
   "source": [
    "## Footnotes"
   ]
  }
 ],
 "metadata": {
  "kernelspec": {
   "display_name": "Python 3 (ipykernel)",
   "language": "python",
   "name": "python3"
  },
  "language_info": {
   "codemirror_mode": {
    "name": "ipython",
    "version": 3
   },
   "file_extension": ".py",
   "mimetype": "text/x-python",
   "name": "python",
   "nbconvert_exporter": "python",
   "pygments_lexer": "ipython3",
   "version": "3.11.7"
  },
  "toc": {
   "base_numbering": 1,
   "nav_menu": {},
   "number_sections": true,
   "sideBar": true,
   "skip_h1_title": false,
   "title_cell": "Table of Contents",
   "title_sidebar": "Contents",
   "toc_cell": false,
   "toc_position": {},
   "toc_section_display": true,
   "toc_window_display": false
  },
  "vscode": {
   "interpreter": {
    "hash": "31f2aee4e71d21fbe5cf8b01ff0e069b9275f58929596ceb00d14d90e3e16cd6"
   }
  }
 },
 "nbformat": 4,
 "nbformat_minor": 5
}
