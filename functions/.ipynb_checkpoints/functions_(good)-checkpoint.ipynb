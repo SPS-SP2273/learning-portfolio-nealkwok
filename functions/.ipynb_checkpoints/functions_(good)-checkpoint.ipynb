{
 "cells": [
  {
   "attachments": {},
   "cell_type": "markdown",
   "id": "123456",
   "metadata": {},
   "source": [
    "<div style=\"text-align:left;font-size:2em\"><span style=\"font-weight:bolder;font-size:1.25em\">SP2273 | Learning Portfolio</span><br><br><span style=\"font-weight:bold;color:darkred\">Functions (Good)</span></div>"
   ]
  },
  {
   "attachments": {},
   "cell_type": "markdown",
   "id": "0fdc6b4f",
   "metadata": {},
   "source": [
    "# What to expect in this chapter"
   ]
  },
  {
   "cell_type": "markdown",
   "id": "a9ca02f2-5b5c-4f9e-bae8-39e5107d9891",
   "metadata": {},
   "source": [
    "- types of **arguments** and **docstrings**\n",
    "- exception handling --> dealing with errors\n",
    "- difference between **positional**, **keyword**, and **default arguments** of functions\n",
    "- write code that **checks and handles potential problems**."
   ]
  },
  {
   "attachments": {},
   "cell_type": "markdown",
   "id": "6d075058",
   "metadata": {},
   "source": [
    "# 1 Checks, balances, and contingencies"
   ]
  },
  {
   "cell_type": "markdown",
   "id": "7176a3ee-6b9b-4bb1-8ab2-81541a7ce453",
   "metadata": {},
   "source": [
    "- Users and programmers are not infallible, hence errors can occur. Having checks, balances, and contingencies in your code is a good idea.\n",
    "- pre-empting problems\n",
    "- two standard ways Python allows us to incorporate checks: `assert` and `try-except`"
   ]
  },
  {
   "attachments": {},
   "cell_type": "markdown",
   "id": "d6a7fd93",
   "metadata": {},
   "source": [
    "## 1.1 `assert`"
   ]
  },
  {
   "cell_type": "markdown",
   "id": "18fd1e22-bcdd-423e-aeed-6bb20c0d45dd",
   "metadata": {},
   "source": [
    "`assert`\n",
    ">1. can **check a condition** and **halt execution** if necessary\n",
    ">1. also gives the option of **printing a message**."
   ]
  },
  {
   "cell_type": "code",
   "execution_count": 5,
   "id": "41ecd62a-5eb1-4e5c-9bfe-bfbb4d916536",
   "metadata": {},
   "outputs": [
    {
     "ename": "NameError",
     "evalue": "name 'condition' is not defined",
     "output_type": "error",
     "traceback": [
      "\u001b[0;31m---------------------------------------------------------------------------\u001b[0m",
      "\u001b[0;31mNameError\u001b[0m                                 Traceback (most recent call last)",
      "Cell \u001b[0;32mIn[5], line 3\u001b[0m\n\u001b[1;32m      1\u001b[0m \u001b[38;5;66;03m#basic syntax\u001b[39;00m\n\u001b[0;32m----> 3\u001b[0m \u001b[38;5;28;01massert\u001b[39;00m \u001b[43mcondition\u001b[49m\u001b[38;5;241m-\u001b[39mto\u001b[38;5;241m-\u001b[39mcheck, message\n",
      "\u001b[0;31mNameError\u001b[0m: name 'condition' is not defined"
     ]
    }
   ],
   "source": [
    "#basic syntax\n",
    "\n",
    "assert condition-to-check, message"
   ]
  },
  {
   "cell_type": "markdown",
   "id": "745c8d1c-6bc9-4ea3-93ca-4f0625cf3543",
   "metadata": {},
   "source": [
    "`assert` stops the flow if the condition fails:"
   ]
  },
  {
   "cell_type": "code",
   "execution_count": 6,
   "id": "c638ca97-26eb-48ee-a9dd-dbea4ee8007f",
   "metadata": {},
   "outputs": [],
   "source": [
    "assert x >= 0, \"x is becoming negative!\""
   ]
  },
  {
   "cell_type": "markdown",
   "id": "740cea4e-06a0-40fd-9424-83ae414ea110",
   "metadata": {},
   "source": [
    "The program will run for as long as the condition is `True`. If it **fails**, then an `AssertationError` is raised, and the program **stops running**!"
   ]
  },
  {
   "cell_type": "markdown",
   "id": "19816141-f164-4bf9-96ba-4eb4567f4a0e",
   "metadata": {},
   "source": [
    "The following will run without a problem."
   ]
  },
  {
   "cell_type": "code",
   "execution_count": 7,
   "id": "a993bff9-52dd-42dd-ba8c-7d7c47a9cacd",
   "metadata": {},
   "outputs": [],
   "source": [
    "x = 10\n",
    "assert x >= 0, \"x is becoming negative!\""
   ]
  },
  {
   "cell_type": "markdown",
   "id": "bb7abb57-5755-4694-b47f-6cc399120121",
   "metadata": {},
   "source": [
    "The following will throw an error and **stop**"
   ]
  },
  {
   "cell_type": "code",
   "execution_count": 8,
   "id": "5c865cc2-d3f0-4f27-8593-4fc78c997748",
   "metadata": {},
   "outputs": [
    {
     "ename": "AssertionError",
     "evalue": "x is becoming negative!",
     "output_type": "error",
     "traceback": [
      "\u001b[0;31m---------------------------------------------------------------------------\u001b[0m",
      "\u001b[0;31mAssertionError\u001b[0m                            Traceback (most recent call last)",
      "Cell \u001b[0;32mIn[8], line 2\u001b[0m\n\u001b[1;32m      1\u001b[0m x \u001b[38;5;241m=\u001b[39m \u001b[38;5;241m-\u001b[39m\u001b[38;5;241m1\u001b[39m\n\u001b[0;32m----> 2\u001b[0m \u001b[38;5;28;01massert\u001b[39;00m x \u001b[38;5;241m>\u001b[39m\u001b[38;5;241m=\u001b[39m \u001b[38;5;241m0\u001b[39m, \u001b[38;5;124m\"\u001b[39m\u001b[38;5;124mx is becoming negative!\u001b[39m\u001b[38;5;124m\"\u001b[39m\n",
      "\u001b[0;31mAssertionError\u001b[0m: x is becoming negative!"
     ]
    }
   ],
   "source": [
    "x = -1\n",
    "assert x >= 0, \"x is becoming negative!\""
   ]
  },
  {
   "attachments": {},
   "cell_type": "markdown",
   "id": "7249c787",
   "metadata": {},
   "source": [
    "## 1.2 `try-except`"
   ]
  },
  {
   "cell_type": "markdown",
   "id": "f4602295-ef20-48ca-9f46-2a7c789b255b",
   "metadata": {},
   "source": [
    "A technical name for things going wrong is <h>exceptions</h>. For example, division by zero will raise a `ZeroDivisionError`. An exception left **unhandled** will **halt** the flow of the programme. However, if you are a control freak, Python offers an (absurdly) simple ‘`try-except`’ structure to **catch and handle** these exceptions yourself.\n",
    "\n",
    "The `try-except` syntax can also ensure that your programme can handle some situations beyond your control. For example, when I use Python to speak to the Canvas server, I use `try-except` to handle situations when the server does not respond.\n",
    "\n",
    "Let me show you how to use the `try-except` flow control statement.\n",
    "\n",
    "We can solicit a user response using the `input()` function. Let’s say we do this and ask for a number, as shown in the snippet below."
   ]
  },
  {
   "cell_type": "code",
   "execution_count": 10,
   "id": "0a0d8717-d029-4d8c-8060-d7ec3859bf73",
   "metadata": {},
   "outputs": [
    {
     "name": "stdin",
     "output_type": "stream",
     "text": [
      "Give me a number and I will calculate its square. 3\n"
     ]
    },
    {
     "name": "stdout",
     "output_type": "stream",
     "text": [
      "The square of 3 is 9!\n"
     ]
    }
   ],
   "source": [
    "number=input(\"Give me a number and I will calculate its square.\")\n",
    "square=int(number)**2              # Convert English to number\n",
    "print(f'The square of {number} is {square}!')"
   ]
  },
  {
   "cell_type": "markdown",
   "id": "dfe94d15-4bd3-429d-86e2-171d1fcd14c4",
   "metadata": {},
   "source": [
    "This will work fine if the typecasting `int(number)` makes sense. What if the input is not a number but something else like ‘hahaha’?\n",
    "\n",
    "Let’s use the `try-except` to get around this problem."
   ]
  },
  {
   "cell_type": "code",
   "execution_count": null,
   "id": "92fa2a4f-78a3-47cb-b652-492b5d08f049",
   "metadata": {},
   "outputs": [],
   "source": [
    "try:\n",
    "    number=input(\"Give me a number and I will calculate its square.\")\n",
    "    square=int(number)**2\n",
    "    print(f'The square of {number} is {square}!')\n",
    "except:\n",
    "    print(f\"Oh oh! I cannot square {number}!\")"
   ]
  },
  {
   "cell_type": "markdown",
   "id": "f669235d-30d6-4755-b192-1498c8dbf2d9",
   "metadata": {},
   "source": [
    "Notice how I have enclosed (and protected) that part of the code that we think can potentially lead to trouble in the `try` block. If something (anything) goes wrong, Python will ignore the error and run the code in the `except` block.\n",
    "\n",
    "You can have more control over how the expetions are handled with a `try-except` block. However, we do not have to worry about that at this point."
   ]
  },
  {
   "attachments": {},
   "cell_type": "markdown",
   "id": "8276c0c7",
   "metadata": {},
   "source": [
    "## 1.3 A simple suggestion"
   ]
  },
  {
   "cell_type": "markdown",
   "id": "021a4560-ee08-4ee4-849c-03e6b740369f",
   "metadata": {},
   "source": [
    "When starting out with some code, it is always good for your code to signal to the outside world that it has finished certain milestones. A ‘soft’ way to do this is to include ‘`print()`’ statements here and there to let the outside world know what is happening in the innards of your program. Otherwise, you will stare at a blank cell, wondering what is happening."
   ]
  },
  {
   "attachments": {},
   "cell_type": "markdown",
   "id": "4024cf94",
   "metadata": {},
   "source": [
    "# 2 Some loose ends"
   ]
  },
  {
   "attachments": {},
   "cell_type": "markdown",
   "id": "3f1c646b",
   "metadata": {},
   "source": [
    "## 2.1 Positional, keyword and default arguments"
   ]
  },
  {
   "cell_type": "markdown",
   "id": "a7baf4ee-95b7-4199-99bc-65742d5dbf56",
   "metadata": {},
   "source": [
    "In the past chapter, some of you may have noticed that I was (carelessly) switching between passing two styles of passing arguments to the function `greeting()`. I wrote `greeting('Super Man')` or `greeting(name='Super Man')`. We need to talk a bit more about this so that you are not bewildered when you see other people’s code.\n",
    "\n",
    "There are three ‘ways’ to pass a value to an argument. I will call them **positional**, **keyword** or **default**. To make this clearer, consider the following function."
   ]
  },
  {
   "cell_type": "code",
   "execution_count": 11,
   "id": "feba3879-e41d-4af4-a94b-d2ad7f4b3950",
   "metadata": {},
   "outputs": [],
   "source": [
    "def side_by_side(a, b, c=42):\n",
    "    return f'{a: 2d}|{b: 2d}|{c: 2d}'"
   ]
  },
  {
   "cell_type": "markdown",
   "id": "3e297a83-e4f3-410d-8f05-bc72ce80bad9",
   "metadata": {},
   "source": [
    "Here are three ways I can use this function:"
   ]
  },
  {
   "cell_type": "markdown",
   "id": "41baa21b-3577-496a-b2c2-6aca53c0558a",
   "metadata": {},
   "source": [
    "**Positional**\n",
    "Here, I am telling Python to assign `1, 2, 3` to `a, b, c` using the positional order of the arguments."
   ]
  },
  {
   "cell_type": "code",
   "execution_count": 12,
   "id": "4dfa868a-83e9-458b-8a1d-95bf71269254",
   "metadata": {},
   "outputs": [
    {
     "data": {
      "text/plain": [
       "' 1| 2| 3'"
      ]
     },
     "execution_count": 12,
     "metadata": {},
     "output_type": "execute_result"
    }
   ],
   "source": [
    "side_by_side(1, 2, 3)"
   ]
  },
  {
   "cell_type": "markdown",
   "id": "1b614b4e-a8ef-45b6-8553-f5294225367a",
   "metadata": {},
   "source": [
    "**Keywords**\n",
    "Here, I explicitly specify the keyword to assign the values to each of `a, b, c`. (No, the order does NOT matter)"
   ]
  },
  {
   "cell_type": "code",
   "execution_count": 13,
   "id": "6f646a75-ebc4-42d1-8a05-6c426b3dde21",
   "metadata": {},
   "outputs": [
    {
     "data": {
      "text/plain": [
       "' 2| 1| 3'"
      ]
     },
     "execution_count": 13,
     "metadata": {},
     "output_type": "execute_result"
    }
   ],
   "source": [
    "side_by_side(c=3, b=1, a=2)"
   ]
  },
  {
   "cell_type": "markdown",
   "id": "f163b825-e3ac-4017-be58-c2148f721f43",
   "metadata": {},
   "source": [
    "**Default**\n",
    "Here, since `c` is optional, I can choose not to specify it (of course, provided I want `c` to be `1`)."
   ]
  },
  {
   "cell_type": "markdown",
   "id": "2cc2522c-187b-40b9-9f20-f305bf63db4f",
   "metadata": {},
   "source": [
    "Below are some examples of how you can combine these three styles. However, one style (keyword followed by positional) confuses Python and won’t work."
   ]
  },
  {
   "cell_type": "code",
   "execution_count": 14,
   "id": "b9219d7f-0343-43c9-8ff3-bcd8972373f9",
   "metadata": {},
   "outputs": [
    {
     "data": {
      "text/plain": [
       "' 1| 2| 42'"
      ]
     },
     "execution_count": 14,
     "metadata": {},
     "output_type": "execute_result"
    }
   ],
   "source": [
    "side_by_side(1, 2)           # Two positional, 1 default\n",
    "## ' 1| 2| 42'\n",
    "side_by_side(1, 2, 3)        # Three positional\n",
    "## ' 1| 2| 3'\n",
    "side_by_side(a=1, b=2)       # Two keyword, 1 default\n",
    "## ' 1| 2| 42'\n",
    "side_by_side(c=3, b=1, a=2)  # Three keyword\n",
    "## ' 2| 1| 3'\n",
    "side_by_side(1, c=3, b=2)    # One positional, 2 keyword\n",
    "## ' 1| 2| 3'\n",
    "side_by_side(1, b=2)         # One positional, 1 keyword, 1 default\n",
    "## ' 1| 2| 42'"
   ]
  },
  {
   "cell_type": "markdown",
   "id": "4feecce1-2a9e-49a6-8558-8e63103e57b1",
   "metadata": {},
   "source": [
    "Let me reiterate that the following will **not** work because Python cannot unambiguously determine the position of `1`?"
   ]
  },
  {
   "cell_type": "code",
   "execution_count": 15,
   "id": "8ecbe637-6973-46e1-8067-5ac8ece52882",
   "metadata": {},
   "outputs": [
    {
     "ename": "SyntaxError",
     "evalue": "positional argument follows keyword argument (3855048630.py, line 3)",
     "output_type": "error",
     "traceback": [
      "\u001b[0;36m  Cell \u001b[0;32mIn[15], line 3\u001b[0;36m\u001b[0m\n\u001b[0;31m    side_by_side(a=2, 1)      # Won't work.\u001b[0m\n\u001b[0m                       ^\u001b[0m\n\u001b[0;31mSyntaxError\u001b[0m\u001b[0;31m:\u001b[0m positional argument follows keyword argument\n"
     ]
    }
   ],
   "source": [
    "# Keywords cannot be followed \n",
    "# by positional arguments\n",
    "side_by_side(a=2, 1)      # Won't work.                          "
   ]
  },
  {
   "attachments": {},
   "cell_type": "markdown",
   "id": "89c17b78",
   "metadata": {},
   "source": [
    "## 2.2 Docstrings"
   ]
  },
  {
   "cell_type": "markdown",
   "id": "515b9bdb-378a-41f5-8788-89549d0c67d0",
   "metadata": {},
   "source": [
    "Python has a `docstring` feature that allows us to document what a function does inside the function. This documentation (i.e., the docstring) is displayed when we ask Python to show us the help info using `help()`.\n",
    "\n",
    "Here is a simple example."
   ]
  },
  {
   "cell_type": "code",
   "execution_count": 16,
   "id": "3e0bb403-1f0a-4223-bbdc-8704bcfba64b",
   "metadata": {},
   "outputs": [],
   "source": [
    "def side_by_side(a, b, c=42):\n",
    "    '''\n",
    "    A test function to demonstrate how \n",
    "    positional, keyword and default arguments \n",
    "    work.\n",
    "    '''\n",
    "    return f'{a: 2d}|{b: 2d}|{c: 2d}'"
   ]
  },
  {
   "cell_type": "markdown",
   "id": "9e6fb310-7d94-4cc6-ad51-cb9f2886b979",
   "metadata": {},
   "source": [
    "A docstring needs to be sandwiched between a pair of ''' (or \"\"\") and can span multiple lines.\n",
    "\n",
    "Let’s see if it works by asking for help."
   ]
  },
  {
   "cell_type": "code",
   "execution_count": 17,
   "id": "069671ff-f576-459e-97b2-a8bbdc4c05ef",
   "metadata": {},
   "outputs": [
    {
     "name": "stdout",
     "output_type": "stream",
     "text": [
      "Help on function side_by_side in module __main__:\n",
      "\n",
      "side_by_side(a, b, c=42)\n",
      "    A test function to demonstrate how \n",
      "    positional, keyword and default arguments \n",
      "    work.\n",
      "\n"
     ]
    }
   ],
   "source": [
    "help(side_by_side)"
   ]
  },
  {
   "cell_type": "markdown",
   "id": "6a7a087a-8d40-497d-b453-9304b145c4fb",
   "metadata": {},
   "source": [
    "Docstrings can be used for writing multiline comments, but the practice is frowned upon by Puritans; so if you misuse it be ready for their ire!"
   ]
  },
  {
   "attachments": {},
   "cell_type": "markdown",
   "id": "0478d6ed",
   "metadata": {},
   "source": [
    "## 2.3 Function are first-class citizens"
   ]
  },
  {
   "cell_type": "markdown",
   "id": "9866842d-964e-464f-93da-2ee295c41ccb",
   "metadata": {},
   "source": [
    "Python functions are called first-class citizens because they have the same privileges as variables. This opens up useful possibilities for scientific programming because we can **pass a function as an argument to another function**!\n",
    "\n",
    "Consider this:"
   ]
  },
  {
   "cell_type": "code",
   "execution_count": 27,
   "id": "6593c0fd-f106-43c9-be42-461e285c34e6",
   "metadata": {},
   "outputs": [
    {
     "data": {
      "text/plain": [
       "-1.0"
      ]
     },
     "execution_count": 27,
     "metadata": {},
     "output_type": "execute_result"
    }
   ],
   "source": [
    "import numpy as np\n",
    "\n",
    "def my_function(angle, trig_function):\n",
    "        return trig_function(angle)\n",
    "\n",
    "# Let's use the function\n",
    "my_function(np.pi/2, np.sin)        \n",
    "## 1.0\n",
    "my_function(np.pi/2, np.cos)        \n",
    "## 6.123233995736766e-17\n",
    "my_function(np.pi/2, lambda x: np.cos(2*x))  \n",
    "## -1.0"
   ]
  },
  {
   "cell_type": "markdown",
   "id": "859dd935-4b9b-49f1-a0fb-1842fc898e21",
   "metadata": {},
   "source": [
    "**Note**: When we pass a function as an argument, we do **not** include the parenthesis ()"
   ]
  },
  {
   "attachments": {},
   "cell_type": "markdown",
   "id": "8772ce97",
   "metadata": {},
   "source": [
    "## 2.4 More about unpacking"
   ]
  },
  {
   "cell_type": "markdown",
   "id": "2c52c8f7-64af-4654-a174-ab60367ac0cf",
   "metadata": {},
   "source": [
    "There is more to unpacking. For example, unpacking can make extracting information from lists and arrays a breeze. Here are some examples."
   ]
  },
  {
   "cell_type": "code",
   "execution_count": 19,
   "id": "6a7ffc82-95b8-4b33-8653-849b9a57f39b",
   "metadata": {},
   "outputs": [
    {
     "data": {
      "text/plain": [
       "(1, 2, 3)"
      ]
     },
     "execution_count": 19,
     "metadata": {},
     "output_type": "execute_result"
    }
   ],
   "source": [
    "#Example 1\n",
    "x, y, z = [1, 2, 3]\n",
    "x, y, z"
   ]
  },
  {
   "cell_type": "code",
   "execution_count": 24,
   "id": "16934924-30a6-4069-aa9c-b056e98b59b9",
   "metadata": {},
   "outputs": [
    {
     "data": {
      "text/plain": [
       "(1, 2, 3)"
      ]
     },
     "execution_count": 24,
     "metadata": {},
     "output_type": "execute_result"
    }
   ],
   "source": [
    "#Example 2 \n",
    "x, y, z = np.array([1, 2, 3])\n",
    "x, y, z"
   ]
  },
  {
   "cell_type": "code",
   "execution_count": 25,
   "id": "c2073213-1785-4360-a566-939d79bd4e23",
   "metadata": {},
   "outputs": [
    {
     "data": {
      "text/plain": [
       "(1, [2, 3, 4], 5)"
      ]
     },
     "execution_count": 25,
     "metadata": {},
     "output_type": "execute_result"
    }
   ],
   "source": [
    "#Example 3 \n",
    "x, *y, z = np.array([1, 2, 3, 4, 5])\n",
    "x, y, z"
   ]
  },
  {
   "cell_type": "code",
   "execution_count": 26,
   "id": "03de4ed4-dd21-4a0d-a394-cf432f41b707",
   "metadata": {},
   "outputs": [
    {
     "data": {
      "text/plain": [
       "(1, 5)"
      ]
     },
     "execution_count": 26,
     "metadata": {},
     "output_type": "execute_result"
    }
   ],
   "source": [
    "#Example 4\n",
    "x, *_, y = [1, 2, 3, 4, 5]\n",
    "x, y"
   ]
  }
 ],
 "metadata": {
  "kernelspec": {
   "display_name": "Python 3 (ipykernel)",
   "language": "python",
   "name": "python3"
  },
  "language_info": {
   "codemirror_mode": {
    "name": "ipython",
    "version": 3
   },
   "file_extension": ".py",
   "mimetype": "text/x-python",
   "name": "python",
   "nbconvert_exporter": "python",
   "pygments_lexer": "ipython3",
   "version": "3.11.7"
  },
  "toc": {
   "base_numbering": 1,
   "nav_menu": {},
   "number_sections": true,
   "sideBar": true,
   "skip_h1_title": false,
   "title_cell": "Table of Contents",
   "title_sidebar": "Contents",
   "toc_cell": false,
   "toc_position": {},
   "toc_section_display": true,
   "toc_window_display": false
  },
  "vscode": {
   "interpreter": {
    "hash": "31f2aee4e71d21fbe5cf8b01ff0e069b9275f58929596ceb00d14d90e3e16cd6"
   }
  }
 },
 "nbformat": 4,
 "nbformat_minor": 5
}
