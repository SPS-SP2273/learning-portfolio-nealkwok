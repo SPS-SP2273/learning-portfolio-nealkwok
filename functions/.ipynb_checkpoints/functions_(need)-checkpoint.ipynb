{
 "cells": [
  {
   "attachments": {},
   "cell_type": "markdown",
   "id": "123456",
   "metadata": {},
   "source": [
    "<div style=\"text-align:left;font-size:2em\"><span style=\"font-weight:bolder;font-size:1.25em\">SP2273 | Learning Portfolio</span><br><br><span style=\"font-weight:bold;color:darkred\">Functions (Need)</span></div>"
   ]
  },
  {
   "attachments": {},
   "cell_type": "markdown",
   "id": "1d0268f0",
   "metadata": {},
   "source": [
    "# What to expect in this chapter"
   ]
  },
  {
   "attachments": {},
   "cell_type": "markdown",
   "id": "04c04d81",
   "metadata": {},
   "source": [
    "# 1 User-defined functions"
   ]
  },
  {
   "cell_type": "markdown",
   "id": "7f37cdc5-b35f-41db-a6cb-6cf2c02a9f70",
   "metadata": {},
   "source": [
    "- you can craft your own functions\n",
    "- modularity of functions prompts us to think of solutions about modular solutions to problems"
   ]
  },
  {
   "attachments": {},
   "cell_type": "markdown",
   "id": "b6f4ab4c",
   "metadata": {},
   "source": [
    "## 1.1 Named Functions"
   ]
  },
  {
   "cell_type": "markdown",
   "id": "eab2f230-77f2-445a-bee3-c8ed7b459883",
   "metadata": {},
   "source": [
    "`print()` is an example of an **internal** function in Python. You can also create your **own** functions. There are two ways to do this: **named** and **anonymous**."
   ]
  },
  {
   "attachments": {},
   "cell_type": "markdown",
   "id": "d7248cdb",
   "metadata": {},
   "source": [
    "### Named functions that return"
   ]
  },
  {
   "cell_type": "markdown",
   "id": "b3b749c7-6de0-4546-a633-916a7c319f08",
   "metadata": {},
   "source": [
    "- `def`"
   ]
  },
  {
   "cell_type": "code",
   "execution_count": 11,
   "id": "251c93d7",
   "metadata": {},
   "outputs": [],
   "source": [
    "def greeting(name):              \n",
    "    if name == 'Batman':\n",
    "        return 'Hello Batman! So, nice to meet you!'\n",
    "    else:\n",
    "        return f'Hello {name}!'"
   ]
  },
  {
   "cell_type": "markdown",
   "id": "67b7c3f2-45d7-4230-835d-b841db61cd39",
   "metadata": {},
   "source": [
    "- function’s name is \"greeting\"\n",
    "- accepts a single argument called \"name\"\n",
    "- We can then use the function as `greeting(\"Super Man\")` or `greeting(name=\"Super Man\")`"
   ]
  },
  {
   "cell_type": "markdown",
   "id": "37c93389-a8ec-465d-9bec-6704883dfe6a",
   "metadata": {},
   "source": [
    "As with all structures in Python, notice the keyword `def`, the colon (`:`) and the **indentation** that demarcates the function’s code block. Notice the keyword `return` to get an **output** from the function. When Python sees a `return` keyword it **jumps out** of the function with the `return` **value**. You can pick up the returned value by **assigning it to a variable** or even use it **directly** like:"
   ]
  },
  {
   "cell_type": "code",
   "execution_count": 12,
   "id": "1d7f76e0-678a-4229-9186-205f7224b61f",
   "metadata": {},
   "outputs": [
    {
     "name": "stdout",
     "output_type": "stream",
     "text": [
      "Hello Super Man!\n"
     ]
    }
   ],
   "source": [
    "greet=greeting(name='Super Man')\n",
    "print(greet)"
   ]
  },
  {
   "cell_type": "code",
   "execution_count": 13,
   "id": "c2400fba-ab99-44b3-85e4-001964160b15",
   "metadata": {},
   "outputs": [
    {
     "name": "stdout",
     "output_type": "stream",
     "text": [
      "Hello Super Man!\n"
     ]
    }
   ],
   "source": [
    "print(greeting(name='Super Man'))"
   ]
  },
  {
   "cell_type": "markdown",
   "id": "d3a9bf47-731a-4358-8507-3bd0c608aa85",
   "metadata": {},
   "source": [
    "Incidentally, you can use `return` only **within** a function.\n",
    "\n",
    "I also like to point out that you can return **almost anything**! Here is an example of a function that accepts a list and returns the maximum, minimum and mean."
   ]
  },
  {
   "cell_type": "code",
   "execution_count": 14,
   "id": "ee8ac9eb-971b-4e8f-81df-519a59b8aa28",
   "metadata": {},
   "outputs": [],
   "source": [
    "import numpy as np\n",
    "\n",
    "def basic_stats(numbers):\n",
    "    np_numbers = np.array(numbers)\n",
    "    my_min = np_numbers.min()\n",
    "    my_max = np_numbers.max()\n",
    "    my_mean = np_numbers.mean()\n",
    "    return my_max, my_min, my_mean\n",
    "\n",
    "list_min, list_max, list_mean = basic_stats([1, 2, 3, 4, 5])"
   ]
  },
  {
   "attachments": {},
   "cell_type": "markdown",
   "id": "2b7d900f",
   "metadata": {},
   "source": [
    "### Named functions that don’t return"
   ]
  },
  {
   "cell_type": "markdown",
   "id": "10c8e0f8-a54b-4c3a-bb79-8ee530f00795",
   "metadata": {},
   "source": [
    "A function does **not** have to `return` anything. A good example is `print()`, which does something but **does not return a value**. You will often also need functions like these, for instance, to <u>save data to a file</u>. I will show you a few of such functions in later chapters.\n"
   ]
  },
  {
   "attachments": {},
   "cell_type": "markdown",
   "id": "c341c89f",
   "metadata": {},
   "source": [
    "## 1.2 Anonymous functions"
   ]
  },
  {
   "cell_type": "markdown",
   "id": "c7c7b1af-0354-44e6-83ac-e34a11a92ee4",
   "metadata": {},
   "source": [
    "Anonymous or **lambda** functions are suitable for <u>short one-liners</u>:"
   ]
  },
  {
   "cell_type": "markdown",
   "id": "0be1005d-6410-4897-852e-edc392617abc",
   "metadata": {},
   "source": [
    "Example 1: This function accepts a single argument called `name`."
   ]
  },
  {
   "cell_type": "code",
   "execution_count": 15,
   "id": "778f418f",
   "metadata": {},
   "outputs": [],
   "source": [
    "my_short_function = lambda name: f\"Hello {name}!\""
   ]
  },
  {
   "cell_type": "markdown",
   "id": "e01a2d1c-3e17-4cb2-8a74-a15518ec9da8",
   "metadata": {},
   "source": [
    "We can use it like:"
   ]
  },
  {
   "cell_type": "code",
   "execution_count": 16,
   "id": "c5f709fc-a41e-478c-a4c5-a84c11c7daed",
   "metadata": {},
   "outputs": [
    {
     "data": {
      "text/plain": [
       "'Hello Super Man!'"
      ]
     },
     "execution_count": 16,
     "metadata": {},
     "output_type": "execute_result"
    }
   ],
   "source": [
    "my_short_function(name=\"Super Man\")"
   ]
  },
  {
   "cell_type": "markdown",
   "id": "e9de06fa-b243-4e53-b686-c2e490f417e2",
   "metadata": {},
   "source": [
    "A lambda function always returns the value of the **last** statement."
   ]
  },
  {
   "cell_type": "markdown",
   "id": "53d33cb9-e9a4-486e-bcbd-a27387177f25",
   "metadata": {},
   "source": [
    "Example 2: The above example is not a very good ‘anonymous’ one because I have used a name! So let me show you another one where things are really anonymous.\n",
    "\n",
    "Let’s say I want to sort the following 2D list."
   ]
  },
  {
   "cell_type": "code",
   "execution_count": 17,
   "id": "088e02cc-fd96-4976-856d-fc1cbec5c3f8",
   "metadata": {},
   "outputs": [],
   "source": [
    "numbers=[[9, 0, -10],\n",
    "         [8, 1, -11],\n",
    "         [7, 2, -12],\n",
    "         [6, 3, -13],\n",
    "         [5, 4, -14],\n",
    "         [4, 5, -15],\n",
    "         [3, 6, -16],\n",
    "         [2, 7, -17],\n",
    "         [1, 8, -18],\n",
    "         [0, 9, -19]]"
   ]
  },
  {
   "cell_type": "markdown",
   "id": "9a0f8bf9-9cf9-48d1-b9be-233a2824f604",
   "metadata": {},
   "source": [
    "I can use the sorted() function for this. Here are three ways I can use it."
   ]
  },
  {
   "cell_type": "code",
   "execution_count": 18,
   "id": "b23e01bd-6e1e-497c-8597-970bc454bd7d",
   "metadata": {},
   "outputs": [
    {
     "data": {
      "text/plain": [
       "[[0, 9, -19],\n",
       " [1, 8, -18],\n",
       " [2, 7, -17],\n",
       " [3, 6, -16],\n",
       " [4, 5, -15],\n",
       " [5, 4, -14],\n",
       " [6, 3, -13],\n",
       " [7, 2, -12],\n",
       " [8, 1, -11],\n",
       " [9, 0, -10]]"
      ]
     },
     "execution_count": 18,
     "metadata": {},
     "output_type": "execute_result"
    }
   ],
   "source": [
    "# Sort by comparing the default key\n",
    "# (i.e., the 1st element)\n",
    "sorted(numbers)\n",
    "#Notice that this sorting is based on comparing the first elements of the sub-lists."
   ]
  },
  {
   "cell_type": "code",
   "execution_count": 19,
   "id": "423feaf6-833b-40dc-bdd8-0626c8b06430",
   "metadata": {},
   "outputs": [
    {
     "data": {
      "text/plain": [
       "[[9, 0, -10],\n",
       " [8, 1, -11],\n",
       " [7, 2, -12],\n",
       " [6, 3, -13],\n",
       " [5, 4, -14],\n",
       " [4, 5, -15],\n",
       " [3, 6, -16],\n",
       " [2, 7, -17],\n",
       " [1, 8, -18],\n",
       " [0, 9, -19]]"
      ]
     },
     "execution_count": 19,
     "metadata": {},
     "output_type": "execute_result"
    }
   ],
   "source": [
    "# Sort by comparing a custom key\n",
    "# that uses the 2nd element (index=1)\n",
    "sorted(numbers, key=lambda x: x[1])\n",
    "#If I want to use some other criteria, \n",
    "#hen I need to specify a key that sorted() can be used for comparison. As you can see, I have used a lambda function for this."
   ]
  },
  {
   "cell_type": "code",
   "execution_count": 20,
   "id": "7e7440df-a40e-4493-87de-6a9273c57c61",
   "metadata": {},
   "outputs": [
    {
     "data": {
      "text/plain": [
       "[[0, 9, -19],\n",
       " [1, 8, -18],\n",
       " [2, 7, -17],\n",
       " [3, 6, -16],\n",
       " [4, 5, -15],\n",
       " [5, 4, -14],\n",
       " [6, 3, -13],\n",
       " [7, 2, -12],\n",
       " [8, 1, -11],\n",
       " [9, 0, -10]]"
      ]
     },
     "execution_count": 20,
     "metadata": {},
     "output_type": "execute_result"
    }
   ],
   "source": [
    "# Sort by comparing a custom key\n",
    "# that uses the sum of the elements.\n",
    "sorted(numbers, key=lambda x: sum(x))   \n",
    "#This is really powerful as I can specify almost any criterion I like.\n",
    "#For example, I can sort according to the sum of the elements of the sub-lists."
   ]
  },
  {
   "attachments": {},
   "cell_type": "markdown",
   "id": "7781a9a3",
   "metadata": {},
   "source": [
    "## 1.3 Optional arguments"
   ]
  },
  {
   "cell_type": "markdown",
   "id": "3f2e0177-b4bf-4676-807d-2456160c09af",
   "metadata": {},
   "source": [
    "Python allows us to make arguments to our function **optional**. To do this, we need to give the argument a **default value** so that it **always has something to work with**."
   ]
  },
  {
   "cell_type": "code",
   "execution_count": 21,
   "id": "e9a6f270-6f4d-4693-9388-746721928941",
   "metadata": {},
   "outputs": [],
   "source": [
    "def greeting(name='no one'):\n",
    "    if name == 'Batman':\n",
    "        return 'Hello Batman! So, nice to meet you!'\n",
    "    else:\n",
    "        return f'Hello {name}!'"
   ]
  },
  {
   "cell_type": "markdown",
   "id": "1a850e8b-49a0-4f53-b8a8-1c7a9b0b8260",
   "metadata": {},
   "source": [
    "Now we can run this function without an argument, and it will still work without throwing an error."
   ]
  },
  {
   "cell_type": "code",
   "execution_count": 22,
   "id": "56c22946-f503-453a-9cd2-5570e94d1c65",
   "metadata": {},
   "outputs": [
    {
     "data": {
      "text/plain": [
       "'Hello no one!'"
      ]
     },
     "execution_count": 22,
     "metadata": {},
     "output_type": "execute_result"
    }
   ],
   "source": [
    "greeting()"
   ]
  },
  {
   "cell_type": "markdown",
   "id": "2d0af8ea-bab8-44b3-a818-fc0551c9ecee",
   "metadata": {},
   "source": [
    "For another example, let’s look at the documentation for `print()`."
   ]
  },
  {
   "cell_type": "code",
   "execution_count": 23,
   "id": "5d0e23df-db12-4f97-a3b2-2b57e94e6774",
   "metadata": {},
   "outputs": [
    {
     "data": {
      "text/plain": [
       "\u001b[0;31mSignature:\u001b[0m \u001b[0mprint\u001b[0m\u001b[0;34m(\u001b[0m\u001b[0;34m*\u001b[0m\u001b[0margs\u001b[0m\u001b[0;34m,\u001b[0m \u001b[0msep\u001b[0m\u001b[0;34m=\u001b[0m\u001b[0;34m' '\u001b[0m\u001b[0;34m,\u001b[0m \u001b[0mend\u001b[0m\u001b[0;34m=\u001b[0m\u001b[0;34m'\\n'\u001b[0m\u001b[0;34m,\u001b[0m \u001b[0mfile\u001b[0m\u001b[0;34m=\u001b[0m\u001b[0;32mNone\u001b[0m\u001b[0;34m,\u001b[0m \u001b[0mflush\u001b[0m\u001b[0;34m=\u001b[0m\u001b[0;32mFalse\u001b[0m\u001b[0;34m)\u001b[0m\u001b[0;34m\u001b[0m\u001b[0;34m\u001b[0m\u001b[0m\n",
       "\u001b[0;31mDocstring:\u001b[0m\n",
       "Prints the values to a stream, or to sys.stdout by default.\n",
       "\n",
       "sep\n",
       "  string inserted between values, default a space.\n",
       "end\n",
       "  string appended after the last value, default a newline.\n",
       "file\n",
       "  a file-like object (stream); defaults to the current sys.stdout.\n",
       "flush\n",
       "  whether to forcibly flush the stream.\n",
       "\u001b[0;31mType:\u001b[0m      builtin_function_or_method"
      ]
     },
     "metadata": {},
     "output_type": "display_data"
    }
   ],
   "source": [
    "?print"
   ]
  },
  {
   "cell_type": "markdown",
   "id": "9e7b2186-b09d-454a-8ad2-cc1f87fce3fd",
   "metadata": {},
   "source": [
    "You see that `print()` can accept other arguments that are optional with default values. However, we can specify them if we like; here goes."
   ]
  },
  {
   "cell_type": "code",
   "execution_count": 24,
   "id": "ed45f30b-972c-498c-9048-c205bb3de850",
   "metadata": {},
   "outputs": [
    {
     "name": "stdout",
     "output_type": "stream",
     "text": [
      "I am Batman!\n"
     ]
    }
   ],
   "source": [
    "# Using default values\n",
    "print('I', 'am', 'Batman!')"
   ]
  },
  {
   "cell_type": "code",
   "execution_count": 25,
   "id": "e25c84c6-6e8e-40c5-84c8-ccb9c7c912c5",
   "metadata": {},
   "outputs": [
    {
     "name": "stdout",
     "output_type": "stream",
     "text": [
      "I---am---Batman!\n"
     ]
    }
   ],
   "source": [
    "# Specifying an optional argument\n",
    "print('I', 'am', 'Batman!', sep='---')  "
   ]
  },
  {
   "cell_type": "markdown",
   "id": "2de4979e-021c-4269-83c7-dda4bf756456",
   "metadata": {},
   "source": [
    "<div class=\"alert alert-block alert-success\">\n",
    "<b>Remember:</b>\n",
    "<ol>\n",
    "    <li>you can define your own functions</li>\n",
    "    <li>functions can have optional arguments</li>\n",
    "    <li>functions don’t always have to return anything.</li>\n",
    "</div>"
   ]
  },
  {
   "attachments": {},
   "cell_type": "markdown",
   "id": "01ae47b0",
   "metadata": {},
   "source": [
    "## 1.4 The importance of functions?"
   ]
  },
  {
   "attachments": {},
   "cell_type": "markdown",
   "id": "5f9ca50a",
   "metadata": {},
   "source": [
    "### An argument for functions"
   ]
  },
  {
   "cell_type": "markdown",
   "id": "bd402446-1c4a-4653-8e2f-2bd1dde98cd8",
   "metadata": {},
   "source": [
    "<u>why functions are a good idea</u>\n",
    "\n",
    "1. **Abstraction of details** The most important benefit of functions goes beyond programming and relates to your ability to strategize. If you break up a complicated solution into modular chunks (i.e., functions), it becomes easier to think about it because you are not dealing with all the details all at once. As a result, it is easier to focus on your overall solution because you are not distracted by unnecessary information. This hiding of ‘stuff’ is called abstraction in computer science lingo. The concept of abstraction can be tricky to grasp. So, let me share an analogy related to driving.\n",
    "  \n",
    "   A vehicle has many ‘abstracted’ systems, amongst which the engine is a good example. You do not need to know the engine’s details (e.g. electric, petrol, diesel, guineapig) to use it. You can use the engine of almost any car because you are not required to know what happens inside. This frees up your resources because you are not distracted by unnecessary details. Of course, there will be times when you want to know how an engine works to pick the best engine.\n",
    "\n",
    "1. **Reusability of code** If you encapsulate a chunk of code in a function, it becomes straightforward to reuse it instead of copying and pasting at different places. This means your code will be shorter and more compact.\n",
    "\n",
    "1. **Maintainability of code** With functions, your code is easier to change and maintain because you need only make changes in one place, at the function definition."
   ]
  },
  {
   "attachments": {},
   "cell_type": "markdown",
   "id": "841571c8",
   "metadata": {},
   "source": [
    "### A word of caution"
   ]
  },
  {
   "cell_type": "markdown",
   "id": "fe89cd94-0d11-401d-bf75-bd4ef2473372",
   "metadata": {},
   "source": [
    "I have seen many instances where functions are **abused**; for example, by trying to do too many things or having too many arguments. They can also be **overused**. Having too many functions can make it difficult to read your code and also increase computational overheads. You will get a better feel for when to use functions with experience, but please bear in mind that functions can be misused."
   ]
  }
 ],
 "metadata": {
  "kernelspec": {
   "display_name": "Python 3 (ipykernel)",
   "language": "python",
   "name": "python3"
  },
  "language_info": {
   "codemirror_mode": {
    "name": "ipython",
    "version": 3
   },
   "file_extension": ".py",
   "mimetype": "text/x-python",
   "name": "python",
   "nbconvert_exporter": "python",
   "pygments_lexer": "ipython3",
   "version": "3.11.7"
  },
  "toc": {
   "base_numbering": 1,
   "nav_menu": {},
   "number_sections": true,
   "sideBar": true,
   "skip_h1_title": false,
   "title_cell": "Table of Contents",
   "title_sidebar": "Contents",
   "toc_cell": false,
   "toc_position": {},
   "toc_section_display": true,
   "toc_window_display": false
  },
  "vscode": {
   "interpreter": {
    "hash": "31f2aee4e71d21fbe5cf8b01ff0e069b9275f58929596ceb00d14d90e3e16cd6"
   }
  }
 },
 "nbformat": 4,
 "nbformat_minor": 5
}
